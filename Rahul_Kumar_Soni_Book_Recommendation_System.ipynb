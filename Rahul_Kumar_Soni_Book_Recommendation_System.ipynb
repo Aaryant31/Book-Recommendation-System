{
  "nbformat": 4,
  "nbformat_minor": 0,
  "metadata": {
    "colab": {
      "name": "Rahul_Kumar_Soni_Book Recommendation System.ipynb",
      "provenance": [],
      "collapsed_sections": [
        "opuHhKKlB8UX",
        "i8AOOa3SY0E9",
        "jBdVm6O6ZK8o",
        "OBP6EbSqZ1-Z",
        "EvUOMnmjjEdm",
        "Axxb5OcHbTe4"
      ],
      "authorship_tag": "ABX9TyMnXXXJPTK+DLfwfsXZ2Mva",
      "include_colab_link": true
    },
    "kernelspec": {
      "name": "python3",
      "display_name": "Python 3"
    },
    "language_info": {
      "name": "python"
    }
  },
  "cells": [
    {
      "cell_type": "markdown",
      "metadata": {
        "id": "view-in-github",
        "colab_type": "text"
      },
      "source": [
        "<a href=\"https://colab.research.google.com/github/Aaryant31/Book-Recommendation-System/blob/main/Rahul_Kumar_Soni_Book_Recommendation_System.ipynb\" target=\"_parent\"><img src=\"https://colab.research.google.com/assets/colab-badge.svg\" alt=\"Open In Colab\"/></a>"
      ]
    },
    {
      "cell_type": "code",
      "metadata": {
        "id": "WMQ38Mgr-zcT"
      },
      "source": [
        "#importing libraries\n",
        "import numpy as np\n",
        "import pandas as pd\n",
        "import matplotlib.pyplot as plt\n",
        "import seaborn as sns\n",
        "import warnings\n",
        "warnings.filterwarnings('ignore')"
      ],
      "execution_count": 154,
      "outputs": []
    },
    {
      "cell_type": "code",
      "metadata": {
        "id": "FvsN_4nV-4sa",
        "colab": {
          "base_uri": "https://localhost:8080/"
        },
        "outputId": "46d6c892-e4fb-46a5-eafc-79e1b18e4fce"
      },
      "source": [
        "from google.colab import drive\n",
        "drive.mount('/content/drive')"
      ],
      "execution_count": 155,
      "outputs": [
        {
          "output_type": "stream",
          "name": "stdout",
          "text": [
            "Drive already mounted at /content/drive; to attempt to forcibly remount, call drive.mount(\"/content/drive\", force_remount=True).\n"
          ]
        }
      ]
    },
    {
      "cell_type": "code",
      "metadata": {
        "id": "rPqoR68C_6-B"
      },
      "source": [
        "data_dir='/content/drive/MyDrive/Almabetter/Book Recommender System/DAT/'"
      ],
      "execution_count": 156,
      "outputs": []
    },
    {
      "cell_type": "code",
      "metadata": {
        "id": "2uTprVfh_h46"
      },
      "source": [
        "books_df=pd.read_csv(data_dir + 'Books.csv')\n",
        "users_df=pd.read_csv(data_dir + 'Users.csv')\n",
        "ratings_df=pd.read_csv(data_dir + 'Ratings.csv')\n"
      ],
      "execution_count": 157,
      "outputs": []
    },
    {
      "cell_type": "code",
      "metadata": {
        "colab": {
          "base_uri": "https://localhost:8080/"
        },
        "id": "rzV7LmPPAMi4",
        "outputId": "d9f989cf-746d-4e69-fdc4-1cf7ac461716"
      },
      "source": [
        "print(\"books Data:    \", books_df.shape)\n",
        "print(\"Users Data:    \", users_df.shape)\n",
        "print(\"ratings Data: \", ratings_df.shape)"
      ],
      "execution_count": 158,
      "outputs": [
        {
          "output_type": "stream",
          "name": "stdout",
          "text": [
            "books Data:     (271360, 8)\n",
            "Users Data:     (278858, 3)\n",
            "ratings Data:  (1149780, 3)\n"
          ]
        }
      ]
    },
    {
      "cell_type": "markdown",
      "metadata": {
        "id": "oPC9sOk1B1ZI"
      },
      "source": [
        "# Data cleaning and pre-processing"
      ]
    },
    {
      "cell_type": "markdown",
      "metadata": {
        "id": "opuHhKKlB8UX"
      },
      "source": [
        "## books_df Data cleaning and pre-processing"
      ]
    },
    {
      "cell_type": "code",
      "metadata": {
        "colab": {
          "base_uri": "https://localhost:8080/",
          "height": 0
        },
        "id": "87cfw4UuBTcQ",
        "outputId": "20af1cb2-1331-4c37-c4bb-a443ed0f58c9"
      },
      "source": [
        "print(\"Columns: \", list(books_df.columns))\n",
        "books_df.head()"
      ],
      "execution_count": 159,
      "outputs": [
        {
          "output_type": "stream",
          "name": "stdout",
          "text": [
            "Columns:  ['ISBN', 'Book-Title', 'Book-Author', 'Year-Of-Publication', 'Publisher', 'Image-URL-S', 'Image-URL-M', 'Image-URL-L']\n"
          ]
        },
        {
          "output_type": "execute_result",
          "data": {
            "text/html": [
              "<div>\n",
              "<style scoped>\n",
              "    .dataframe tbody tr th:only-of-type {\n",
              "        vertical-align: middle;\n",
              "    }\n",
              "\n",
              "    .dataframe tbody tr th {\n",
              "        vertical-align: top;\n",
              "    }\n",
              "\n",
              "    .dataframe thead th {\n",
              "        text-align: right;\n",
              "    }\n",
              "</style>\n",
              "<table border=\"1\" class=\"dataframe\">\n",
              "  <thead>\n",
              "    <tr style=\"text-align: right;\">\n",
              "      <th></th>\n",
              "      <th>ISBN</th>\n",
              "      <th>Book-Title</th>\n",
              "      <th>Book-Author</th>\n",
              "      <th>Year-Of-Publication</th>\n",
              "      <th>Publisher</th>\n",
              "      <th>Image-URL-S</th>\n",
              "      <th>Image-URL-M</th>\n",
              "      <th>Image-URL-L</th>\n",
              "    </tr>\n",
              "  </thead>\n",
              "  <tbody>\n",
              "    <tr>\n",
              "      <th>0</th>\n",
              "      <td>0195153448</td>\n",
              "      <td>Classical Mythology</td>\n",
              "      <td>Mark P. O. Morford</td>\n",
              "      <td>2002</td>\n",
              "      <td>Oxford University Press</td>\n",
              "      <td>http://images.amazon.com/images/P/0195153448.0...</td>\n",
              "      <td>http://images.amazon.com/images/P/0195153448.0...</td>\n",
              "      <td>http://images.amazon.com/images/P/0195153448.0...</td>\n",
              "    </tr>\n",
              "    <tr>\n",
              "      <th>1</th>\n",
              "      <td>0002005018</td>\n",
              "      <td>Clara Callan</td>\n",
              "      <td>Richard Bruce Wright</td>\n",
              "      <td>2001</td>\n",
              "      <td>HarperFlamingo Canada</td>\n",
              "      <td>http://images.amazon.com/images/P/0002005018.0...</td>\n",
              "      <td>http://images.amazon.com/images/P/0002005018.0...</td>\n",
              "      <td>http://images.amazon.com/images/P/0002005018.0...</td>\n",
              "    </tr>\n",
              "    <tr>\n",
              "      <th>2</th>\n",
              "      <td>0060973129</td>\n",
              "      <td>Decision in Normandy</td>\n",
              "      <td>Carlo D'Este</td>\n",
              "      <td>1991</td>\n",
              "      <td>HarperPerennial</td>\n",
              "      <td>http://images.amazon.com/images/P/0060973129.0...</td>\n",
              "      <td>http://images.amazon.com/images/P/0060973129.0...</td>\n",
              "      <td>http://images.amazon.com/images/P/0060973129.0...</td>\n",
              "    </tr>\n",
              "    <tr>\n",
              "      <th>3</th>\n",
              "      <td>0374157065</td>\n",
              "      <td>Flu: The Story of the Great Influenza Pandemic...</td>\n",
              "      <td>Gina Bari Kolata</td>\n",
              "      <td>1999</td>\n",
              "      <td>Farrar Straus Giroux</td>\n",
              "      <td>http://images.amazon.com/images/P/0374157065.0...</td>\n",
              "      <td>http://images.amazon.com/images/P/0374157065.0...</td>\n",
              "      <td>http://images.amazon.com/images/P/0374157065.0...</td>\n",
              "    </tr>\n",
              "    <tr>\n",
              "      <th>4</th>\n",
              "      <td>0393045218</td>\n",
              "      <td>The Mummies of Urumchi</td>\n",
              "      <td>E. J. W. Barber</td>\n",
              "      <td>1999</td>\n",
              "      <td>W. W. Norton &amp;amp; Company</td>\n",
              "      <td>http://images.amazon.com/images/P/0393045218.0...</td>\n",
              "      <td>http://images.amazon.com/images/P/0393045218.0...</td>\n",
              "      <td>http://images.amazon.com/images/P/0393045218.0...</td>\n",
              "    </tr>\n",
              "  </tbody>\n",
              "</table>\n",
              "</div>"
            ],
            "text/plain": [
              "         ISBN  ...                                        Image-URL-L\n",
              "0  0195153448  ...  http://images.amazon.com/images/P/0195153448.0...\n",
              "1  0002005018  ...  http://images.amazon.com/images/P/0002005018.0...\n",
              "2  0060973129  ...  http://images.amazon.com/images/P/0060973129.0...\n",
              "3  0374157065  ...  http://images.amazon.com/images/P/0374157065.0...\n",
              "4  0393045218  ...  http://images.amazon.com/images/P/0393045218.0...\n",
              "\n",
              "[5 rows x 8 columns]"
            ]
          },
          "metadata": {},
          "execution_count": 159
        }
      ]
    },
    {
      "cell_type": "code",
      "metadata": {
        "colab": {
          "base_uri": "https://localhost:8080/",
          "height": 0
        },
        "id": "D-aYPH2QCGnv",
        "outputId": "b559ca09-dfa7-4472-d484-9e4cd7a517fd"
      },
      "source": [
        "## Drop URL columns\n",
        "books_df.drop(['Image-URL-S', 'Image-URL-M', 'Image-URL-L'], axis=1, inplace=True)\n",
        "books_df.head()"
      ],
      "execution_count": 160,
      "outputs": [
        {
          "output_type": "execute_result",
          "data": {
            "text/html": [
              "<div>\n",
              "<style scoped>\n",
              "    .dataframe tbody tr th:only-of-type {\n",
              "        vertical-align: middle;\n",
              "    }\n",
              "\n",
              "    .dataframe tbody tr th {\n",
              "        vertical-align: top;\n",
              "    }\n",
              "\n",
              "    .dataframe thead th {\n",
              "        text-align: right;\n",
              "    }\n",
              "</style>\n",
              "<table border=\"1\" class=\"dataframe\">\n",
              "  <thead>\n",
              "    <tr style=\"text-align: right;\">\n",
              "      <th></th>\n",
              "      <th>ISBN</th>\n",
              "      <th>Book-Title</th>\n",
              "      <th>Book-Author</th>\n",
              "      <th>Year-Of-Publication</th>\n",
              "      <th>Publisher</th>\n",
              "    </tr>\n",
              "  </thead>\n",
              "  <tbody>\n",
              "    <tr>\n",
              "      <th>0</th>\n",
              "      <td>0195153448</td>\n",
              "      <td>Classical Mythology</td>\n",
              "      <td>Mark P. O. Morford</td>\n",
              "      <td>2002</td>\n",
              "      <td>Oxford University Press</td>\n",
              "    </tr>\n",
              "    <tr>\n",
              "      <th>1</th>\n",
              "      <td>0002005018</td>\n",
              "      <td>Clara Callan</td>\n",
              "      <td>Richard Bruce Wright</td>\n",
              "      <td>2001</td>\n",
              "      <td>HarperFlamingo Canada</td>\n",
              "    </tr>\n",
              "    <tr>\n",
              "      <th>2</th>\n",
              "      <td>0060973129</td>\n",
              "      <td>Decision in Normandy</td>\n",
              "      <td>Carlo D'Este</td>\n",
              "      <td>1991</td>\n",
              "      <td>HarperPerennial</td>\n",
              "    </tr>\n",
              "    <tr>\n",
              "      <th>3</th>\n",
              "      <td>0374157065</td>\n",
              "      <td>Flu: The Story of the Great Influenza Pandemic...</td>\n",
              "      <td>Gina Bari Kolata</td>\n",
              "      <td>1999</td>\n",
              "      <td>Farrar Straus Giroux</td>\n",
              "    </tr>\n",
              "    <tr>\n",
              "      <th>4</th>\n",
              "      <td>0393045218</td>\n",
              "      <td>The Mummies of Urumchi</td>\n",
              "      <td>E. J. W. Barber</td>\n",
              "      <td>1999</td>\n",
              "      <td>W. W. Norton &amp;amp; Company</td>\n",
              "    </tr>\n",
              "  </tbody>\n",
              "</table>\n",
              "</div>"
            ],
            "text/plain": [
              "         ISBN  ...                   Publisher\n",
              "0  0195153448  ...     Oxford University Press\n",
              "1  0002005018  ...       HarperFlamingo Canada\n",
              "2  0060973129  ...             HarperPerennial\n",
              "3  0374157065  ...        Farrar Straus Giroux\n",
              "4  0393045218  ...  W. W. Norton &amp; Company\n",
              "\n",
              "[5 rows x 5 columns]"
            ]
          },
          "metadata": {},
          "execution_count": 160
        }
      ]
    },
    {
      "cell_type": "code",
      "metadata": {
        "colab": {
          "base_uri": "https://localhost:8080/"
        },
        "id": "KRO_gggDCRqz",
        "outputId": "4461e2be-b347-4946-8448-2802fe28690d"
      },
      "source": [
        "## Checking for null values\n",
        "books_df.isnull().sum()"
      ],
      "execution_count": 161,
      "outputs": [
        {
          "output_type": "execute_result",
          "data": {
            "text/plain": [
              "ISBN                   0\n",
              "Book-Title             0\n",
              "Book-Author            1\n",
              "Year-Of-Publication    0\n",
              "Publisher              2\n",
              "dtype: int64"
            ]
          },
          "metadata": {},
          "execution_count": 161
        }
      ]
    },
    {
      "cell_type": "code",
      "metadata": {
        "colab": {
          "base_uri": "https://localhost:8080/",
          "height": 0
        },
        "id": "nzfbLsSGCVPH",
        "outputId": "b19eb6f3-ded8-4bc9-c4ba-1a774fab9d5a"
      },
      "source": [
        "books_df[books_df['Book-Author'].isnull()]"
      ],
      "execution_count": 162,
      "outputs": [
        {
          "output_type": "execute_result",
          "data": {
            "text/html": [
              "<div>\n",
              "<style scoped>\n",
              "    .dataframe tbody tr th:only-of-type {\n",
              "        vertical-align: middle;\n",
              "    }\n",
              "\n",
              "    .dataframe tbody tr th {\n",
              "        vertical-align: top;\n",
              "    }\n",
              "\n",
              "    .dataframe thead th {\n",
              "        text-align: right;\n",
              "    }\n",
              "</style>\n",
              "<table border=\"1\" class=\"dataframe\">\n",
              "  <thead>\n",
              "    <tr style=\"text-align: right;\">\n",
              "      <th></th>\n",
              "      <th>ISBN</th>\n",
              "      <th>Book-Title</th>\n",
              "      <th>Book-Author</th>\n",
              "      <th>Year-Of-Publication</th>\n",
              "      <th>Publisher</th>\n",
              "    </tr>\n",
              "  </thead>\n",
              "  <tbody>\n",
              "    <tr>\n",
              "      <th>187689</th>\n",
              "      <td>9627982032</td>\n",
              "      <td>The Credit Suisse Guide to Managing Your Perso...</td>\n",
              "      <td>NaN</td>\n",
              "      <td>1995</td>\n",
              "      <td>Edinburgh Financial Publishing</td>\n",
              "    </tr>\n",
              "  </tbody>\n",
              "</table>\n",
              "</div>"
            ],
            "text/plain": [
              "              ISBN  ...                       Publisher\n",
              "187689  9627982032  ...  Edinburgh Financial Publishing\n",
              "\n",
              "[1 rows x 5 columns]"
            ]
          },
          "metadata": {},
          "execution_count": 162
        }
      ]
    },
    {
      "cell_type": "code",
      "metadata": {
        "id": "FdGwbTMvCeg_",
        "colab": {
          "base_uri": "https://localhost:8080/",
          "height": 0
        },
        "outputId": "0c5af344-732b-488e-8ef8-80a5e34eebd8"
      },
      "source": [
        "books_df[books_df['Publisher'].isnull()]"
      ],
      "execution_count": 163,
      "outputs": [
        {
          "output_type": "execute_result",
          "data": {
            "text/html": [
              "<div>\n",
              "<style scoped>\n",
              "    .dataframe tbody tr th:only-of-type {\n",
              "        vertical-align: middle;\n",
              "    }\n",
              "\n",
              "    .dataframe tbody tr th {\n",
              "        vertical-align: top;\n",
              "    }\n",
              "\n",
              "    .dataframe thead th {\n",
              "        text-align: right;\n",
              "    }\n",
              "</style>\n",
              "<table border=\"1\" class=\"dataframe\">\n",
              "  <thead>\n",
              "    <tr style=\"text-align: right;\">\n",
              "      <th></th>\n",
              "      <th>ISBN</th>\n",
              "      <th>Book-Title</th>\n",
              "      <th>Book-Author</th>\n",
              "      <th>Year-Of-Publication</th>\n",
              "      <th>Publisher</th>\n",
              "    </tr>\n",
              "  </thead>\n",
              "  <tbody>\n",
              "    <tr>\n",
              "      <th>128890</th>\n",
              "      <td>193169656X</td>\n",
              "      <td>Tyrant Moon</td>\n",
              "      <td>Elaine Corvidae</td>\n",
              "      <td>2002</td>\n",
              "      <td>NaN</td>\n",
              "    </tr>\n",
              "    <tr>\n",
              "      <th>129037</th>\n",
              "      <td>1931696993</td>\n",
              "      <td>Finders Keepers</td>\n",
              "      <td>Linnea Sinclair</td>\n",
              "      <td>2001</td>\n",
              "      <td>NaN</td>\n",
              "    </tr>\n",
              "  </tbody>\n",
              "</table>\n",
              "</div>"
            ],
            "text/plain": [
              "              ISBN       Book-Title  ... Year-Of-Publication Publisher\n",
              "128890  193169656X      Tyrant Moon  ...                2002       NaN\n",
              "129037  1931696993  Finders Keepers  ...                2001       NaN\n",
              "\n",
              "[2 rows x 5 columns]"
            ]
          },
          "metadata": {},
          "execution_count": 163
        }
      ]
    },
    {
      "cell_type": "code",
      "metadata": {
        "id": "6cnnmWm1C1Nn"
      },
      "source": [
        "books_df['Book-Author'].fillna('other',inplace=True)"
      ],
      "execution_count": 164,
      "outputs": []
    },
    {
      "cell_type": "code",
      "metadata": {
        "id": "zfQXn0-LDEz-"
      },
      "source": [
        "books_df['Publisher'].fillna('other',inplace=True)"
      ],
      "execution_count": 165,
      "outputs": []
    },
    {
      "cell_type": "code",
      "metadata": {
        "id": "O2U4k-3UDYaG",
        "colab": {
          "base_uri": "https://localhost:8080/"
        },
        "outputId": "005d1cae-2924-429d-e230-0a0344ae00a7"
      },
      "source": [
        "books_df.isnull().sum()"
      ],
      "execution_count": 166,
      "outputs": [
        {
          "output_type": "execute_result",
          "data": {
            "text/plain": [
              "ISBN                   0\n",
              "Book-Title             0\n",
              "Book-Author            0\n",
              "Year-Of-Publication    0\n",
              "Publisher              0\n",
              "dtype: int64"
            ]
          },
          "metadata": {},
          "execution_count": 166
        }
      ]
    },
    {
      "cell_type": "code",
      "metadata": {
        "id": "UOofhjEoD24W",
        "colab": {
          "base_uri": "https://localhost:8080/"
        },
        "outputId": "55e8fad6-4e18-4b6e-a907-1921d4a4105f"
      },
      "source": [
        "## Checking for column Year-of-publication\n",
        "books_df['Year-Of-Publication'].unique()"
      ],
      "execution_count": 167,
      "outputs": [
        {
          "output_type": "execute_result",
          "data": {
            "text/plain": [
              "array([2002, 2001, 1991, 1999, 2000, 1993, 1996, 1988, 2004, 1998, 1994,\n",
              "       2003, 1997, 1983, 1979, 1995, 1982, 1985, 1992, 1986, 1978, 1980,\n",
              "       1952, 1987, 1990, 1981, 1989, 1984, 0, 1968, 1961, 1958, 1974,\n",
              "       1976, 1971, 1977, 1975, 1965, 1941, 1970, 1962, 1973, 1972, 1960,\n",
              "       1966, 1920, 1956, 1959, 1953, 1951, 1942, 1963, 1964, 1969, 1954,\n",
              "       1950, 1967, 2005, 1957, 1940, 1937, 1955, 1946, 1936, 1930, 2011,\n",
              "       1925, 1948, 1943, 1947, 1945, 1923, 2020, 1939, 1926, 1938, 2030,\n",
              "       1911, 1904, 1949, 1932, 1928, 1929, 1927, 1931, 1914, 2050, 1934,\n",
              "       1910, 1933, 1902, 1924, 1921, 1900, 2038, 2026, 1944, 1917, 1901,\n",
              "       2010, 1908, 1906, 1935, 1806, 2021, '2000', '1995', '1999', '2004',\n",
              "       '2003', '1990', '1994', '1986', '1989', '2002', '1981', '1993',\n",
              "       '1983', '1982', '1976', '1991', '1977', '1998', '1992', '1996',\n",
              "       '0', '1997', '2001', '1974', '1968', '1987', '1984', '1988',\n",
              "       '1963', '1956', '1970', '1985', '1978', '1973', '1980', '1979',\n",
              "       '1975', '1969', '1961', '1965', '1939', '1958', '1950', '1953',\n",
              "       '1966', '1971', '1959', '1972', '1955', '1957', '1945', '1960',\n",
              "       '1967', '1932', '1924', '1964', '2012', '1911', '1927', '1948',\n",
              "       '1962', '2006', '1952', '1940', '1951', '1931', '1954', '2005',\n",
              "       '1930', '1941', '1944', 'DK Publishing Inc', '1943', '1938',\n",
              "       '1900', '1942', '1923', '1920', '1933', 'Gallimard', '1909',\n",
              "       '1946', '2008', '1378', '2030', '1936', '1947', '2011', '2020',\n",
              "       '1919', '1949', '1922', '1897', '2024', '1376', '1926', '2037'],\n",
              "      dtype=object)"
            ]
          },
          "metadata": {},
          "execution_count": 167
        }
      ]
    },
    {
      "cell_type": "code",
      "metadata": {
        "id": "CvCo7OH4D6Ju",
        "colab": {
          "base_uri": "https://localhost:8080/",
          "height": 0
        },
        "outputId": "60da70cc-f1c5-40e2-b789-6814fa93920f"
      },
      "source": [
        "books_df[books_df['Year-Of-Publication'] == 'DK Publishing Inc']"
      ],
      "execution_count": 168,
      "outputs": [
        {
          "output_type": "execute_result",
          "data": {
            "text/html": [
              "<div>\n",
              "<style scoped>\n",
              "    .dataframe tbody tr th:only-of-type {\n",
              "        vertical-align: middle;\n",
              "    }\n",
              "\n",
              "    .dataframe tbody tr th {\n",
              "        vertical-align: top;\n",
              "    }\n",
              "\n",
              "    .dataframe thead th {\n",
              "        text-align: right;\n",
              "    }\n",
              "</style>\n",
              "<table border=\"1\" class=\"dataframe\">\n",
              "  <thead>\n",
              "    <tr style=\"text-align: right;\">\n",
              "      <th></th>\n",
              "      <th>ISBN</th>\n",
              "      <th>Book-Title</th>\n",
              "      <th>Book-Author</th>\n",
              "      <th>Year-Of-Publication</th>\n",
              "      <th>Publisher</th>\n",
              "    </tr>\n",
              "  </thead>\n",
              "  <tbody>\n",
              "    <tr>\n",
              "      <th>209538</th>\n",
              "      <td>078946697X</td>\n",
              "      <td>DK Readers: Creating the X-Men, How It All Beg...</td>\n",
              "      <td>2000</td>\n",
              "      <td>DK Publishing Inc</td>\n",
              "      <td>http://images.amazon.com/images/P/078946697X.0...</td>\n",
              "    </tr>\n",
              "    <tr>\n",
              "      <th>221678</th>\n",
              "      <td>0789466953</td>\n",
              "      <td>DK Readers: Creating the X-Men, How Comic Book...</td>\n",
              "      <td>2000</td>\n",
              "      <td>DK Publishing Inc</td>\n",
              "      <td>http://images.amazon.com/images/P/0789466953.0...</td>\n",
              "    </tr>\n",
              "  </tbody>\n",
              "</table>\n",
              "</div>"
            ],
            "text/plain": [
              "              ISBN  ...                                          Publisher\n",
              "209538  078946697X  ...  http://images.amazon.com/images/P/078946697X.0...\n",
              "221678  0789466953  ...  http://images.amazon.com/images/P/0789466953.0...\n",
              "\n",
              "[2 rows x 5 columns]"
            ]
          },
          "metadata": {},
          "execution_count": 168
        }
      ]
    },
    {
      "cell_type": "code",
      "metadata": {
        "id": "OlUkLo7GEtau",
        "colab": {
          "base_uri": "https://localhost:8080/",
          "height": 0
        },
        "outputId": "b53c5ed4-f9c7-41df-c303-8a5dd4172ab1"
      },
      "source": [
        "books_df[books_df['Year-Of-Publication'] == 'Gallimard']"
      ],
      "execution_count": 169,
      "outputs": [
        {
          "output_type": "execute_result",
          "data": {
            "text/html": [
              "<div>\n",
              "<style scoped>\n",
              "    .dataframe tbody tr th:only-of-type {\n",
              "        vertical-align: middle;\n",
              "    }\n",
              "\n",
              "    .dataframe tbody tr th {\n",
              "        vertical-align: top;\n",
              "    }\n",
              "\n",
              "    .dataframe thead th {\n",
              "        text-align: right;\n",
              "    }\n",
              "</style>\n",
              "<table border=\"1\" class=\"dataframe\">\n",
              "  <thead>\n",
              "    <tr style=\"text-align: right;\">\n",
              "      <th></th>\n",
              "      <th>ISBN</th>\n",
              "      <th>Book-Title</th>\n",
              "      <th>Book-Author</th>\n",
              "      <th>Year-Of-Publication</th>\n",
              "      <th>Publisher</th>\n",
              "    </tr>\n",
              "  </thead>\n",
              "  <tbody>\n",
              "    <tr>\n",
              "      <th>220731</th>\n",
              "      <td>2070426769</td>\n",
              "      <td>Peuple du ciel, suivi de 'Les Bergers\\\";Jean-M...</td>\n",
              "      <td>2003</td>\n",
              "      <td>Gallimard</td>\n",
              "      <td>http://images.amazon.com/images/P/2070426769.0...</td>\n",
              "    </tr>\n",
              "  </tbody>\n",
              "</table>\n",
              "</div>"
            ],
            "text/plain": [
              "              ISBN  ...                                          Publisher\n",
              "220731  2070426769  ...  http://images.amazon.com/images/P/2070426769.0...\n",
              "\n",
              "[1 rows x 5 columns]"
            ]
          },
          "metadata": {},
          "execution_count": 169
        }
      ]
    },
    {
      "cell_type": "code",
      "metadata": {
        "id": "JnIxaggsIAKE"
      },
      "source": [
        "books_df.at[209538 ,'Publisher'] = 'DK Publishing Inc'\n",
        "books_df.at[209538 ,'Year-Of-Publication'] = 2000\n",
        "books_df.at[209538 ,'Book-Title'] = 'DK Readers: Creating the X-Men, How It All Began (Level 4: Proficient Readers)'\n",
        "books_df.at[209538 ,'Book-Author'] = 'Michael Teitelbaum'\n",
        "\n",
        "books_df.at[221678 ,'Publisher'] = 'DK Publishing Inc'\n",
        "books_df.at[221678 ,'Year-Of-Publication'] = 2000\n",
        "books_df.at[209538 ,'Book-Title'] = 'DK Readers: Creating the X-Men, How Comic Boofksf Come to Life (Level 4: Proficient Readers)'\n",
        "books_df.at[209538 ,'Book-Author'] = 'James Buckley'\n",
        "\n",
        "books_df.at[220731 ,'Publisher'] = 'Gallimard'\n",
        "books_df.at[220731 ,'Year-Of-Publication'] = '2003'\n",
        "books_df.at[209538 ,'Book-Title'] = 'Peuple du ciel - Suivi de Les bergers '\n",
        "books_df.at[209538 ,'Book-Author'] = 'Jean-Marie Gustave Le ClÃ?Â©zio'"
      ],
      "execution_count": 170,
      "outputs": []
    },
    {
      "cell_type": "code",
      "metadata": {
        "id": "bpLC7rl5FDVF"
      },
      "source": [
        "## Converting year of publication in Numbers\n",
        "books_df['Year-Of-Publication'] = books_df['Year-Of-Publication'].astype(int)"
      ],
      "execution_count": 171,
      "outputs": []
    },
    {
      "cell_type": "code",
      "metadata": {
        "id": "5wzgpmXrFUCt",
        "colab": {
          "base_uri": "https://localhost:8080/"
        },
        "outputId": "53872bff-8329-4847-f00a-e6eb07c9af0b"
      },
      "source": [
        "print(sorted(list(books_df['Year-Of-Publication'].unique())))"
      ],
      "execution_count": 172,
      "outputs": [
        {
          "output_type": "stream",
          "name": "stdout",
          "text": [
            "[0, 1376, 1378, 1806, 1897, 1900, 1901, 1902, 1904, 1906, 1908, 1909, 1910, 1911, 1914, 1917, 1919, 1920, 1921, 1922, 1923, 1924, 1925, 1926, 1927, 1928, 1929, 1930, 1931, 1932, 1933, 1934, 1935, 1936, 1937, 1938, 1939, 1940, 1941, 1942, 1943, 1944, 1945, 1946, 1947, 1948, 1949, 1950, 1951, 1952, 1953, 1954, 1955, 1956, 1957, 1958, 1959, 1960, 1961, 1962, 1963, 1964, 1965, 1966, 1967, 1968, 1969, 1970, 1971, 1972, 1973, 1974, 1975, 1976, 1977, 1978, 1979, 1980, 1981, 1982, 1983, 1984, 1985, 1986, 1987, 1988, 1989, 1990, 1991, 1992, 1993, 1994, 1995, 1996, 1997, 1998, 1999, 2000, 2001, 2002, 2003, 2004, 2005, 2006, 2008, 2010, 2011, 2012, 2020, 2021, 2024, 2026, 2030, 2037, 2038, 2050]\n"
          ]
        }
      ]
    },
    {
      "cell_type": "code",
      "metadata": {
        "id": "jmmhcXa0J5Ys"
      },
      "source": [
        "# First we are filling the nan value where the years are greater than 2021 and 0 then replacing the nan with mean value.\n",
        "books_df.loc[(books_df['Year-Of-Publication'] > 2021) | (books_df['Year-Of-Publication'] == 0),'Year-Of-Publication'] = np.NAN\n",
        "\n",
        "#replacing NaNs with mean value of Year-Of-Publication\n",
        "books_df['Year-Of-Publication'].fillna(round(books_df['Year-Of-Publication'].mean()), inplace=True)"
      ],
      "execution_count": 173,
      "outputs": []
    },
    {
      "cell_type": "code",
      "metadata": {
        "id": "LW4Ygr6eKUw7"
      },
      "source": [
        "## Drop duplicate rows\n",
        "books_df.drop_duplicates(keep='last', inplace=True) \n",
        "books_df.reset_index(drop = True, inplace = True)"
      ],
      "execution_count": 174,
      "outputs": []
    },
    {
      "cell_type": "code",
      "metadata": {
        "id": "1__u8nDoKjI6",
        "colab": {
          "base_uri": "https://localhost:8080/"
        },
        "outputId": "b41fcdc3-390b-4155-f9e9-719391827e8b"
      },
      "source": [
        "books_df.info()"
      ],
      "execution_count": 175,
      "outputs": [
        {
          "output_type": "stream",
          "name": "stdout",
          "text": [
            "<class 'pandas.core.frame.DataFrame'>\n",
            "RangeIndex: 271360 entries, 0 to 271359\n",
            "Data columns (total 5 columns):\n",
            " #   Column               Non-Null Count   Dtype  \n",
            "---  ------               --------------   -----  \n",
            " 0   ISBN                 271360 non-null  object \n",
            " 1   Book-Title           271360 non-null  object \n",
            " 2   Book-Author          271360 non-null  object \n",
            " 3   Year-Of-Publication  271360 non-null  float64\n",
            " 4   Publisher            271360 non-null  object \n",
            "dtypes: float64(1), object(4)\n",
            "memory usage: 10.4+ MB\n"
          ]
        }
      ]
    },
    {
      "cell_type": "code",
      "metadata": {
        "id": "M4_YucdTKpxS",
        "colab": {
          "base_uri": "https://localhost:8080/",
          "height": 0
        },
        "outputId": "a8e09e43-f7e3-43ce-a2b9-25f2f82532a7"
      },
      "source": [
        "books_df.head()"
      ],
      "execution_count": 176,
      "outputs": [
        {
          "output_type": "execute_result",
          "data": {
            "text/html": [
              "<div>\n",
              "<style scoped>\n",
              "    .dataframe tbody tr th:only-of-type {\n",
              "        vertical-align: middle;\n",
              "    }\n",
              "\n",
              "    .dataframe tbody tr th {\n",
              "        vertical-align: top;\n",
              "    }\n",
              "\n",
              "    .dataframe thead th {\n",
              "        text-align: right;\n",
              "    }\n",
              "</style>\n",
              "<table border=\"1\" class=\"dataframe\">\n",
              "  <thead>\n",
              "    <tr style=\"text-align: right;\">\n",
              "      <th></th>\n",
              "      <th>ISBN</th>\n",
              "      <th>Book-Title</th>\n",
              "      <th>Book-Author</th>\n",
              "      <th>Year-Of-Publication</th>\n",
              "      <th>Publisher</th>\n",
              "    </tr>\n",
              "  </thead>\n",
              "  <tbody>\n",
              "    <tr>\n",
              "      <th>0</th>\n",
              "      <td>0195153448</td>\n",
              "      <td>Classical Mythology</td>\n",
              "      <td>Mark P. O. Morford</td>\n",
              "      <td>2002.0</td>\n",
              "      <td>Oxford University Press</td>\n",
              "    </tr>\n",
              "    <tr>\n",
              "      <th>1</th>\n",
              "      <td>0002005018</td>\n",
              "      <td>Clara Callan</td>\n",
              "      <td>Richard Bruce Wright</td>\n",
              "      <td>2001.0</td>\n",
              "      <td>HarperFlamingo Canada</td>\n",
              "    </tr>\n",
              "    <tr>\n",
              "      <th>2</th>\n",
              "      <td>0060973129</td>\n",
              "      <td>Decision in Normandy</td>\n",
              "      <td>Carlo D'Este</td>\n",
              "      <td>1991.0</td>\n",
              "      <td>HarperPerennial</td>\n",
              "    </tr>\n",
              "    <tr>\n",
              "      <th>3</th>\n",
              "      <td>0374157065</td>\n",
              "      <td>Flu: The Story of the Great Influenza Pandemic...</td>\n",
              "      <td>Gina Bari Kolata</td>\n",
              "      <td>1999.0</td>\n",
              "      <td>Farrar Straus Giroux</td>\n",
              "    </tr>\n",
              "    <tr>\n",
              "      <th>4</th>\n",
              "      <td>0393045218</td>\n",
              "      <td>The Mummies of Urumchi</td>\n",
              "      <td>E. J. W. Barber</td>\n",
              "      <td>1999.0</td>\n",
              "      <td>W. W. Norton &amp;amp; Company</td>\n",
              "    </tr>\n",
              "  </tbody>\n",
              "</table>\n",
              "</div>"
            ],
            "text/plain": [
              "         ISBN  ...                   Publisher\n",
              "0  0195153448  ...     Oxford University Press\n",
              "1  0002005018  ...       HarperFlamingo Canada\n",
              "2  0060973129  ...             HarperPerennial\n",
              "3  0374157065  ...        Farrar Straus Giroux\n",
              "4  0393045218  ...  W. W. Norton &amp; Company\n",
              "\n",
              "[5 rows x 5 columns]"
            ]
          },
          "metadata": {},
          "execution_count": 176
        }
      ]
    },
    {
      "cell_type": "code",
      "metadata": {
        "id": "kw1wxR9QKvN6"
      },
      "source": [
        ""
      ],
      "execution_count": 176,
      "outputs": []
    },
    {
      "cell_type": "markdown",
      "metadata": {
        "id": "NUUT4SOSLmx7"
      },
      "source": [
        "## Users_df Data cleaning and Preprocessing"
      ]
    },
    {
      "cell_type": "code",
      "metadata": {
        "colab": {
          "base_uri": "https://localhost:8080/",
          "height": 221
        },
        "id": "YgMNTkL9LrYa",
        "outputId": "be04dc85-2b2d-42c4-a600-7df64e436efb"
      },
      "source": [
        "print(\"Columns: \", list(users_df.columns))\n",
        "users_df.head()"
      ],
      "execution_count": 177,
      "outputs": [
        {
          "output_type": "stream",
          "name": "stdout",
          "text": [
            "Columns:  ['User-ID', 'Location', 'Age']\n"
          ]
        },
        {
          "output_type": "execute_result",
          "data": {
            "text/html": [
              "<div>\n",
              "<style scoped>\n",
              "    .dataframe tbody tr th:only-of-type {\n",
              "        vertical-align: middle;\n",
              "    }\n",
              "\n",
              "    .dataframe tbody tr th {\n",
              "        vertical-align: top;\n",
              "    }\n",
              "\n",
              "    .dataframe thead th {\n",
              "        text-align: right;\n",
              "    }\n",
              "</style>\n",
              "<table border=\"1\" class=\"dataframe\">\n",
              "  <thead>\n",
              "    <tr style=\"text-align: right;\">\n",
              "      <th></th>\n",
              "      <th>User-ID</th>\n",
              "      <th>Location</th>\n",
              "      <th>Age</th>\n",
              "    </tr>\n",
              "  </thead>\n",
              "  <tbody>\n",
              "    <tr>\n",
              "      <th>0</th>\n",
              "      <td>1</td>\n",
              "      <td>nyc, new york, usa</td>\n",
              "      <td>NaN</td>\n",
              "    </tr>\n",
              "    <tr>\n",
              "      <th>1</th>\n",
              "      <td>2</td>\n",
              "      <td>stockton, california, usa</td>\n",
              "      <td>18.0</td>\n",
              "    </tr>\n",
              "    <tr>\n",
              "      <th>2</th>\n",
              "      <td>3</td>\n",
              "      <td>moscow, yukon territory, russia</td>\n",
              "      <td>NaN</td>\n",
              "    </tr>\n",
              "    <tr>\n",
              "      <th>3</th>\n",
              "      <td>4</td>\n",
              "      <td>porto, v.n.gaia, portugal</td>\n",
              "      <td>17.0</td>\n",
              "    </tr>\n",
              "    <tr>\n",
              "      <th>4</th>\n",
              "      <td>5</td>\n",
              "      <td>farnborough, hants, united kingdom</td>\n",
              "      <td>NaN</td>\n",
              "    </tr>\n",
              "  </tbody>\n",
              "</table>\n",
              "</div>"
            ],
            "text/plain": [
              "   User-ID                            Location   Age\n",
              "0        1                  nyc, new york, usa   NaN\n",
              "1        2           stockton, california, usa  18.0\n",
              "2        3     moscow, yukon territory, russia   NaN\n",
              "3        4           porto, v.n.gaia, portugal  17.0\n",
              "4        5  farnborough, hants, united kingdom   NaN"
            ]
          },
          "metadata": {},
          "execution_count": 177
        }
      ]
    },
    {
      "cell_type": "code",
      "metadata": {
        "colab": {
          "base_uri": "https://localhost:8080/"
        },
        "id": "R5bC6uQ4LyFq",
        "outputId": "cf7a6795-9019-4efe-f2a3-b212ad335ee1"
      },
      "source": [
        "## Checking null values\n",
        "print(users_df.isna().sum())"
      ],
      "execution_count": 178,
      "outputs": [
        {
          "output_type": "stream",
          "name": "stdout",
          "text": [
            "User-ID          0\n",
            "Location         0\n",
            "Age         110762\n",
            "dtype: int64\n"
          ]
        }
      ]
    },
    {
      "cell_type": "code",
      "metadata": {
        "colab": {
          "base_uri": "https://localhost:8080/"
        },
        "id": "b5ZEphFcL1sB",
        "outputId": "f3400cd5-3ec0-43c1-a51e-68a52b17aead"
      },
      "source": [
        "## Check for all values present in Age column\n",
        "users_df['Age'].unique()"
      ],
      "execution_count": 179,
      "outputs": [
        {
          "output_type": "execute_result",
          "data": {
            "text/plain": [
              "array([ nan,  18.,  17.,  61.,  26.,  14.,  25.,  19.,  46.,  55.,  32.,\n",
              "        24.,  20.,  34.,  23.,  51.,  31.,  21.,  44.,  30.,  57.,  43.,\n",
              "        37.,  41.,  54.,  42.,  50.,  39.,  53.,  47.,  36.,  28.,  35.,\n",
              "        13.,  58.,  49.,  38.,  45.,  62.,  63.,  27.,  33.,  29.,  66.,\n",
              "        40.,  15.,  60.,   0.,  79.,  22.,  16.,  65.,  59.,  48.,  72.,\n",
              "        56.,  67.,   1.,  80.,  52.,  69.,  71.,  73.,  78.,   9.,  64.,\n",
              "       103., 104.,  12.,  74.,  75., 231.,   3.,  76.,  83.,  68., 119.,\n",
              "        11.,  77.,   2.,  70.,  93.,   8.,   7.,   4.,  81., 114., 230.,\n",
              "       239.,  10.,   5., 148., 151.,   6., 101., 201.,  96.,  84.,  82.,\n",
              "        90., 123., 244., 133.,  91., 128.,  94.,  85., 141., 110.,  97.,\n",
              "       219.,  86., 124.,  92., 175., 172., 209., 212., 237.,  87., 162.,\n",
              "       100., 156., 136.,  95.,  89., 106.,  99., 108., 210.,  88., 199.,\n",
              "       147., 168., 132., 159., 186., 152., 102., 116., 200., 115., 226.,\n",
              "       137., 207., 229., 138., 109., 105., 228., 183., 204.,  98., 223.,\n",
              "       113., 208., 107., 157., 111., 146., 118., 220., 143., 140., 189.,\n",
              "       127.])"
            ]
          },
          "metadata": {},
          "execution_count": 179
        }
      ]
    },
    {
      "cell_type": "code",
      "metadata": {
        "colab": {
          "base_uri": "https://localhost:8080/",
          "height": 310
        },
        "id": "CjQ-LPZgMbqC",
        "outputId": "70ef3466-f03a-448e-c511-6ed438fe4a35"
      },
      "source": [
        "users_df.Age.hist(bins=[0, 10, 20, 30, 40, 50, 100])\n",
        "plt.title('Age Distribution\\n')\n",
        "plt.xlabel('Age')\n",
        "plt.ylabel('Count')\n",
        "plt.show()"
      ],
      "execution_count": 180,
      "outputs": [
        {
          "output_type": "display_data",
          "data": {
            "image/png": "[encoded data removed]",
            "text/plain": [
              "<Figure size 432x288 with 1 Axes>"
            ]
          },
          "metadata": {
            "needs_background": "light"
          }
        }
      ]
    },
    {
      "cell_type": "code",
      "metadata": {
        "id": "5Ypw0xUiM7nZ"
      },
      "source": [
        "## Drop duplicate rows\n",
        "users_df.drop_duplicates(keep='last', inplace=True)\n",
        "users_df.reset_index(drop=True, inplace=True)"
      ],
      "execution_count": 30,
      "outputs": []
    },
    {
      "cell_type": "code",
      "metadata": {
        "colab": {
          "base_uri": "https://localhost:8080/"
        },
        "id": "tyNGzuQ5NynZ",
        "outputId": "5dae3e1b-95a8-4cf2-8182-7589ed45588f"
      },
      "source": [
        "users_df.info()"
      ],
      "execution_count": 31,
      "outputs": [
        {
          "output_type": "stream",
          "name": "stdout",
          "text": [
            "<class 'pandas.core.frame.DataFrame'>\n",
            "RangeIndex: 278858 entries, 0 to 278857\n",
            "Data columns (total 3 columns):\n",
            " #   Column    Non-Null Count   Dtype \n",
            "---  ------    --------------   ----- \n",
            " 0   User-ID   278858 non-null  int64 \n",
            " 1   Location  278858 non-null  object\n",
            " 2   Age       278858 non-null  int32 \n",
            "dtypes: int32(1), int64(1), object(1)\n",
            "memory usage: 5.3+ MB\n"
          ]
        }
      ]
    },
    {
      "cell_type": "code",
      "metadata": {
        "colab": {
          "base_uri": "https://localhost:8080/",
          "height": 204
        },
        "id": "NGyCuhn5N15Q",
        "outputId": "932ad3c7-a054-486f-ab5b-47a6ce9ae641"
      },
      "source": [
        "users_df.head()"
      ],
      "execution_count": 32,
      "outputs": [
        {
          "output_type": "execute_result",
          "data": {
            "text/html": [
              "<div>\n",
              "<style scoped>\n",
              "    .dataframe tbody tr th:only-of-type {\n",
              "        vertical-align: middle;\n",
              "    }\n",
              "\n",
              "    .dataframe tbody tr th {\n",
              "        vertical-align: top;\n",
              "    }\n",
              "\n",
              "    .dataframe thead th {\n",
              "        text-align: right;\n",
              "    }\n",
              "</style>\n",
              "<table border=\"1\" class=\"dataframe\">\n",
              "  <thead>\n",
              "    <tr style=\"text-align: right;\">\n",
              "      <th></th>\n",
              "      <th>User-ID</th>\n",
              "      <th>Location</th>\n",
              "      <th>Age</th>\n",
              "    </tr>\n",
              "  </thead>\n",
              "  <tbody>\n",
              "    <tr>\n",
              "      <th>0</th>\n",
              "      <td>1</td>\n",
              "      <td>nyc, new york, usa</td>\n",
              "      <td>34</td>\n",
              "    </tr>\n",
              "    <tr>\n",
              "      <th>1</th>\n",
              "      <td>2</td>\n",
              "      <td>stockton, california, usa</td>\n",
              "      <td>18</td>\n",
              "    </tr>\n",
              "    <tr>\n",
              "      <th>2</th>\n",
              "      <td>3</td>\n",
              "      <td>moscow, yukon territory, russia</td>\n",
              "      <td>34</td>\n",
              "    </tr>\n",
              "    <tr>\n",
              "      <th>3</th>\n",
              "      <td>4</td>\n",
              "      <td>porto, v.n.gaia, portugal</td>\n",
              "      <td>17</td>\n",
              "    </tr>\n",
              "    <tr>\n",
              "      <th>4</th>\n",
              "      <td>5</td>\n",
              "      <td>farnborough, hants, united kingdom</td>\n",
              "      <td>34</td>\n",
              "    </tr>\n",
              "  </tbody>\n",
              "</table>\n",
              "</div>"
            ],
            "text/plain": [
              "   User-ID                            Location  Age\n",
              "0        1                  nyc, new york, usa   34\n",
              "1        2           stockton, california, usa   18\n",
              "2        3     moscow, yukon territory, russia   34\n",
              "3        4           porto, v.n.gaia, portugal   17\n",
              "4        5  farnborough, hants, united kingdom   34"
            ]
          },
          "metadata": {},
          "execution_count": 32
        }
      ]
    },
    {
      "cell_type": "markdown",
      "metadata": {
        "id": "as7moSDxOQdZ"
      },
      "source": [
        "## ratings_df Data cleaning and Preprocessing"
      ]
    },
    {
      "cell_type": "code",
      "metadata": {
        "colab": {
          "base_uri": "https://localhost:8080/",
          "height": 221
        },
        "id": "Acl4Y7uyN695",
        "outputId": "fdc1c0d1-6182-46e5-adc1-927c70c1f69e"
      },
      "source": [
        "print(\"Columns: \", list(ratings_df.columns))\n",
        "ratings_df.head()"
      ],
      "execution_count": 33,
      "outputs": [
        {
          "output_type": "stream",
          "name": "stdout",
          "text": [
            "Columns:  ['User-ID', 'ISBN', 'Book-Rating']\n"
          ]
        },
        {
          "output_type": "execute_result",
          "data": {
            "text/html": [
              "<div>\n",
              "<style scoped>\n",
              "    .dataframe tbody tr th:only-of-type {\n",
              "        vertical-align: middle;\n",
              "    }\n",
              "\n",
              "    .dataframe tbody tr th {\n",
              "        vertical-align: top;\n",
              "    }\n",
              "\n",
              "    .dataframe thead th {\n",
              "        text-align: right;\n",
              "    }\n",
              "</style>\n",
              "<table border=\"1\" class=\"dataframe\">\n",
              "  <thead>\n",
              "    <tr style=\"text-align: right;\">\n",
              "      <th></th>\n",
              "      <th>User-ID</th>\n",
              "      <th>ISBN</th>\n",
              "      <th>Book-Rating</th>\n",
              "    </tr>\n",
              "  </thead>\n",
              "  <tbody>\n",
              "    <tr>\n",
              "      <th>0</th>\n",
              "      <td>276725</td>\n",
              "      <td>034545104X</td>\n",
              "      <td>0</td>\n",
              "    </tr>\n",
              "    <tr>\n",
              "      <th>1</th>\n",
              "      <td>276726</td>\n",
              "      <td>0155061224</td>\n",
              "      <td>5</td>\n",
              "    </tr>\n",
              "    <tr>\n",
              "      <th>2</th>\n",
              "      <td>276727</td>\n",
              "      <td>0446520802</td>\n",
              "      <td>0</td>\n",
              "    </tr>\n",
              "    <tr>\n",
              "      <th>3</th>\n",
              "      <td>276729</td>\n",
              "      <td>052165615X</td>\n",
              "      <td>3</td>\n",
              "    </tr>\n",
              "    <tr>\n",
              "      <th>4</th>\n",
              "      <td>276729</td>\n",
              "      <td>0521795028</td>\n",
              "      <td>6</td>\n",
              "    </tr>\n",
              "  </tbody>\n",
              "</table>\n",
              "</div>"
            ],
            "text/plain": [
              "   User-ID        ISBN  Book-Rating\n",
              "0   276725  034545104X            0\n",
              "1   276726  0155061224            5\n",
              "2   276727  0446520802            0\n",
              "3   276729  052165615X            3\n",
              "4   276729  0521795028            6"
            ]
          },
          "metadata": {},
          "execution_count": 33
        }
      ]
    },
    {
      "cell_type": "code",
      "metadata": {
        "colab": {
          "base_uri": "https://localhost:8080/"
        },
        "id": "dTKzraBCOPsh",
        "outputId": "95a63487-8d30-4915-f790-fbd9fe8b63f1"
      },
      "source": [
        "## Checking for null values\n",
        "ratings_df.isnull().sum()"
      ],
      "execution_count": 34,
      "outputs": [
        {
          "output_type": "execute_result",
          "data": {
            "text/plain": [
              "User-ID        0\n",
              "ISBN           0\n",
              "Book-Rating    0\n",
              "dtype: int64"
            ]
          },
          "metadata": {},
          "execution_count": 34
        }
      ]
    },
    {
      "cell_type": "code",
      "metadata": {
        "id": "npXgcLOjPgyI"
      },
      "source": [
        "## Drop duplicate rows\n",
        "ratings_df.drop_duplicates(keep='last', inplace=True)\n",
        "ratings_df.reset_index(drop=True, inplace=True)"
      ],
      "execution_count": 35,
      "outputs": []
    },
    {
      "cell_type": "code",
      "metadata": {
        "colab": {
          "base_uri": "https://localhost:8080/"
        },
        "id": "oHoMzlwuOxEw",
        "outputId": "00d94a1d-f87e-412e-d9bd-6c7b9a6c2202"
      },
      "source": [
        "ratings_df.info()"
      ],
      "execution_count": 36,
      "outputs": [
        {
          "output_type": "stream",
          "name": "stdout",
          "text": [
            "<class 'pandas.core.frame.DataFrame'>\n",
            "RangeIndex: 1149780 entries, 0 to 1149779\n",
            "Data columns (total 3 columns):\n",
            " #   Column       Non-Null Count    Dtype \n",
            "---  ------       --------------    ----- \n",
            " 0   User-ID      1149780 non-null  int64 \n",
            " 1   ISBN         1149780 non-null  object\n",
            " 2   Book-Rating  1149780 non-null  int64 \n",
            "dtypes: int64(2), object(1)\n",
            "memory usage: 26.3+ MB\n"
          ]
        }
      ]
    },
    {
      "cell_type": "code",
      "metadata": {
        "id": "LhxxepFHQU5w"
      },
      "source": [
        ""
      ],
      "execution_count": 36,
      "outputs": []
    },
    {
      "cell_type": "code",
      "metadata": {
        "colab": {
          "base_uri": "https://localhost:8080/",
          "height": 204
        },
        "id": "hrPq_Ao2O434",
        "outputId": "d950d54f-802e-4e83-bd0a-75abcdeb60a9"
      },
      "source": [
        "ratings_df.head()"
      ],
      "execution_count": 37,
      "outputs": [
        {
          "output_type": "execute_result",
          "data": {
            "text/html": [
              "<div>\n",
              "<style scoped>\n",
              "    .dataframe tbody tr th:only-of-type {\n",
              "        vertical-align: middle;\n",
              "    }\n",
              "\n",
              "    .dataframe tbody tr th {\n",
              "        vertical-align: top;\n",
              "    }\n",
              "\n",
              "    .dataframe thead th {\n",
              "        text-align: right;\n",
              "    }\n",
              "</style>\n",
              "<table border=\"1\" class=\"dataframe\">\n",
              "  <thead>\n",
              "    <tr style=\"text-align: right;\">\n",
              "      <th></th>\n",
              "      <th>User-ID</th>\n",
              "      <th>ISBN</th>\n",
              "      <th>Book-Rating</th>\n",
              "    </tr>\n",
              "  </thead>\n",
              "  <tbody>\n",
              "    <tr>\n",
              "      <th>0</th>\n",
              "      <td>276725</td>\n",
              "      <td>034545104X</td>\n",
              "      <td>0</td>\n",
              "    </tr>\n",
              "    <tr>\n",
              "      <th>1</th>\n",
              "      <td>276726</td>\n",
              "      <td>0155061224</td>\n",
              "      <td>5</td>\n",
              "    </tr>\n",
              "    <tr>\n",
              "      <th>2</th>\n",
              "      <td>276727</td>\n",
              "      <td>0446520802</td>\n",
              "      <td>0</td>\n",
              "    </tr>\n",
              "    <tr>\n",
              "      <th>3</th>\n",
              "      <td>276729</td>\n",
              "      <td>052165615X</td>\n",
              "      <td>3</td>\n",
              "    </tr>\n",
              "    <tr>\n",
              "      <th>4</th>\n",
              "      <td>276729</td>\n",
              "      <td>0521795028</td>\n",
              "      <td>6</td>\n",
              "    </tr>\n",
              "  </tbody>\n",
              "</table>\n",
              "</div>"
            ],
            "text/plain": [
              "   User-ID        ISBN  Book-Rating\n",
              "0   276725  034545104X            0\n",
              "1   276726  0155061224            5\n",
              "2   276727  0446520802            0\n",
              "3   276729  052165615X            3\n",
              "4   276729  0521795028            6"
            ]
          },
          "metadata": {},
          "execution_count": 37
        }
      ]
    },
    {
      "cell_type": "code",
      "metadata": {
        "id": "9FXiWfY2PoOo"
      },
      "source": [
        "dataset = pd.merge(books_df, ratings_df, on='ISBN', how='inner')\n",
        "dataset = pd.merge(dataset, users_df, on='User-ID', how='inner')"
      ],
      "execution_count": 38,
      "outputs": []
    },
    {
      "cell_type": "code",
      "metadata": {
        "colab": {
          "base_uri": "https://localhost:8080/"
        },
        "id": "Afb_0WkzPvgQ",
        "outputId": "e849adf5-bf9d-4a77-89dd-90638c4f206b"
      },
      "source": [
        "dataset.info()"
      ],
      "execution_count": 39,
      "outputs": [
        {
          "output_type": "stream",
          "name": "stdout",
          "text": [
            "<class 'pandas.core.frame.DataFrame'>\n",
            "Int64Index: 1031136 entries, 0 to 1031135\n",
            "Data columns (total 9 columns):\n",
            " #   Column               Non-Null Count    Dtype  \n",
            "---  ------               --------------    -----  \n",
            " 0   ISBN                 1031136 non-null  object \n",
            " 1   Book-Title           1031136 non-null  object \n",
            " 2   Book-Author          1031136 non-null  object \n",
            " 3   Year-Of-Publication  1031136 non-null  float64\n",
            " 4   Publisher            1031136 non-null  object \n",
            " 5   User-ID              1031136 non-null  int64  \n",
            " 6   Book-Rating          1031136 non-null  int64  \n",
            " 7   Location             1031136 non-null  object \n",
            " 8   Age                  1031136 non-null  int32  \n",
            "dtypes: float64(1), int32(1), int64(2), object(5)\n",
            "memory usage: 74.7+ MB\n"
          ]
        }
      ]
    },
    {
      "cell_type": "code",
      "metadata": {
        "id": "UpeKja28P3Cg"
      },
      "source": [
        ""
      ],
      "execution_count": 39,
      "outputs": []
    },
    {
      "cell_type": "markdown",
      "metadata": {
        "id": "rOT7HbuoQzhw"
      },
      "source": [
        "# Data Visualization"
      ]
    },
    {
      "cell_type": "code",
      "metadata": {
        "colab": {
          "base_uri": "https://localhost:8080/",
          "height": 421
        },
        "id": "yLnrtyXBQ1s_",
        "outputId": "f5093cbd-52d4-4baf-e5ae-842b86fa685d"
      },
      "source": [
        "plt.figure(figsize=(15,6))\n",
        "sns.countplot(y=\"Book-Author\", data=books_df,order=books_df['Book-Author'].value_counts().index[0:15])\n",
        "plt.title(\"No of books by an author (Top 15)\")"
      ],
      "execution_count": 40,
      "outputs": [
        {
          "output_type": "execute_result",
          "data": {
            "text/plain": [
              "Text(0.5, 1.0, 'No of books by an author (Top 15)')"
            ]
          },
          "metadata": {},
          "execution_count": 40
        },
        {
          "output_type": "display_data",
          "data": {
            "image/png": "[encoded data removed]",
            "text/plain": [
              "<Figure size 1080x432 with 1 Axes>"
            ]
          },
          "metadata": {
            "needs_background": "light"
          }
        }
      ]
    },
    {
      "cell_type": "code",
      "metadata": {
        "colab": {
          "base_uri": "https://localhost:8080/",
          "height": 421
        },
        "id": "wkZZLZgRQ2O2",
        "outputId": "6cd92667-3599-4b91-f042-cb41569f1ec3"
      },
      "source": [
        "plt.figure(figsize=(15,6))\n",
        "sns.countplot(y=\"Publisher\", data=books_df,order=books_df['Publisher'].value_counts().index[0:15])\n",
        "plt.title(\"No of books published by a publisher (Top 15)\")"
      ],
      "execution_count": 41,
      "outputs": [
        {
          "output_type": "execute_result",
          "data": {
            "text/plain": [
              "Text(0.5, 1.0, 'No of books published by a publisher (Top 15)')"
            ]
          },
          "metadata": {},
          "execution_count": 41
        },
        {
          "output_type": "display_data",
          "data": {
            "image/png": "[encoded data removed]",
            "text/plain": [
              "<Figure size 1080x432 with 1 Axes>"
            ]
          },
          "metadata": {
            "needs_background": "light"
          }
        }
      ]
    },
    {
      "cell_type": "code",
      "metadata": {
        "colab": {
          "base_uri": "https://localhost:8080/",
          "height": 405
        },
        "id": "byOdBwNFRGFp",
        "outputId": "337a5fd8-6aef-495b-cf58-98d6d3e5a85d"
      },
      "source": [
        "plt.figure(figsize=(8,6))\n",
        "sns.countplot(x=\"Book-Rating\", data=ratings_df)"
      ],
      "execution_count": 42,
      "outputs": [
        {
          "output_type": "execute_result",
          "data": {
            "text/plain": [
              "<matplotlib.axes._subplots.AxesSubplot at 0x7f1e155bfdd0>"
            ]
          },
          "metadata": {},
          "execution_count": 42
        },
        {
          "output_type": "display_data",
          "data": {
            "image/png": "[encoded data removed]",
            "text/plain": [
              "<Figure size 576x432 with 1 Axes>"
            ]
          },
          "metadata": {
            "needs_background": "light"
          }
        }
      ]
    },
    {
      "cell_type": "code",
      "metadata": {
        "colab": {
          "base_uri": "https://localhost:8080/",
          "height": 610
        },
        "id": "HHIhvKLMRVQ_",
        "outputId": "d61982f4-f3e3-49a0-b007-5a8e723f72db"
      },
      "source": [
        "plt.figure(figsize=(20,6))\n",
        "sns.countplot(x=\"Location\", data=users_df,order=users_df['Location'].value_counts().index[0:15])\n",
        "plt.title(\"No of readers from each city (Top 15)\")\n",
        "plt.xticks(rotation=90)"
      ],
      "execution_count": 43,
      "outputs": [
        {
          "output_type": "execute_result",
          "data": {
            "text/plain": [
              "(array([ 0,  1,  2,  3,  4,  5,  6,  7,  8,  9, 10, 11, 12, 13, 14]),\n",
              " <a list of 15 Text major ticklabel objects>)"
            ]
          },
          "metadata": {},
          "execution_count": 43
        },
        {
          "output_type": "display_data",
          "data": {
            "image/png": "[encoded data removed]",
            "text/plain": [
              "<Figure size 1440x432 with 1 Axes>"
            ]
          },
          "metadata": {
            "needs_background": "light"
          }
        }
      ]
    },
    {
      "cell_type": "code",
      "metadata": {
        "colab": {
          "base_uri": "https://localhost:8080/",
          "height": 350
        },
        "id": "XBUUbRLBlGcd",
        "outputId": "c2b7794a-b2ef-4ca6-dd80-cacf6052109e"
      },
      "source": [
        "plt.figure(figsize=(8, 5))\n",
        "sns.distplot(users_df.Age)\n",
        "plt.title('Age Distribution Plot')\n",
        "plt.show()"
      ],
      "execution_count": 181,
      "outputs": [
        {
          "output_type": "display_data",
          "data": {
            "image/png": "[encoded data removed]",
            "text/plain": [
              "<Figure size 576x360 with 1 Axes>"
            ]
          },
          "metadata": {
            "needs_background": "light"
          }
        }
      ]
    },
    {
      "cell_type": "code",
      "metadata": {
        "colab": {
          "base_uri": "https://localhost:8080/",
          "height": 334
        },
        "id": "em1y9t6zlNPV",
        "outputId": "e6da729e-8222-4727-a156-752431e48fff"
      },
      "source": [
        "# Checking the Outliers in Age.\n",
        "plt.figure(figsize = (10,5))\n",
        "sns.boxplot(users_df.Age)\n",
        "plt.xlabel('Age')\n",
        "plt.show()"
      ],
      "execution_count": 182,
      "outputs": [
        {
          "output_type": "display_data",
          "data": {
            "image/png": "[encoded data removed]",
            "text/plain": [
              "<Figure size 720x360 with 1 Axes>"
            ]
          },
          "metadata": {
            "needs_background": "light"
          }
        }
      ]
    },
    {
      "cell_type": "markdown",
      "metadata": {
        "id": "ziKAddsIl1vE"
      },
      "source": [
        "**handling outlier**"
      ]
    },
    {
      "cell_type": "code",
      "metadata": {
        "id": "QL5E3RJxlRuV"
      },
      "source": [
        "# First we are filling the nan value where the age is greater than 90 and less than 8 then replacing the nan with mean value.\n",
        "users_df.loc[(users_df['Age'] > 90) | (users_df['Age'] < 8), 'Age']= np.NAN\n",
        "users_df['Age']= users_df['Age'].fillna(users_df['Age'].mean())\n",
        "users_df['Age']= users_df['Age'].astype(np.int32)"
      ],
      "execution_count": 183,
      "outputs": []
    },
    {
      "cell_type": "code",
      "metadata": {
        "colab": {
          "base_uri": "https://localhost:8080/",
          "height": 334
        },
        "id": "z-XNyCRRlVHW",
        "outputId": "fc22c64c-6d94-46ae-fa48-baa9ce472f4f"
      },
      "source": [
        "plt.figure(figsize = (10,5))\n",
        "sns.boxplot(users_df.Age)\n",
        "plt.xlabel('Age')\n",
        "plt.show()"
      ],
      "execution_count": 184,
      "outputs": [
        {
          "output_type": "display_data",
          "data": {
            "image/png": "[encoded data removed]",
            "text/plain": [
              "<Figure size 720x360 with 1 Axes>"
            ]
          },
          "metadata": {
            "needs_background": "light"
          }
        }
      ]
    },
    {
      "cell_type": "code",
      "metadata": {
        "colab": {
          "base_uri": "https://localhost:8080/"
        },
        "id": "TSYjlTZElbCF",
        "outputId": "d76d0e72-1d99-49f5-d1cd-1f079bf1db3b"
      },
      "source": [
        "books_df['Year-Of-Publication'].describe()"
      ],
      "execution_count": 185,
      "outputs": [
        {
          "output_type": "execute_result",
          "data": {
            "text/plain": [
              "count    271360.000000\n",
              "mean       1993.693241\n",
              "std           8.249980\n",
              "min        1376.000000\n",
              "25%        1989.000000\n",
              "50%        1995.000000\n",
              "75%        2000.000000\n",
              "max        2021.000000\n",
              "Name: Year-Of-Publication, dtype: float64"
            ]
          },
          "metadata": {},
          "execution_count": 185
        }
      ]
    },
    {
      "cell_type": "code",
      "metadata": {
        "colab": {
          "base_uri": "https://localhost:8080/",
          "height": 411
        },
        "id": "yYEu6Ob0leHM",
        "outputId": "65be1e75-4c3b-4b1c-ebcb-e2413b9afedf"
      },
      "source": [
        "fig= plt.figure(figsize=(15,7))\n",
        "books_df['Year-Of-Publication'].value_counts().head(10).plot(kind='pie', autopct='%1.2f%%')\n",
        "plt.show()"
      ],
      "execution_count": 186,
      "outputs": [
        {
          "output_type": "display_data",
          "data": {
            "image/png": "[encoded data removed]",
            "text/plain": [
              "<Figure size 1080x504 with 1 Axes>"
            ]
          },
          "metadata": {}
        }
      ]
    },
    {
      "cell_type": "markdown",
      "metadata": {
        "id": "CjyNeb8flnc2"
      },
      "source": [
        "**observation**\n",
        "\n",
        "most of the book published on 2002"
      ]
    },
    {
      "cell_type": "markdown",
      "metadata": {
        "id": "zGMxDgXXTeSO"
      },
      "source": [
        "### Recommendations based on correlations\n",
        "**We use Pearsons’R correlation coefficient to measure the linear correlation between two variables, in our case, the ratings for two books**.\n",
        "\n",
        "**First, we need to find out the average rating, and the number of ratings each book received** .\n",
        "\n"
      ]
    },
    {
      "cell_type": "code",
      "metadata": {
        "colab": {
          "base_uri": "https://localhost:8080/",
          "height": 235
        },
        "id": "mwy6DcmJSEWn",
        "outputId": "b70068ce-711c-486d-f60e-a137b594980d"
      },
      "source": [
        "average_rating = pd.DataFrame(ratings_df.groupby('ISBN')['Book-Rating'].mean())\n",
        "average_rating['ratingCount'] = pd.DataFrame(ratings_df.groupby('ISBN')['Book-Rating'].count())\n",
        "average_rating.sort_values('ratingCount', ascending=False).head()"
      ],
      "execution_count": 44,
      "outputs": [
        {
          "output_type": "execute_result",
          "data": {
            "text/html": [
              "<div>\n",
              "<style scoped>\n",
              "    .dataframe tbody tr th:only-of-type {\n",
              "        vertical-align: middle;\n",
              "    }\n",
              "\n",
              "    .dataframe tbody tr th {\n",
              "        vertical-align: top;\n",
              "    }\n",
              "\n",
              "    .dataframe thead th {\n",
              "        text-align: right;\n",
              "    }\n",
              "</style>\n",
              "<table border=\"1\" class=\"dataframe\">\n",
              "  <thead>\n",
              "    <tr style=\"text-align: right;\">\n",
              "      <th></th>\n",
              "      <th>Book-Rating</th>\n",
              "      <th>ratingCount</th>\n",
              "    </tr>\n",
              "    <tr>\n",
              "      <th>ISBN</th>\n",
              "      <th></th>\n",
              "      <th></th>\n",
              "    </tr>\n",
              "  </thead>\n",
              "  <tbody>\n",
              "    <tr>\n",
              "      <th>0971880107</th>\n",
              "      <td>1.019584</td>\n",
              "      <td>2502</td>\n",
              "    </tr>\n",
              "    <tr>\n",
              "      <th>0316666343</th>\n",
              "      <td>4.468726</td>\n",
              "      <td>1295</td>\n",
              "    </tr>\n",
              "    <tr>\n",
              "      <th>0385504209</th>\n",
              "      <td>4.652322</td>\n",
              "      <td>883</td>\n",
              "    </tr>\n",
              "    <tr>\n",
              "      <th>0060928336</th>\n",
              "      <td>3.448087</td>\n",
              "      <td>732</td>\n",
              "    </tr>\n",
              "    <tr>\n",
              "      <th>0312195516</th>\n",
              "      <td>4.334716</td>\n",
              "      <td>723</td>\n",
              "    </tr>\n",
              "  </tbody>\n",
              "</table>\n",
              "</div>"
            ],
            "text/plain": [
              "            Book-Rating  ratingCount\n",
              "ISBN                                \n",
              "0971880107     1.019584         2502\n",
              "0316666343     4.468726         1295\n",
              "0385504209     4.652322          883\n",
              "0060928336     3.448087          732\n",
              "0312195516     4.334716          723"
            ]
          },
          "metadata": {},
          "execution_count": 44
        }
      ]
    },
    {
      "cell_type": "markdown",
      "metadata": {
        "id": "v79hC9EjUEfm"
      },
      "source": [
        "**To ensure statistical significance, users with less than 200 ratings, and books with less than 100 ratings are excluded**"
      ]
    },
    {
      "cell_type": "code",
      "metadata": {
        "id": "aWUf6uStTtRm"
      },
      "source": [
        "user_counts = ratings_df['User-ID'].value_counts()\n",
        "ratings_df = ratings_df[ratings_df['User-ID'].isin(user_counts[user_counts >= 200].index)]\n",
        "rating_count = ratings_df['Book-Rating'].value_counts()\n",
        "ratings = ratings_df[ratings_df['Book-Rating'].isin(rating_count[rating_count >= 100].index)]"
      ],
      "execution_count": 45,
      "outputs": []
    },
    {
      "cell_type": "markdown",
      "metadata": {
        "id": "t7yLhryeVHaF"
      },
      "source": [
        "### Rating matrix\n",
        "\n",
        "We convert the ratings table to a 2D matrix. The matrix will be sparse because not every user rated every book."
      ]
    },
    {
      "cell_type": "code",
      "metadata": {
        "colab": {
          "base_uri": "https://localhost:8080/",
          "height": 369
        },
        "id": "fmQRTqO6UWHe",
        "outputId": "52d4c0c8-a00c-4698-f071-e72f7092c775"
      },
      "source": [
        "ratings_pivot = ratings_df.pivot(index='User-ID', columns='ISBN',values='Book-Rating')\n",
        "UserID = ratings_pivot.index\n",
        "ISBN = ratings_pivot.columns\n",
        "print(ratings_pivot.shape)\n",
        "ratings_pivot.head()"
      ],
      "execution_count": 46,
      "outputs": [
        {
          "output_type": "stream",
          "name": "stdout",
          "text": [
            "(905, 207699)\n"
          ]
        },
        {
          "output_type": "execute_result",
          "data": {
            "text/html": [
              "<div>\n",
              "<style scoped>\n",
              "    .dataframe tbody tr th:only-of-type {\n",
              "        vertical-align: middle;\n",
              "    }\n",
              "\n",
              "    .dataframe tbody tr th {\n",
              "        vertical-align: top;\n",
              "    }\n",
              "\n",
              "    .dataframe thead th {\n",
              "        text-align: right;\n",
              "    }\n",
              "</style>\n",
              "<table border=\"1\" class=\"dataframe\">\n",
              "  <thead>\n",
              "    <tr style=\"text-align: right;\">\n",
              "      <th>ISBN</th>\n",
              "      <th>0330299891</th>\n",
              "      <th>0375404120</th>\n",
              "      <th>0586045007</th>\n",
              "      <th>9022906116</th>\n",
              "      <th>9032803328</th>\n",
              "      <th>9044922564</th>\n",
              "      <th>9044922572</th>\n",
              "      <th>9044922718</th>\n",
              "      <th>9044923161</th>\n",
              "      <th>904492401X</th>\n",
              "      <th>9061002273</th>\n",
              "      <th>*0515128325</th>\n",
              "      <th>+0451197399</th>\n",
              "      <th>0 00 612183 7</th>\n",
              "      <th>0 00 614494 2</th>\n",
              "      <th>0 7336 1053 6</th>\n",
              "      <th>0 907 062 008</th>\n",
              "      <th>0*708880258</th>\n",
              "      <th>0.330241664</th>\n",
              "      <th>00000000</th>\n",
              "      <th>000000000</th>\n",
              "      <th>0000000000</th>\n",
              "      <th>00000000000</th>\n",
              "      <th>000000000000</th>\n",
              "      <th>0000000000000</th>\n",
              "      <th>0000000029841</th>\n",
              "      <th>0000000030670</th>\n",
              "      <th>0000000033220</th>\n",
              "      <th>0000000051</th>\n",
              "      <th>0000001042283</th>\n",
              "      <th>0000001481</th>\n",
              "      <th>0000018030</th>\n",
              "      <th>0000722105029</th>\n",
              "      <th>0000913154</th>\n",
              "      <th>0001010565</th>\n",
              "      <th>0001046438</th>\n",
              "      <th>000104687X</th>\n",
              "      <th>0001047213</th>\n",
              "      <th>0001047639</th>\n",
              "      <th>0001047663</th>\n",
              "      <th>...</th>\n",
              "      <th>O425155404</th>\n",
              "      <th>O42516313X</th>\n",
              "      <th>O439060737</th>\n",
              "      <th>O439161673</th>\n",
              "      <th>O446611638</th>\n",
              "      <th>O451203771</th>\n",
              "      <th>O499139921</th>\n",
              "      <th>O590418262</th>\n",
              "      <th>O590477412</th>\n",
              "      <th>O59052528X</th>\n",
              "      <th>O67174142X</th>\n",
              "      <th>O774037474</th>\n",
              "      <th>O77O428452</th>\n",
              "      <th>O786001690</th>\n",
              "      <th>O805063196</th>\n",
              "      <th>O856856428</th>\n",
              "      <th>O861366301</th>\n",
              "      <th>O880015152</th>\n",
              "      <th>O889950962</th>\n",
              "      <th>O9088446X</th>\n",
              "      <th>PS3569E84K5</th>\n",
              "      <th>Q380708353</th>\n",
              "      <th>Q912838027</th>\n",
              "      <th>SBN67001026X</th>\n",
              "      <th>T110105305048</th>\n",
              "      <th>T110105705048</th>\n",
              "      <th>TBR0385495641</th>\n",
              "      <th>THEALLTRUETRA</th>\n",
              "      <th>THECATASTROPH</th>\n",
              "      <th>THEFLYINGACE</th>\n",
              "      <th>UNGRANDHOMMED</th>\n",
              "      <th>X000000000</th>\n",
              "      <th>YOUTELLEM,AND</th>\n",
              "      <th>ZR903CX0003</th>\n",
              "      <th>\\0432534220\\\"\"</th>\n",
              "      <th>\\2842053052\\\"\"</th>\n",
              "      <th>b00005wz75</th>\n",
              "      <th>cn108465</th>\n",
              "      <th>cn113107</th>\n",
              "      <th>Ô½crosoft</th>\n",
              "    </tr>\n",
              "    <tr>\n",
              "      <th>User-ID</th>\n",
              "      <th></th>\n",
              "      <th></th>\n",
              "      <th></th>\n",
              "      <th></th>\n",
              "      <th></th>\n",
              "      <th></th>\n",
              "      <th></th>\n",
              "      <th></th>\n",
              "      <th></th>\n",
              "      <th></th>\n",
              "      <th></th>\n",
              "      <th></th>\n",
              "      <th></th>\n",
              "      <th></th>\n",
              "      <th></th>\n",
              "      <th></th>\n",
              "      <th></th>\n",
              "      <th></th>\n",
              "      <th></th>\n",
              "      <th></th>\n",
              "      <th></th>\n",
              "      <th></th>\n",
              "      <th></th>\n",
              "      <th></th>\n",
              "      <th></th>\n",
              "      <th></th>\n",
              "      <th></th>\n",
              "      <th></th>\n",
              "      <th></th>\n",
              "      <th></th>\n",
              "      <th></th>\n",
              "      <th></th>\n",
              "      <th></th>\n",
              "      <th></th>\n",
              "      <th></th>\n",
              "      <th></th>\n",
              "      <th></th>\n",
              "      <th></th>\n",
              "      <th></th>\n",
              "      <th></th>\n",
              "      <th></th>\n",
              "      <th></th>\n",
              "      <th></th>\n",
              "      <th></th>\n",
              "      <th></th>\n",
              "      <th></th>\n",
              "      <th></th>\n",
              "      <th></th>\n",
              "      <th></th>\n",
              "      <th></th>\n",
              "      <th></th>\n",
              "      <th></th>\n",
              "      <th></th>\n",
              "      <th></th>\n",
              "      <th></th>\n",
              "      <th></th>\n",
              "      <th></th>\n",
              "      <th></th>\n",
              "      <th></th>\n",
              "      <th></th>\n",
              "      <th></th>\n",
              "      <th></th>\n",
              "      <th></th>\n",
              "      <th></th>\n",
              "      <th></th>\n",
              "      <th></th>\n",
              "      <th></th>\n",
              "      <th></th>\n",
              "      <th></th>\n",
              "      <th></th>\n",
              "      <th></th>\n",
              "      <th></th>\n",
              "      <th></th>\n",
              "      <th></th>\n",
              "      <th></th>\n",
              "      <th></th>\n",
              "      <th></th>\n",
              "      <th></th>\n",
              "      <th></th>\n",
              "      <th></th>\n",
              "      <th></th>\n",
              "    </tr>\n",
              "  </thead>\n",
              "  <tbody>\n",
              "    <tr>\n",
              "      <th>254</th>\n",
              "      <td>NaN</td>\n",
              "      <td>NaN</td>\n",
              "      <td>NaN</td>\n",
              "      <td>NaN</td>\n",
              "      <td>NaN</td>\n",
              "      <td>NaN</td>\n",
              "      <td>NaN</td>\n",
              "      <td>NaN</td>\n",
              "      <td>NaN</td>\n",
              "      <td>NaN</td>\n",
              "      <td>NaN</td>\n",
              "      <td>NaN</td>\n",
              "      <td>NaN</td>\n",
              "      <td>NaN</td>\n",
              "      <td>NaN</td>\n",
              "      <td>NaN</td>\n",
              "      <td>NaN</td>\n",
              "      <td>NaN</td>\n",
              "      <td>NaN</td>\n",
              "      <td>NaN</td>\n",
              "      <td>NaN</td>\n",
              "      <td>NaN</td>\n",
              "      <td>NaN</td>\n",
              "      <td>NaN</td>\n",
              "      <td>NaN</td>\n",
              "      <td>NaN</td>\n",
              "      <td>NaN</td>\n",
              "      <td>NaN</td>\n",
              "      <td>NaN</td>\n",
              "      <td>NaN</td>\n",
              "      <td>NaN</td>\n",
              "      <td>NaN</td>\n",
              "      <td>NaN</td>\n",
              "      <td>NaN</td>\n",
              "      <td>NaN</td>\n",
              "      <td>NaN</td>\n",
              "      <td>NaN</td>\n",
              "      <td>NaN</td>\n",
              "      <td>NaN</td>\n",
              "      <td>NaN</td>\n",
              "      <td>...</td>\n",
              "      <td>NaN</td>\n",
              "      <td>NaN</td>\n",
              "      <td>NaN</td>\n",
              "      <td>NaN</td>\n",
              "      <td>NaN</td>\n",
              "      <td>NaN</td>\n",
              "      <td>NaN</td>\n",
              "      <td>NaN</td>\n",
              "      <td>NaN</td>\n",
              "      <td>NaN</td>\n",
              "      <td>NaN</td>\n",
              "      <td>NaN</td>\n",
              "      <td>NaN</td>\n",
              "      <td>NaN</td>\n",
              "      <td>NaN</td>\n",
              "      <td>NaN</td>\n",
              "      <td>NaN</td>\n",
              "      <td>NaN</td>\n",
              "      <td>NaN</td>\n",
              "      <td>NaN</td>\n",
              "      <td>NaN</td>\n",
              "      <td>NaN</td>\n",
              "      <td>NaN</td>\n",
              "      <td>NaN</td>\n",
              "      <td>NaN</td>\n",
              "      <td>NaN</td>\n",
              "      <td>NaN</td>\n",
              "      <td>NaN</td>\n",
              "      <td>NaN</td>\n",
              "      <td>NaN</td>\n",
              "      <td>NaN</td>\n",
              "      <td>NaN</td>\n",
              "      <td>NaN</td>\n",
              "      <td>NaN</td>\n",
              "      <td>NaN</td>\n",
              "      <td>NaN</td>\n",
              "      <td>NaN</td>\n",
              "      <td>NaN</td>\n",
              "      <td>NaN</td>\n",
              "      <td>NaN</td>\n",
              "    </tr>\n",
              "    <tr>\n",
              "      <th>2276</th>\n",
              "      <td>NaN</td>\n",
              "      <td>NaN</td>\n",
              "      <td>NaN</td>\n",
              "      <td>NaN</td>\n",
              "      <td>NaN</td>\n",
              "      <td>NaN</td>\n",
              "      <td>NaN</td>\n",
              "      <td>NaN</td>\n",
              "      <td>NaN</td>\n",
              "      <td>NaN</td>\n",
              "      <td>NaN</td>\n",
              "      <td>NaN</td>\n",
              "      <td>NaN</td>\n",
              "      <td>NaN</td>\n",
              "      <td>NaN</td>\n",
              "      <td>NaN</td>\n",
              "      <td>NaN</td>\n",
              "      <td>NaN</td>\n",
              "      <td>NaN</td>\n",
              "      <td>NaN</td>\n",
              "      <td>NaN</td>\n",
              "      <td>NaN</td>\n",
              "      <td>NaN</td>\n",
              "      <td>NaN</td>\n",
              "      <td>NaN</td>\n",
              "      <td>NaN</td>\n",
              "      <td>NaN</td>\n",
              "      <td>NaN</td>\n",
              "      <td>NaN</td>\n",
              "      <td>NaN</td>\n",
              "      <td>NaN</td>\n",
              "      <td>NaN</td>\n",
              "      <td>NaN</td>\n",
              "      <td>NaN</td>\n",
              "      <td>NaN</td>\n",
              "      <td>NaN</td>\n",
              "      <td>NaN</td>\n",
              "      <td>NaN</td>\n",
              "      <td>NaN</td>\n",
              "      <td>NaN</td>\n",
              "      <td>...</td>\n",
              "      <td>NaN</td>\n",
              "      <td>NaN</td>\n",
              "      <td>NaN</td>\n",
              "      <td>NaN</td>\n",
              "      <td>NaN</td>\n",
              "      <td>NaN</td>\n",
              "      <td>NaN</td>\n",
              "      <td>NaN</td>\n",
              "      <td>NaN</td>\n",
              "      <td>NaN</td>\n",
              "      <td>NaN</td>\n",
              "      <td>NaN</td>\n",
              "      <td>NaN</td>\n",
              "      <td>NaN</td>\n",
              "      <td>NaN</td>\n",
              "      <td>NaN</td>\n",
              "      <td>NaN</td>\n",
              "      <td>NaN</td>\n",
              "      <td>NaN</td>\n",
              "      <td>NaN</td>\n",
              "      <td>NaN</td>\n",
              "      <td>NaN</td>\n",
              "      <td>NaN</td>\n",
              "      <td>NaN</td>\n",
              "      <td>NaN</td>\n",
              "      <td>NaN</td>\n",
              "      <td>NaN</td>\n",
              "      <td>NaN</td>\n",
              "      <td>NaN</td>\n",
              "      <td>NaN</td>\n",
              "      <td>NaN</td>\n",
              "      <td>NaN</td>\n",
              "      <td>NaN</td>\n",
              "      <td>NaN</td>\n",
              "      <td>NaN</td>\n",
              "      <td>NaN</td>\n",
              "      <td>NaN</td>\n",
              "      <td>NaN</td>\n",
              "      <td>NaN</td>\n",
              "      <td>NaN</td>\n",
              "    </tr>\n",
              "    <tr>\n",
              "      <th>2766</th>\n",
              "      <td>NaN</td>\n",
              "      <td>NaN</td>\n",
              "      <td>NaN</td>\n",
              "      <td>NaN</td>\n",
              "      <td>NaN</td>\n",
              "      <td>NaN</td>\n",
              "      <td>NaN</td>\n",
              "      <td>NaN</td>\n",
              "      <td>NaN</td>\n",
              "      <td>NaN</td>\n",
              "      <td>NaN</td>\n",
              "      <td>NaN</td>\n",
              "      <td>NaN</td>\n",
              "      <td>NaN</td>\n",
              "      <td>NaN</td>\n",
              "      <td>NaN</td>\n",
              "      <td>NaN</td>\n",
              "      <td>NaN</td>\n",
              "      <td>NaN</td>\n",
              "      <td>NaN</td>\n",
              "      <td>NaN</td>\n",
              "      <td>NaN</td>\n",
              "      <td>NaN</td>\n",
              "      <td>NaN</td>\n",
              "      <td>NaN</td>\n",
              "      <td>NaN</td>\n",
              "      <td>NaN</td>\n",
              "      <td>NaN</td>\n",
              "      <td>NaN</td>\n",
              "      <td>NaN</td>\n",
              "      <td>NaN</td>\n",
              "      <td>NaN</td>\n",
              "      <td>NaN</td>\n",
              "      <td>NaN</td>\n",
              "      <td>NaN</td>\n",
              "      <td>NaN</td>\n",
              "      <td>NaN</td>\n",
              "      <td>NaN</td>\n",
              "      <td>NaN</td>\n",
              "      <td>NaN</td>\n",
              "      <td>...</td>\n",
              "      <td>NaN</td>\n",
              "      <td>NaN</td>\n",
              "      <td>NaN</td>\n",
              "      <td>NaN</td>\n",
              "      <td>NaN</td>\n",
              "      <td>NaN</td>\n",
              "      <td>NaN</td>\n",
              "      <td>NaN</td>\n",
              "      <td>NaN</td>\n",
              "      <td>NaN</td>\n",
              "      <td>NaN</td>\n",
              "      <td>NaN</td>\n",
              "      <td>NaN</td>\n",
              "      <td>NaN</td>\n",
              "      <td>NaN</td>\n",
              "      <td>NaN</td>\n",
              "      <td>NaN</td>\n",
              "      <td>NaN</td>\n",
              "      <td>NaN</td>\n",
              "      <td>NaN</td>\n",
              "      <td>NaN</td>\n",
              "      <td>NaN</td>\n",
              "      <td>NaN</td>\n",
              "      <td>NaN</td>\n",
              "      <td>NaN</td>\n",
              "      <td>NaN</td>\n",
              "      <td>NaN</td>\n",
              "      <td>NaN</td>\n",
              "      <td>NaN</td>\n",
              "      <td>NaN</td>\n",
              "      <td>NaN</td>\n",
              "      <td>NaN</td>\n",
              "      <td>NaN</td>\n",
              "      <td>NaN</td>\n",
              "      <td>NaN</td>\n",
              "      <td>NaN</td>\n",
              "      <td>NaN</td>\n",
              "      <td>NaN</td>\n",
              "      <td>NaN</td>\n",
              "      <td>NaN</td>\n",
              "    </tr>\n",
              "    <tr>\n",
              "      <th>2977</th>\n",
              "      <td>NaN</td>\n",
              "      <td>NaN</td>\n",
              "      <td>NaN</td>\n",
              "      <td>NaN</td>\n",
              "      <td>NaN</td>\n",
              "      <td>NaN</td>\n",
              "      <td>NaN</td>\n",
              "      <td>NaN</td>\n",
              "      <td>NaN</td>\n",
              "      <td>NaN</td>\n",
              "      <td>NaN</td>\n",
              "      <td>NaN</td>\n",
              "      <td>NaN</td>\n",
              "      <td>NaN</td>\n",
              "      <td>NaN</td>\n",
              "      <td>NaN</td>\n",
              "      <td>NaN</td>\n",
              "      <td>NaN</td>\n",
              "      <td>NaN</td>\n",
              "      <td>NaN</td>\n",
              "      <td>NaN</td>\n",
              "      <td>NaN</td>\n",
              "      <td>NaN</td>\n",
              "      <td>NaN</td>\n",
              "      <td>NaN</td>\n",
              "      <td>NaN</td>\n",
              "      <td>NaN</td>\n",
              "      <td>NaN</td>\n",
              "      <td>NaN</td>\n",
              "      <td>NaN</td>\n",
              "      <td>NaN</td>\n",
              "      <td>NaN</td>\n",
              "      <td>NaN</td>\n",
              "      <td>NaN</td>\n",
              "      <td>NaN</td>\n",
              "      <td>NaN</td>\n",
              "      <td>NaN</td>\n",
              "      <td>NaN</td>\n",
              "      <td>NaN</td>\n",
              "      <td>NaN</td>\n",
              "      <td>...</td>\n",
              "      <td>NaN</td>\n",
              "      <td>NaN</td>\n",
              "      <td>NaN</td>\n",
              "      <td>NaN</td>\n",
              "      <td>NaN</td>\n",
              "      <td>NaN</td>\n",
              "      <td>NaN</td>\n",
              "      <td>NaN</td>\n",
              "      <td>NaN</td>\n",
              "      <td>NaN</td>\n",
              "      <td>NaN</td>\n",
              "      <td>NaN</td>\n",
              "      <td>NaN</td>\n",
              "      <td>NaN</td>\n",
              "      <td>NaN</td>\n",
              "      <td>NaN</td>\n",
              "      <td>NaN</td>\n",
              "      <td>NaN</td>\n",
              "      <td>NaN</td>\n",
              "      <td>NaN</td>\n",
              "      <td>NaN</td>\n",
              "      <td>NaN</td>\n",
              "      <td>NaN</td>\n",
              "      <td>NaN</td>\n",
              "      <td>NaN</td>\n",
              "      <td>NaN</td>\n",
              "      <td>NaN</td>\n",
              "      <td>NaN</td>\n",
              "      <td>NaN</td>\n",
              "      <td>NaN</td>\n",
              "      <td>NaN</td>\n",
              "      <td>NaN</td>\n",
              "      <td>NaN</td>\n",
              "      <td>NaN</td>\n",
              "      <td>NaN</td>\n",
              "      <td>NaN</td>\n",
              "      <td>NaN</td>\n",
              "      <td>NaN</td>\n",
              "      <td>NaN</td>\n",
              "      <td>NaN</td>\n",
              "    </tr>\n",
              "    <tr>\n",
              "      <th>3363</th>\n",
              "      <td>NaN</td>\n",
              "      <td>NaN</td>\n",
              "      <td>NaN</td>\n",
              "      <td>NaN</td>\n",
              "      <td>NaN</td>\n",
              "      <td>NaN</td>\n",
              "      <td>NaN</td>\n",
              "      <td>NaN</td>\n",
              "      <td>NaN</td>\n",
              "      <td>NaN</td>\n",
              "      <td>NaN</td>\n",
              "      <td>NaN</td>\n",
              "      <td>NaN</td>\n",
              "      <td>NaN</td>\n",
              "      <td>NaN</td>\n",
              "      <td>NaN</td>\n",
              "      <td>NaN</td>\n",
              "      <td>NaN</td>\n",
              "      <td>NaN</td>\n",
              "      <td>NaN</td>\n",
              "      <td>NaN</td>\n",
              "      <td>NaN</td>\n",
              "      <td>NaN</td>\n",
              "      <td>NaN</td>\n",
              "      <td>NaN</td>\n",
              "      <td>NaN</td>\n",
              "      <td>NaN</td>\n",
              "      <td>NaN</td>\n",
              "      <td>NaN</td>\n",
              "      <td>NaN</td>\n",
              "      <td>NaN</td>\n",
              "      <td>NaN</td>\n",
              "      <td>NaN</td>\n",
              "      <td>NaN</td>\n",
              "      <td>NaN</td>\n",
              "      <td>NaN</td>\n",
              "      <td>NaN</td>\n",
              "      <td>NaN</td>\n",
              "      <td>NaN</td>\n",
              "      <td>NaN</td>\n",
              "      <td>...</td>\n",
              "      <td>NaN</td>\n",
              "      <td>NaN</td>\n",
              "      <td>NaN</td>\n",
              "      <td>NaN</td>\n",
              "      <td>NaN</td>\n",
              "      <td>NaN</td>\n",
              "      <td>NaN</td>\n",
              "      <td>NaN</td>\n",
              "      <td>NaN</td>\n",
              "      <td>NaN</td>\n",
              "      <td>NaN</td>\n",
              "      <td>NaN</td>\n",
              "      <td>NaN</td>\n",
              "      <td>NaN</td>\n",
              "      <td>NaN</td>\n",
              "      <td>NaN</td>\n",
              "      <td>NaN</td>\n",
              "      <td>NaN</td>\n",
              "      <td>NaN</td>\n",
              "      <td>NaN</td>\n",
              "      <td>NaN</td>\n",
              "      <td>NaN</td>\n",
              "      <td>NaN</td>\n",
              "      <td>NaN</td>\n",
              "      <td>NaN</td>\n",
              "      <td>NaN</td>\n",
              "      <td>NaN</td>\n",
              "      <td>NaN</td>\n",
              "      <td>NaN</td>\n",
              "      <td>NaN</td>\n",
              "      <td>NaN</td>\n",
              "      <td>NaN</td>\n",
              "      <td>NaN</td>\n",
              "      <td>NaN</td>\n",
              "      <td>NaN</td>\n",
              "      <td>NaN</td>\n",
              "      <td>NaN</td>\n",
              "      <td>NaN</td>\n",
              "      <td>NaN</td>\n",
              "      <td>NaN</td>\n",
              "    </tr>\n",
              "  </tbody>\n",
              "</table>\n",
              "<p>5 rows × 207699 columns</p>\n",
              "</div>"
            ],
            "text/plain": [
              "ISBN      0330299891   0375404120   0586045007  ...  cn108465  cn113107  Ô½crosoft\n",
              "User-ID                                         ...                               \n",
              "254              NaN          NaN          NaN  ...       NaN       NaN        NaN\n",
              "2276             NaN          NaN          NaN  ...       NaN       NaN        NaN\n",
              "2766             NaN          NaN          NaN  ...       NaN       NaN        NaN\n",
              "2977             NaN          NaN          NaN  ...       NaN       NaN        NaN\n",
              "3363             NaN          NaN          NaN  ...       NaN       NaN        NaN\n",
              "\n",
              "[5 rows x 207699 columns]"
            ]
          },
          "metadata": {},
          "execution_count": 46
        }
      ]
    },
    {
      "cell_type": "code",
      "metadata": {
        "colab": {
          "base_uri": "https://localhost:8080/",
          "height": 390
        },
        "id": "FjzdvPj8Us7N",
        "outputId": "7600baed-4f46-4b15-8e99-6dcaf3b50699"
      },
      "source": [
        "bones_ratings = ratings_pivot['0316666343']\n",
        "similar_to_bones = ratings_pivot.corrwith(bones_ratings)\n",
        "corr_bones = pd.DataFrame(similar_to_bones, columns=['pearsonR'])\n",
        "corr_bones.dropna(inplace=True)\n",
        "corr_summary = corr_bones.join(average_rating['ratingCount'])\n",
        "corr_summary[corr_summary['ratingCount']>=300].sort_values('pearsonR', ascending=False).head(10)"
      ],
      "execution_count": 47,
      "outputs": [
        {
          "output_type": "execute_result",
          "data": {
            "text/html": [
              "<div>\n",
              "<style scoped>\n",
              "    .dataframe tbody tr th:only-of-type {\n",
              "        vertical-align: middle;\n",
              "    }\n",
              "\n",
              "    .dataframe tbody tr th {\n",
              "        vertical-align: top;\n",
              "    }\n",
              "\n",
              "    .dataframe thead th {\n",
              "        text-align: right;\n",
              "    }\n",
              "</style>\n",
              "<table border=\"1\" class=\"dataframe\">\n",
              "  <thead>\n",
              "    <tr style=\"text-align: right;\">\n",
              "      <th></th>\n",
              "      <th>pearsonR</th>\n",
              "      <th>ratingCount</th>\n",
              "    </tr>\n",
              "    <tr>\n",
              "      <th>ISBN</th>\n",
              "      <th></th>\n",
              "      <th></th>\n",
              "    </tr>\n",
              "  </thead>\n",
              "  <tbody>\n",
              "    <tr>\n",
              "      <th>0316666343</th>\n",
              "      <td>1.000000</td>\n",
              "      <td>1295</td>\n",
              "    </tr>\n",
              "    <tr>\n",
              "      <th>0312291639</th>\n",
              "      <td>0.471872</td>\n",
              "      <td>354</td>\n",
              "    </tr>\n",
              "    <tr>\n",
              "      <th>0316601950</th>\n",
              "      <td>0.434248</td>\n",
              "      <td>568</td>\n",
              "    </tr>\n",
              "    <tr>\n",
              "      <th>0446610038</th>\n",
              "      <td>0.429712</td>\n",
              "      <td>391</td>\n",
              "    </tr>\n",
              "    <tr>\n",
              "      <th>0446672211</th>\n",
              "      <td>0.421478</td>\n",
              "      <td>585</td>\n",
              "    </tr>\n",
              "    <tr>\n",
              "      <th>0385265700</th>\n",
              "      <td>0.351635</td>\n",
              "      <td>319</td>\n",
              "    </tr>\n",
              "    <tr>\n",
              "      <th>0345342968</th>\n",
              "      <td>0.316922</td>\n",
              "      <td>321</td>\n",
              "    </tr>\n",
              "    <tr>\n",
              "      <th>0060930535</th>\n",
              "      <td>0.309860</td>\n",
              "      <td>494</td>\n",
              "    </tr>\n",
              "    <tr>\n",
              "      <th>0375707972</th>\n",
              "      <td>0.308145</td>\n",
              "      <td>354</td>\n",
              "    </tr>\n",
              "    <tr>\n",
              "      <th>0684872153</th>\n",
              "      <td>0.272480</td>\n",
              "      <td>326</td>\n",
              "    </tr>\n",
              "  </tbody>\n",
              "</table>\n",
              "</div>"
            ],
            "text/plain": [
              "            pearsonR  ratingCount\n",
              "ISBN                             \n",
              "0316666343  1.000000         1295\n",
              "0312291639  0.471872          354\n",
              "0316601950  0.434248          568\n",
              "0446610038  0.429712          391\n",
              "0446672211  0.421478          585\n",
              "0385265700  0.351635          319\n",
              "0345342968  0.316922          321\n",
              "0060930535  0.309860          494\n",
              "0375707972  0.308145          354\n",
              "0684872153  0.272480          326"
            ]
          },
          "metadata": {},
          "execution_count": 47
        }
      ]
    },
    {
      "cell_type": "markdown",
      "metadata": {
        "id": "d0hdCTaoZH1z"
      },
      "source": [
        "We obtained the books’ ISBNs, but we need to find out the titles of the books to see whether they make sense."
      ]
    },
    {
      "cell_type": "code",
      "metadata": {
        "colab": {
          "base_uri": "https://localhost:8080/",
          "height": 328
        },
        "id": "nc5VOTk-ZHmM",
        "outputId": "8da8b7db-f055-4115-d739-681037294e9d"
      },
      "source": [
        "books_corr_to_bones = pd.DataFrame(['0312291639', '0316601950', '0446610038', '0446672211', '0385265700', '0345342968', '0060930535', '0375707972', '0684872153'], \n",
        "                                  index=np.arange(9), columns=['ISBN'])\n",
        "corr_books = pd.merge(books_corr_to_bones, books_df, on='ISBN')\n",
        "corr_books"
      ],
      "execution_count": 48,
      "outputs": [
        {
          "output_type": "execute_result",
          "data": {
            "text/html": [
              "<div>\n",
              "<style scoped>\n",
              "    .dataframe tbody tr th:only-of-type {\n",
              "        vertical-align: middle;\n",
              "    }\n",
              "\n",
              "    .dataframe tbody tr th {\n",
              "        vertical-align: top;\n",
              "    }\n",
              "\n",
              "    .dataframe thead th {\n",
              "        text-align: right;\n",
              "    }\n",
              "</style>\n",
              "<table border=\"1\" class=\"dataframe\">\n",
              "  <thead>\n",
              "    <tr style=\"text-align: right;\">\n",
              "      <th></th>\n",
              "      <th>ISBN</th>\n",
              "      <th>Book-Title</th>\n",
              "      <th>Book-Author</th>\n",
              "      <th>Year-Of-Publication</th>\n",
              "      <th>Publisher</th>\n",
              "    </tr>\n",
              "  </thead>\n",
              "  <tbody>\n",
              "    <tr>\n",
              "      <th>0</th>\n",
              "      <td>0312291639</td>\n",
              "      <td>The Nanny Diaries: A Novel</td>\n",
              "      <td>Emma McLaughlin</td>\n",
              "      <td>2003.0</td>\n",
              "      <td>St. Martin's Griffin</td>\n",
              "    </tr>\n",
              "    <tr>\n",
              "      <th>1</th>\n",
              "      <td>0316601950</td>\n",
              "      <td>The Pilot's Wife : A Novel</td>\n",
              "      <td>Anita Shreve</td>\n",
              "      <td>1999.0</td>\n",
              "      <td>Back Bay Books</td>\n",
              "    </tr>\n",
              "    <tr>\n",
              "      <th>2</th>\n",
              "      <td>0446610038</td>\n",
              "      <td>1st to Die: A Novel</td>\n",
              "      <td>James Patterson</td>\n",
              "      <td>2002.0</td>\n",
              "      <td>Warner Vision</td>\n",
              "    </tr>\n",
              "    <tr>\n",
              "      <th>3</th>\n",
              "      <td>0446672211</td>\n",
              "      <td>Where the Heart Is (Oprah's Book Club (Paperba...</td>\n",
              "      <td>Billie Letts</td>\n",
              "      <td>1998.0</td>\n",
              "      <td>Warner Books</td>\n",
              "    </tr>\n",
              "    <tr>\n",
              "      <th>4</th>\n",
              "      <td>0385265700</td>\n",
              "      <td>The Book of Ruth (Oprah's Book Club (Paperback))</td>\n",
              "      <td>Jane Hamilton</td>\n",
              "      <td>1990.0</td>\n",
              "      <td>Anchor</td>\n",
              "    </tr>\n",
              "    <tr>\n",
              "      <th>5</th>\n",
              "      <td>0345342968</td>\n",
              "      <td>Fahrenheit 451</td>\n",
              "      <td>RAY BRADBURY</td>\n",
              "      <td>1987.0</td>\n",
              "      <td>Del Rey</td>\n",
              "    </tr>\n",
              "    <tr>\n",
              "      <th>6</th>\n",
              "      <td>0060930535</td>\n",
              "      <td>The Poisonwood Bible: A Novel</td>\n",
              "      <td>Barbara Kingsolver</td>\n",
              "      <td>1999.0</td>\n",
              "      <td>Perennial</td>\n",
              "    </tr>\n",
              "    <tr>\n",
              "      <th>7</th>\n",
              "      <td>0375707972</td>\n",
              "      <td>The Reader</td>\n",
              "      <td>Bernhard Schlink</td>\n",
              "      <td>1999.0</td>\n",
              "      <td>Vintage Books USA</td>\n",
              "    </tr>\n",
              "    <tr>\n",
              "      <th>8</th>\n",
              "      <td>0684872153</td>\n",
              "      <td>Angela's Ashes (MMP) : A Memoir</td>\n",
              "      <td>Frank McCourt</td>\n",
              "      <td>1999.0</td>\n",
              "      <td>Scribner</td>\n",
              "    </tr>\n",
              "  </tbody>\n",
              "</table>\n",
              "</div>"
            ],
            "text/plain": [
              "         ISBN  ...             Publisher\n",
              "0  0312291639  ...  St. Martin's Griffin\n",
              "1  0316601950  ...        Back Bay Books\n",
              "2  0446610038  ...         Warner Vision\n",
              "3  0446672211  ...          Warner Books\n",
              "4  0385265700  ...                Anchor\n",
              "5  0345342968  ...               Del Rey\n",
              "6  0060930535  ...             Perennial\n",
              "7  0375707972  ...     Vintage Books USA\n",
              "8  0684872153  ...              Scribner\n",
              "\n",
              "[9 rows x 5 columns]"
            ]
          },
          "metadata": {},
          "execution_count": 48
        }
      ]
    },
    {
      "cell_type": "markdown",
      "metadata": {
        "id": "PMbt3hVIZaEr"
      },
      "source": [
        "# Collaborative Filtering Using k-Nearest Neighbors (kNN)"
      ]
    },
    {
      "cell_type": "code",
      "metadata": {
        "colab": {
          "base_uri": "https://localhost:8080/",
          "height": 204
        },
        "id": "folxgAA0V5_c",
        "outputId": "6a7f52d7-9aea-4777-f3e8-b7e6e4cf2899"
      },
      "source": [
        "combine_book_rating = pd.merge(ratings_df, books_df, on='ISBN')\n",
        "\n",
        "combine_book_rating.head()"
      ],
      "execution_count": 49,
      "outputs": [
        {
          "output_type": "execute_result",
          "data": {
            "text/html": [
              "<div>\n",
              "<style scoped>\n",
              "    .dataframe tbody tr th:only-of-type {\n",
              "        vertical-align: middle;\n",
              "    }\n",
              "\n",
              "    .dataframe tbody tr th {\n",
              "        vertical-align: top;\n",
              "    }\n",
              "\n",
              "    .dataframe thead th {\n",
              "        text-align: right;\n",
              "    }\n",
              "</style>\n",
              "<table border=\"1\" class=\"dataframe\">\n",
              "  <thead>\n",
              "    <tr style=\"text-align: right;\">\n",
              "      <th></th>\n",
              "      <th>User-ID</th>\n",
              "      <th>ISBN</th>\n",
              "      <th>Book-Rating</th>\n",
              "      <th>Book-Title</th>\n",
              "      <th>Book-Author</th>\n",
              "      <th>Year-Of-Publication</th>\n",
              "      <th>Publisher</th>\n",
              "    </tr>\n",
              "  </thead>\n",
              "  <tbody>\n",
              "    <tr>\n",
              "      <th>0</th>\n",
              "      <td>277427</td>\n",
              "      <td>002542730X</td>\n",
              "      <td>10</td>\n",
              "      <td>Politically Correct Bedtime Stories: Modern Ta...</td>\n",
              "      <td>James Finn Garner</td>\n",
              "      <td>1994.0</td>\n",
              "      <td>John Wiley &amp;amp; Sons Inc</td>\n",
              "    </tr>\n",
              "    <tr>\n",
              "      <th>1</th>\n",
              "      <td>3363</td>\n",
              "      <td>002542730X</td>\n",
              "      <td>0</td>\n",
              "      <td>Politically Correct Bedtime Stories: Modern Ta...</td>\n",
              "      <td>James Finn Garner</td>\n",
              "      <td>1994.0</td>\n",
              "      <td>John Wiley &amp;amp; Sons Inc</td>\n",
              "    </tr>\n",
              "    <tr>\n",
              "      <th>2</th>\n",
              "      <td>11676</td>\n",
              "      <td>002542730X</td>\n",
              "      <td>6</td>\n",
              "      <td>Politically Correct Bedtime Stories: Modern Ta...</td>\n",
              "      <td>James Finn Garner</td>\n",
              "      <td>1994.0</td>\n",
              "      <td>John Wiley &amp;amp; Sons Inc</td>\n",
              "    </tr>\n",
              "    <tr>\n",
              "      <th>3</th>\n",
              "      <td>12538</td>\n",
              "      <td>002542730X</td>\n",
              "      <td>10</td>\n",
              "      <td>Politically Correct Bedtime Stories: Modern Ta...</td>\n",
              "      <td>James Finn Garner</td>\n",
              "      <td>1994.0</td>\n",
              "      <td>John Wiley &amp;amp; Sons Inc</td>\n",
              "    </tr>\n",
              "    <tr>\n",
              "      <th>4</th>\n",
              "      <td>13552</td>\n",
              "      <td>002542730X</td>\n",
              "      <td>0</td>\n",
              "      <td>Politically Correct Bedtime Stories: Modern Ta...</td>\n",
              "      <td>James Finn Garner</td>\n",
              "      <td>1994.0</td>\n",
              "      <td>John Wiley &amp;amp; Sons Inc</td>\n",
              "    </tr>\n",
              "  </tbody>\n",
              "</table>\n",
              "</div>"
            ],
            "text/plain": [
              "   User-ID        ISBN  ...  Year-Of-Publication                  Publisher\n",
              "0   277427  002542730X  ...               1994.0  John Wiley &amp; Sons Inc\n",
              "1     3363  002542730X  ...               1994.0  John Wiley &amp; Sons Inc\n",
              "2    11676  002542730X  ...               1994.0  John Wiley &amp; Sons Inc\n",
              "3    12538  002542730X  ...               1994.0  John Wiley &amp; Sons Inc\n",
              "4    13552  002542730X  ...               1994.0  John Wiley &amp; Sons Inc\n",
              "\n",
              "[5 rows x 7 columns]"
            ]
          },
          "metadata": {},
          "execution_count": 49
        }
      ]
    },
    {
      "cell_type": "markdown",
      "metadata": {
        "id": "Uab5QQEaacry"
      },
      "source": [
        "We then group by book titles and create a new column for total rating count."
      ]
    },
    {
      "cell_type": "code",
      "metadata": {
        "colab": {
          "base_uri": "https://localhost:8080/",
          "height": 204
        },
        "id": "QJHxj4FGaGMr",
        "outputId": "befe22b0-d7c6-4913-d3bf-e17f6fa2bd50"
      },
      "source": [
        "\n",
        "combine_book_rating = combine_book_rating.dropna(axis = 0, subset = ['Book-Title'])\n",
        "\n",
        "book_ratingCount = (combine_book_rating.\n",
        "     groupby(by = ['Book-Title'])['Book-Rating'].\n",
        "     count().\n",
        "     reset_index().\n",
        "     rename(columns = {'Book-Rating': 'totalRatingCount'})\n",
        "     [['Book-Title', 'totalRatingCount']]\n",
        "    )\n",
        "book_ratingCount.head()"
      ],
      "execution_count": 50,
      "outputs": [
        {
          "output_type": "execute_result",
          "data": {
            "text/html": [
              "<div>\n",
              "<style scoped>\n",
              "    .dataframe tbody tr th:only-of-type {\n",
              "        vertical-align: middle;\n",
              "    }\n",
              "\n",
              "    .dataframe tbody tr th {\n",
              "        vertical-align: top;\n",
              "    }\n",
              "\n",
              "    .dataframe thead th {\n",
              "        text-align: right;\n",
              "    }\n",
              "</style>\n",
              "<table border=\"1\" class=\"dataframe\">\n",
              "  <thead>\n",
              "    <tr style=\"text-align: right;\">\n",
              "      <th></th>\n",
              "      <th>Book-Title</th>\n",
              "      <th>totalRatingCount</th>\n",
              "    </tr>\n",
              "  </thead>\n",
              "  <tbody>\n",
              "    <tr>\n",
              "      <th>0</th>\n",
              "      <td>A Light in the Storm: The Civil War Diary of ...</td>\n",
              "      <td>2</td>\n",
              "    </tr>\n",
              "    <tr>\n",
              "      <th>1</th>\n",
              "      <td>Always Have Popsicles</td>\n",
              "      <td>1</td>\n",
              "    </tr>\n",
              "    <tr>\n",
              "      <th>2</th>\n",
              "      <td>Apple Magic (The Collector's series)</td>\n",
              "      <td>1</td>\n",
              "    </tr>\n",
              "    <tr>\n",
              "      <th>3</th>\n",
              "      <td>Beyond IBM: Leadership Marketing and Finance ...</td>\n",
              "      <td>1</td>\n",
              "    </tr>\n",
              "    <tr>\n",
              "      <th>4</th>\n",
              "      <td>Clifford Visita El Hospital (Clifford El Gran...</td>\n",
              "      <td>1</td>\n",
              "    </tr>\n",
              "  </tbody>\n",
              "</table>\n",
              "</div>"
            ],
            "text/plain": [
              "                                          Book-Title  totalRatingCount\n",
              "0   A Light in the Storm: The Civil War Diary of ...                 2\n",
              "1                              Always Have Popsicles                 1\n",
              "2               Apple Magic (The Collector's series)                 1\n",
              "3   Beyond IBM: Leadership Marketing and Finance ...                 1\n",
              "4   Clifford Visita El Hospital (Clifford El Gran...                 1"
            ]
          },
          "metadata": {},
          "execution_count": 50
        }
      ]
    },
    {
      "cell_type": "markdown",
      "metadata": {
        "id": "DuFcTa3iazCq"
      },
      "source": [
        "We combine the rating data with the total rating count data, this gives us exactly what we need to find out which books are popular and filter out lesser-known books."
      ]
    },
    {
      "cell_type": "code",
      "metadata": {
        "colab": {
          "base_uri": "https://localhost:8080/",
          "height": 204
        },
        "id": "q8u4Dh58Z9pC",
        "outputId": "fcf3af97-098d-4c10-ed00-d90da70a2ba1"
      },
      "source": [
        "rating_with_totalRatingCount = combine_book_rating.merge(book_ratingCount, left_on = 'Book-Title', right_on = 'Book-Title', how = 'left')\n",
        "rating_with_totalRatingCount.head()"
      ],
      "execution_count": 51,
      "outputs": [
        {
          "output_type": "execute_result",
          "data": {
            "text/html": [
              "<div>\n",
              "<style scoped>\n",
              "    .dataframe tbody tr th:only-of-type {\n",
              "        vertical-align: middle;\n",
              "    }\n",
              "\n",
              "    .dataframe tbody tr th {\n",
              "        vertical-align: top;\n",
              "    }\n",
              "\n",
              "    .dataframe thead th {\n",
              "        text-align: right;\n",
              "    }\n",
              "</style>\n",
              "<table border=\"1\" class=\"dataframe\">\n",
              "  <thead>\n",
              "    <tr style=\"text-align: right;\">\n",
              "      <th></th>\n",
              "      <th>User-ID</th>\n",
              "      <th>ISBN</th>\n",
              "      <th>Book-Rating</th>\n",
              "      <th>Book-Title</th>\n",
              "      <th>Book-Author</th>\n",
              "      <th>Year-Of-Publication</th>\n",
              "      <th>Publisher</th>\n",
              "      <th>totalRatingCount</th>\n",
              "    </tr>\n",
              "  </thead>\n",
              "  <tbody>\n",
              "    <tr>\n",
              "      <th>0</th>\n",
              "      <td>277427</td>\n",
              "      <td>002542730X</td>\n",
              "      <td>10</td>\n",
              "      <td>Politically Correct Bedtime Stories: Modern Ta...</td>\n",
              "      <td>James Finn Garner</td>\n",
              "      <td>1994.0</td>\n",
              "      <td>John Wiley &amp;amp; Sons Inc</td>\n",
              "      <td>82</td>\n",
              "    </tr>\n",
              "    <tr>\n",
              "      <th>1</th>\n",
              "      <td>3363</td>\n",
              "      <td>002542730X</td>\n",
              "      <td>0</td>\n",
              "      <td>Politically Correct Bedtime Stories: Modern Ta...</td>\n",
              "      <td>James Finn Garner</td>\n",
              "      <td>1994.0</td>\n",
              "      <td>John Wiley &amp;amp; Sons Inc</td>\n",
              "      <td>82</td>\n",
              "    </tr>\n",
              "    <tr>\n",
              "      <th>2</th>\n",
              "      <td>11676</td>\n",
              "      <td>002542730X</td>\n",
              "      <td>6</td>\n",
              "      <td>Politically Correct Bedtime Stories: Modern Ta...</td>\n",
              "      <td>James Finn Garner</td>\n",
              "      <td>1994.0</td>\n",
              "      <td>John Wiley &amp;amp; Sons Inc</td>\n",
              "      <td>82</td>\n",
              "    </tr>\n",
              "    <tr>\n",
              "      <th>3</th>\n",
              "      <td>12538</td>\n",
              "      <td>002542730X</td>\n",
              "      <td>10</td>\n",
              "      <td>Politically Correct Bedtime Stories: Modern Ta...</td>\n",
              "      <td>James Finn Garner</td>\n",
              "      <td>1994.0</td>\n",
              "      <td>John Wiley &amp;amp; Sons Inc</td>\n",
              "      <td>82</td>\n",
              "    </tr>\n",
              "    <tr>\n",
              "      <th>4</th>\n",
              "      <td>13552</td>\n",
              "      <td>002542730X</td>\n",
              "      <td>0</td>\n",
              "      <td>Politically Correct Bedtime Stories: Modern Ta...</td>\n",
              "      <td>James Finn Garner</td>\n",
              "      <td>1994.0</td>\n",
              "      <td>John Wiley &amp;amp; Sons Inc</td>\n",
              "      <td>82</td>\n",
              "    </tr>\n",
              "  </tbody>\n",
              "</table>\n",
              "</div>"
            ],
            "text/plain": [
              "   User-ID        ISBN  ...                  Publisher totalRatingCount\n",
              "0   277427  002542730X  ...  John Wiley &amp; Sons Inc               82\n",
              "1     3363  002542730X  ...  John Wiley &amp; Sons Inc               82\n",
              "2    11676  002542730X  ...  John Wiley &amp; Sons Inc               82\n",
              "3    12538  002542730X  ...  John Wiley &amp; Sons Inc               82\n",
              "4    13552  002542730X  ...  John Wiley &amp; Sons Inc               82\n",
              "\n",
              "[5 rows x 8 columns]"
            ]
          },
          "metadata": {},
          "execution_count": 51
        }
      ]
    },
    {
      "cell_type": "code",
      "metadata": {
        "colab": {
          "base_uri": "https://localhost:8080/"
        },
        "id": "MB1McpjoblBa",
        "outputId": "75f46607-96f8-4ad5-f28a-4aa69aee2391"
      },
      "source": [
        "book_ratingCount['totalRatingCount'].describe()"
      ],
      "execution_count": 52,
      "outputs": [
        {
          "output_type": "execute_result",
          "data": {
            "text/plain": [
              "count    160576.000000\n",
              "mean          3.043680\n",
              "std           7.428434\n",
              "min           1.000000\n",
              "25%           1.000000\n",
              "50%           1.000000\n",
              "75%           2.000000\n",
              "max         365.000000\n",
              "Name: totalRatingCount, dtype: float64"
            ]
          },
          "metadata": {},
          "execution_count": 52
        }
      ]
    },
    {
      "cell_type": "code",
      "metadata": {
        "colab": {
          "base_uri": "https://localhost:8080/",
          "height": 204
        },
        "id": "ADYlIBdla7Xq",
        "outputId": "49d5462d-16ba-4c8d-d58e-c7229749adee"
      },
      "source": [
        "rating_popular_book = rating_with_totalRatingCount[rating_with_totalRatingCount['totalRatingCount'] >= 50]\n",
        "rating_popular_book.head()"
      ],
      "execution_count": 109,
      "outputs": [
        {
          "output_type": "execute_result",
          "data": {
            "text/html": [
              "<div>\n",
              "<style scoped>\n",
              "    .dataframe tbody tr th:only-of-type {\n",
              "        vertical-align: middle;\n",
              "    }\n",
              "\n",
              "    .dataframe tbody tr th {\n",
              "        vertical-align: top;\n",
              "    }\n",
              "\n",
              "    .dataframe thead th {\n",
              "        text-align: right;\n",
              "    }\n",
              "</style>\n",
              "<table border=\"1\" class=\"dataframe\">\n",
              "  <thead>\n",
              "    <tr style=\"text-align: right;\">\n",
              "      <th></th>\n",
              "      <th>User-ID</th>\n",
              "      <th>ISBN</th>\n",
              "      <th>Book-Rating</th>\n",
              "      <th>Book-Title</th>\n",
              "      <th>Book-Author</th>\n",
              "      <th>Year-Of-Publication</th>\n",
              "      <th>Publisher</th>\n",
              "      <th>totalRatingCount</th>\n",
              "    </tr>\n",
              "  </thead>\n",
              "  <tbody>\n",
              "    <tr>\n",
              "      <th>0</th>\n",
              "      <td>277427</td>\n",
              "      <td>002542730X</td>\n",
              "      <td>10</td>\n",
              "      <td>Politically Correct Bedtime Stories: Modern Ta...</td>\n",
              "      <td>James Finn Garner</td>\n",
              "      <td>1994.0</td>\n",
              "      <td>John Wiley &amp;amp; Sons Inc</td>\n",
              "      <td>82</td>\n",
              "    </tr>\n",
              "    <tr>\n",
              "      <th>1</th>\n",
              "      <td>3363</td>\n",
              "      <td>002542730X</td>\n",
              "      <td>0</td>\n",
              "      <td>Politically Correct Bedtime Stories: Modern Ta...</td>\n",
              "      <td>James Finn Garner</td>\n",
              "      <td>1994.0</td>\n",
              "      <td>John Wiley &amp;amp; Sons Inc</td>\n",
              "      <td>82</td>\n",
              "    </tr>\n",
              "    <tr>\n",
              "      <th>2</th>\n",
              "      <td>11676</td>\n",
              "      <td>002542730X</td>\n",
              "      <td>6</td>\n",
              "      <td>Politically Correct Bedtime Stories: Modern Ta...</td>\n",
              "      <td>James Finn Garner</td>\n",
              "      <td>1994.0</td>\n",
              "      <td>John Wiley &amp;amp; Sons Inc</td>\n",
              "      <td>82</td>\n",
              "    </tr>\n",
              "    <tr>\n",
              "      <th>3</th>\n",
              "      <td>12538</td>\n",
              "      <td>002542730X</td>\n",
              "      <td>10</td>\n",
              "      <td>Politically Correct Bedtime Stories: Modern Ta...</td>\n",
              "      <td>James Finn Garner</td>\n",
              "      <td>1994.0</td>\n",
              "      <td>John Wiley &amp;amp; Sons Inc</td>\n",
              "      <td>82</td>\n",
              "    </tr>\n",
              "    <tr>\n",
              "      <th>4</th>\n",
              "      <td>13552</td>\n",
              "      <td>002542730X</td>\n",
              "      <td>0</td>\n",
              "      <td>Politically Correct Bedtime Stories: Modern Ta...</td>\n",
              "      <td>James Finn Garner</td>\n",
              "      <td>1994.0</td>\n",
              "      <td>John Wiley &amp;amp; Sons Inc</td>\n",
              "      <td>82</td>\n",
              "    </tr>\n",
              "  </tbody>\n",
              "</table>\n",
              "</div>"
            ],
            "text/plain": [
              "   User-ID        ISBN  ...                  Publisher totalRatingCount\n",
              "0   277427  002542730X  ...  John Wiley &amp; Sons Inc               82\n",
              "1     3363  002542730X  ...  John Wiley &amp; Sons Inc               82\n",
              "2    11676  002542730X  ...  John Wiley &amp; Sons Inc               82\n",
              "3    12538  002542730X  ...  John Wiley &amp; Sons Inc               82\n",
              "4    13552  002542730X  ...  John Wiley &amp; Sons Inc               82\n",
              "\n",
              "[5 rows x 8 columns]"
            ]
          },
          "metadata": {},
          "execution_count": 109
        }
      ]
    },
    {
      "cell_type": "code",
      "metadata": {
        "colab": {
          "base_uri": "https://localhost:8080/"
        },
        "id": "OeYMOyqMcmW5",
        "outputId": "33ddbc43-ba38-4c76-bf79-8b7bfca56912"
      },
      "source": [
        "rating_popular_book.shape"
      ],
      "execution_count": 110,
      "outputs": [
        {
          "output_type": "execute_result",
          "data": {
            "text/plain": [
              "(62149, 8)"
            ]
          },
          "metadata": {},
          "execution_count": 110
        }
      ]
    },
    {
      "cell_type": "code",
      "metadata": {
        "id": "vg71vnSvhEEg"
      },
      "source": [
        ""
      ],
      "execution_count": null,
      "outputs": []
    },
    {
      "cell_type": "code",
      "metadata": {
        "id": "0Epm1HuJhNNJ"
      },
      "source": [
        ""
      ],
      "execution_count": null,
      "outputs": []
    },
    {
      "cell_type": "markdown",
      "metadata": {
        "id": "i8AOOa3SY0E9"
      },
      "source": [
        "# **Filter to users in US**"
      ]
    },
    {
      "cell_type": "markdown",
      "metadata": {
        "id": "EPEkNVQvWzp2"
      },
      "source": [
        "In order to improve computing speed, and not run into the 'MemoryError' issue we will limit our users data to those in the US. Then combine the user data with rating data and total rating count data."
      ]
    },
    {
      "cell_type": "code",
      "metadata": {
        "colab": {
          "base_uri": "https://localhost:8080/",
          "height": 0
        },
        "id": "W3ht2LD0WFef",
        "outputId": "f9c29a19-bb44-4ac7-fc1e-bd38d7f793ff"
      },
      "source": [
        "combined = rating_popular_book.merge(users_df, left_on = 'User-ID', right_on = 'User-ID', how = 'left')\n",
        "\n",
        "us_user_rating = combined[combined['Location'].str.contains(\"usa\")]\n",
        "us_user_rating=us_user_rating.drop('Age', axis=1)\n",
        "us_user_rating"
      ],
      "execution_count": 111,
      "outputs": [
        {
          "output_type": "execute_result",
          "data": {
            "text/html": [
              "<div>\n",
              "<style scoped>\n",
              "    .dataframe tbody tr th:only-of-type {\n",
              "        vertical-align: middle;\n",
              "    }\n",
              "\n",
              "    .dataframe tbody tr th {\n",
              "        vertical-align: top;\n",
              "    }\n",
              "\n",
              "    .dataframe thead th {\n",
              "        text-align: right;\n",
              "    }\n",
              "</style>\n",
              "<table border=\"1\" class=\"dataframe\">\n",
              "  <thead>\n",
              "    <tr style=\"text-align: right;\">\n",
              "      <th></th>\n",
              "      <th>User-ID</th>\n",
              "      <th>ISBN</th>\n",
              "      <th>Book-Rating</th>\n",
              "      <th>Book-Title</th>\n",
              "      <th>Book-Author</th>\n",
              "      <th>Year-Of-Publication</th>\n",
              "      <th>Publisher</th>\n",
              "      <th>totalRatingCount</th>\n",
              "      <th>Location</th>\n",
              "    </tr>\n",
              "  </thead>\n",
              "  <tbody>\n",
              "    <tr>\n",
              "      <th>0</th>\n",
              "      <td>277427</td>\n",
              "      <td>002542730X</td>\n",
              "      <td>10</td>\n",
              "      <td>Politically Correct Bedtime Stories: Modern Ta...</td>\n",
              "      <td>James Finn Garner</td>\n",
              "      <td>1994.0</td>\n",
              "      <td>John Wiley &amp;amp; Sons Inc</td>\n",
              "      <td>82</td>\n",
              "      <td>gilbert, arizona, usa</td>\n",
              "    </tr>\n",
              "    <tr>\n",
              "      <th>1</th>\n",
              "      <td>3363</td>\n",
              "      <td>002542730X</td>\n",
              "      <td>0</td>\n",
              "      <td>Politically Correct Bedtime Stories: Modern Ta...</td>\n",
              "      <td>James Finn Garner</td>\n",
              "      <td>1994.0</td>\n",
              "      <td>John Wiley &amp;amp; Sons Inc</td>\n",
              "      <td>82</td>\n",
              "      <td>knoxville, tennessee, usa</td>\n",
              "    </tr>\n",
              "    <tr>\n",
              "      <th>3</th>\n",
              "      <td>12538</td>\n",
              "      <td>002542730X</td>\n",
              "      <td>10</td>\n",
              "      <td>Politically Correct Bedtime Stories: Modern Ta...</td>\n",
              "      <td>James Finn Garner</td>\n",
              "      <td>1994.0</td>\n",
              "      <td>John Wiley &amp;amp; Sons Inc</td>\n",
              "      <td>82</td>\n",
              "      <td>byron, minnesota, usa</td>\n",
              "    </tr>\n",
              "    <tr>\n",
              "      <th>4</th>\n",
              "      <td>13552</td>\n",
              "      <td>002542730X</td>\n",
              "      <td>0</td>\n",
              "      <td>Politically Correct Bedtime Stories: Modern Ta...</td>\n",
              "      <td>James Finn Garner</td>\n",
              "      <td>1994.0</td>\n",
              "      <td>John Wiley &amp;amp; Sons Inc</td>\n",
              "      <td>82</td>\n",
              "      <td>cordova, tennessee, usa</td>\n",
              "    </tr>\n",
              "    <tr>\n",
              "      <th>5</th>\n",
              "      <td>16795</td>\n",
              "      <td>002542730X</td>\n",
              "      <td>0</td>\n",
              "      <td>Politically Correct Bedtime Stories: Modern Ta...</td>\n",
              "      <td>James Finn Garner</td>\n",
              "      <td>1994.0</td>\n",
              "      <td>John Wiley &amp;amp; Sons Inc</td>\n",
              "      <td>82</td>\n",
              "      <td>mechanicsville, maryland, usa</td>\n",
              "    </tr>\n",
              "    <tr>\n",
              "      <th>...</th>\n",
              "      <td>...</td>\n",
              "      <td>...</td>\n",
              "      <td>...</td>\n",
              "      <td>...</td>\n",
              "      <td>...</td>\n",
              "      <td>...</td>\n",
              "      <td>...</td>\n",
              "      <td>...</td>\n",
              "      <td>...</td>\n",
              "    </tr>\n",
              "    <tr>\n",
              "      <th>62144</th>\n",
              "      <td>269566</td>\n",
              "      <td>0670809381</td>\n",
              "      <td>0</td>\n",
              "      <td>Echoes</td>\n",
              "      <td>Maeve Binchy</td>\n",
              "      <td>1986.0</td>\n",
              "      <td>Penguin USA</td>\n",
              "      <td>54</td>\n",
              "      <td>seattle, washington, usa</td>\n",
              "    </tr>\n",
              "    <tr>\n",
              "      <th>62145</th>\n",
              "      <td>271284</td>\n",
              "      <td>0440910927</td>\n",
              "      <td>0</td>\n",
              "      <td>The Rainmaker</td>\n",
              "      <td>John Grisham</td>\n",
              "      <td>1995.0</td>\n",
              "      <td>Island</td>\n",
              "      <td>180</td>\n",
              "      <td>alexandria, virginia, usa</td>\n",
              "    </tr>\n",
              "    <tr>\n",
              "      <th>62146</th>\n",
              "      <td>271705</td>\n",
              "      <td>B0001PIOX4</td>\n",
              "      <td>0</td>\n",
              "      <td>Fahrenheit 451</td>\n",
              "      <td>Ray Bradbury</td>\n",
              "      <td>1993.0</td>\n",
              "      <td>Simon &amp;amp; Schuster</td>\n",
              "      <td>119</td>\n",
              "      <td>atlanta, georgia, usa</td>\n",
              "    </tr>\n",
              "    <tr>\n",
              "      <th>62147</th>\n",
              "      <td>274808</td>\n",
              "      <td>0449701913</td>\n",
              "      <td>0</td>\n",
              "      <td>Homecoming</td>\n",
              "      <td>Cynthia Voigt</td>\n",
              "      <td>1983.0</td>\n",
              "      <td>Fawcett Books</td>\n",
              "      <td>61</td>\n",
              "      <td>paynesville, , usa</td>\n",
              "    </tr>\n",
              "    <tr>\n",
              "      <th>62148</th>\n",
              "      <td>275970</td>\n",
              "      <td>1586210661</td>\n",
              "      <td>9</td>\n",
              "      <td>Me Talk Pretty One Day</td>\n",
              "      <td>David Sedaris</td>\n",
              "      <td>2001.0</td>\n",
              "      <td>Time Warner Audio Major</td>\n",
              "      <td>146</td>\n",
              "      <td>pittsburgh, pennsylvania, usa</td>\n",
              "    </tr>\n",
              "  </tbody>\n",
              "</table>\n",
              "<p>51393 rows × 9 columns</p>\n",
              "</div>"
            ],
            "text/plain": [
              "       User-ID        ISBN  ...  totalRatingCount                       Location\n",
              "0       277427  002542730X  ...                82          gilbert, arizona, usa\n",
              "1         3363  002542730X  ...                82      knoxville, tennessee, usa\n",
              "3        12538  002542730X  ...                82          byron, minnesota, usa\n",
              "4        13552  002542730X  ...                82        cordova, tennessee, usa\n",
              "5        16795  002542730X  ...                82  mechanicsville, maryland, usa\n",
              "...        ...         ...  ...               ...                            ...\n",
              "62144   269566  0670809381  ...                54       seattle, washington, usa\n",
              "62145   271284  0440910927  ...               180      alexandria, virginia, usa\n",
              "62146   271705  B0001PIOX4  ...               119          atlanta, georgia, usa\n",
              "62147   274808  0449701913  ...                61             paynesville, , usa\n",
              "62148   275970  1586210661  ...               146  pittsburgh, pennsylvania, usa\n",
              "\n",
              "[51393 rows x 9 columns]"
            ]
          },
          "metadata": {},
          "execution_count": 111
        }
      ]
    },
    {
      "cell_type": "markdown",
      "metadata": {
        "id": "KI8Kwi8YZBSR"
      },
      "source": [
        "Remove the duplicates present in rating popular book data."
      ]
    },
    {
      "cell_type": "code",
      "metadata": {
        "id": "CNVnc9tHbozL",
        "colab": {
          "base_uri": "https://localhost:8080/"
        },
        "outputId": "bbbed104-38b2-49c1-ce93-857f07c67c26"
      },
      "source": [
        "if not rating_popular_book[rating_popular_book.duplicated(['User-ID', 'Book-Title'])].empty:\n",
        "\n",
        "    # Identifying number of rows corresponding to the US.\n",
        "    print('Actual rating_popular_book shape {0}'.format(rating_popular_book.shape))\n",
        "\n",
        "    rating_popular_book = rating_popular_book.drop_duplicates(['User-ID', 'Book-Title'])\n",
        "\n",
        "    # Identifying number of rows corresponding to the US duplicates.\n",
        "    print('Rating_popular_book shape after removing the duplicates  {0}'.format(rating_popular_book.shape))"
      ],
      "execution_count": 112,
      "outputs": [
        {
          "output_type": "stream",
          "name": "stdout",
          "text": [
            "Actual rating_popular_book shape (62149, 8)\n",
            "Rating_popular_book shape after removing the duplicates  (60141, 8)\n"
          ]
        }
      ]
    },
    {
      "cell_type": "markdown",
      "metadata": {
        "id": "_JEXsY8mZL7u"
      },
      "source": [
        "# **Implementing kNN**"
      ]
    },
    {
      "cell_type": "markdown",
      "metadata": {
        "id": "BJQsRUdDZS0W"
      },
      "source": [
        "We convert our table to a 2D matrix, and fill the missing values with zeros (since we will calculate distances between rating vectors). We then transform the values(ratings) of the matrix dataframe into a scipy sparse matrix for more efficient calculations.\n",
        "\n",
        "Finding the Nearest Neighbors We use unsupervised algorithms with sklearn.neighbors. The algorithm we use to compute the nearest neighbors is “auto”, and we specify “metric=minkowski”. Finally, we fit the model."
      ]
    },
    {
      "cell_type": "markdown",
      "metadata": {
        "id": "ZsqbJmv7J8KU"
      },
      "source": [
        "At first create a pivote table."
      ]
    },
    {
      "cell_type": "code",
      "metadata": {
        "id": "MCHQEsmAZUMf"
      },
      "source": [
        "from scipy.sparse import csr_matrix\n",
        "us_user_rating_pivot = rating_popular_book.pivot(index = 'Book-Title',columns = 'User-ID', values = 'Book-Rating').fillna(0)\n",
        "us_user_rating_matrix = csr_matrix(us_user_rating_pivot.values)"
      ],
      "execution_count": 113,
      "outputs": []
    },
    {
      "cell_type": "markdown",
      "metadata": {
        "id": "L3QHkfLUN2DU"
      },
      "source": [
        "**Finding the Nearest Neighbors**"
      ]
    },
    {
      "cell_type": "code",
      "metadata": {
        "colab": {
          "base_uri": "https://localhost:8080/"
        },
        "id": "U-9YpNnkJfBV",
        "outputId": "ddae9760-0d3d-4590-b327-a43d35a2fa91"
      },
      "source": [
        "from sklearn.neighbors import NearestNeighbors\n",
        "\n",
        "model_knn = NearestNeighbors(metric = 'cosine', algorithm = 'brute')\n",
        "model_knn.fit(us_user_rating_matrix)"
      ],
      "execution_count": 114,
      "outputs": [
        {
          "output_type": "execute_result",
          "data": {
            "text/plain": [
              "NearestNeighbors(algorithm='brute', leaf_size=30, metric='cosine',\n",
              "                 metric_params=None, n_jobs=None, n_neighbors=5, p=2,\n",
              "                 radius=1.0)"
            ]
          },
          "metadata": {},
          "execution_count": 114
        }
      ]
    },
    {
      "cell_type": "markdown",
      "metadata": {
        "id": "lP-YxnpPOhtt"
      },
      "source": [
        "**Test our model and make few recommendation**"
      ]
    },
    {
      "cell_type": "code",
      "metadata": {
        "colab": {
          "base_uri": "https://localhost:8080/"
        },
        "id": "2r2G0_qMfRtD",
        "outputId": "8857a59f-f2c5-4108-ffb5-fff4545642d8"
      },
      "source": [
        "query_index = np.random.choice(us_user_rating_pivot.shape[0])\n",
        "print(query_index)\n"
      ],
      "execution_count": 115,
      "outputs": [
        {
          "output_type": "stream",
          "name": "stdout",
          "text": [
            "444\n"
          ]
        }
      ]
    },
    {
      "cell_type": "code",
      "metadata": {
        "id": "wFzpX_NyiEzo"
      },
      "source": [
        "distances, indices = model_knn.kneighbors(us_user_rating_pivot.iloc[query_index,:].values.reshape(1, -1), n_neighbors = 6)"
      ],
      "execution_count": 116,
      "outputs": []
    },
    {
      "cell_type": "code",
      "metadata": {
        "colab": {
          "base_uri": "https://localhost:8080/",
          "height": 35
        },
        "id": "mVkw-1fHfX0i",
        "outputId": "bde6f98a-df41-4886-d40a-a6443a334486"
      },
      "source": [
        "us_user_rating_pivot.index[query_index]"
      ],
      "execution_count": 117,
      "outputs": [
        {
          "output_type": "execute_result",
          "data": {
            "application/vnd.google.colaboratory.intrinsic+json": {
              "type": "string"
            },
            "text/plain": [
              "'September'"
            ]
          },
          "metadata": {},
          "execution_count": 117
        }
      ]
    },
    {
      "cell_type": "code",
      "metadata": {
        "colab": {
          "base_uri": "https://localhost:8080/"
        },
        "id": "yXj8o7HpaQJ5",
        "outputId": "d7b1c482-13a2-402c-abc0-19062b9136ea"
      },
      "source": [
        "for i in range(0, len(distances.flatten())):\n",
        "    if i == 0:\n",
        "        print('Recommendations for {0}:\\n'.format(us_user_rating_pivot.index[query_index]))\n",
        "    else:\n",
        "        print('{0}: {1}, with distance of {2}:'.format(i, us_user_rating_pivot.index[indices.flatten()[i]], distances.flatten()[i]))"
      ],
      "execution_count": 118,
      "outputs": [
        {
          "output_type": "stream",
          "name": "stdout",
          "text": [
            "Recommendations for September:\n",
            "\n",
            "1: Winter Solstice, with distance of 0.38226536830714997:\n",
            "2: Coming Home, with distance of 0.46679965084648345:\n",
            "3: Tara Road, with distance of 0.6123808975630446:\n",
            "4: Evening Class, with distance of 0.6176567016660519:\n",
            "5: Echoes, with distance of 0.6303984348336507:\n"
          ]
        }
      ]
    },
    {
      "cell_type": "markdown",
      "metadata": {
        "id": "QHbezniw2SZ0"
      },
      "source": [
        "**We are only considering those ratings that are not eqaul to 0.**"
      ]
    },
    {
      "cell_type": "code",
      "metadata": {
        "colab": {
          "base_uri": "https://localhost:8080/"
        },
        "id": "XpGIpylozBjg",
        "outputId": "acc9e553-da6b-4103-f945-6e02cb015b69"
      },
      "source": [
        "us_user_rating.shape"
      ],
      "execution_count": 119,
      "outputs": [
        {
          "output_type": "execute_result",
          "data": {
            "text/plain": [
              "(51393, 9)"
            ]
          },
          "metadata": {},
          "execution_count": 119
        }
      ]
    },
    {
      "cell_type": "code",
      "metadata": {
        "id": "egUnfdhJ0bXt"
      },
      "source": [
        "# Ratings that are not 0.\n",
        "us_user_rating= us_user_rating[us_user_rating['Book-Rating'] != 0]"
      ],
      "execution_count": 120,
      "outputs": []
    },
    {
      "cell_type": "code",
      "metadata": {
        "colab": {
          "base_uri": "https://localhost:8080/"
        },
        "id": "jOaf4u8Q1CBX",
        "outputId": "cd670e67-3cfb-48f5-916c-6da8ef289f4c"
      },
      "source": [
        "us_user_rating.shape"
      ],
      "execution_count": 121,
      "outputs": [
        {
          "output_type": "execute_result",
          "data": {
            "text/plain": [
              "(12110, 9)"
            ]
          },
          "metadata": {},
          "execution_count": 121
        }
      ]
    },
    {
      "cell_type": "code",
      "metadata": {
        "colab": {
          "base_uri": "https://localhost:8080/",
          "height": 306
        },
        "id": "5XQjG5vD1UtI",
        "outputId": "c8bcff6f-9ee1-4ae2-e3c6-75baa896018a"
      },
      "source": [
        "us_user_rating.head()"
      ],
      "execution_count": 122,
      "outputs": [
        {
          "output_type": "execute_result",
          "data": {
            "text/html": [
              "<div>\n",
              "<style scoped>\n",
              "    .dataframe tbody tr th:only-of-type {\n",
              "        vertical-align: middle;\n",
              "    }\n",
              "\n",
              "    .dataframe tbody tr th {\n",
              "        vertical-align: top;\n",
              "    }\n",
              "\n",
              "    .dataframe thead th {\n",
              "        text-align: right;\n",
              "    }\n",
              "</style>\n",
              "<table border=\"1\" class=\"dataframe\">\n",
              "  <thead>\n",
              "    <tr style=\"text-align: right;\">\n",
              "      <th></th>\n",
              "      <th>User-ID</th>\n",
              "      <th>ISBN</th>\n",
              "      <th>Book-Rating</th>\n",
              "      <th>Book-Title</th>\n",
              "      <th>Book-Author</th>\n",
              "      <th>Year-Of-Publication</th>\n",
              "      <th>Publisher</th>\n",
              "      <th>totalRatingCount</th>\n",
              "      <th>Location</th>\n",
              "    </tr>\n",
              "  </thead>\n",
              "  <tbody>\n",
              "    <tr>\n",
              "      <th>0</th>\n",
              "      <td>277427</td>\n",
              "      <td>002542730X</td>\n",
              "      <td>10</td>\n",
              "      <td>Politically Correct Bedtime Stories: Modern Ta...</td>\n",
              "      <td>James Finn Garner</td>\n",
              "      <td>1994.0</td>\n",
              "      <td>John Wiley &amp;amp; Sons Inc</td>\n",
              "      <td>82</td>\n",
              "      <td>gilbert, arizona, usa</td>\n",
              "    </tr>\n",
              "    <tr>\n",
              "      <th>3</th>\n",
              "      <td>12538</td>\n",
              "      <td>002542730X</td>\n",
              "      <td>10</td>\n",
              "      <td>Politically Correct Bedtime Stories: Modern Ta...</td>\n",
              "      <td>James Finn Garner</td>\n",
              "      <td>1994.0</td>\n",
              "      <td>John Wiley &amp;amp; Sons Inc</td>\n",
              "      <td>82</td>\n",
              "      <td>byron, minnesota, usa</td>\n",
              "    </tr>\n",
              "    <tr>\n",
              "      <th>12</th>\n",
              "      <td>41084</td>\n",
              "      <td>002542730X</td>\n",
              "      <td>7</td>\n",
              "      <td>Politically Correct Bedtime Stories: Modern Ta...</td>\n",
              "      <td>James Finn Garner</td>\n",
              "      <td>1994.0</td>\n",
              "      <td>John Wiley &amp;amp; Sons Inc</td>\n",
              "      <td>82</td>\n",
              "      <td>orlando, florida, usa</td>\n",
              "    </tr>\n",
              "    <tr>\n",
              "      <th>16</th>\n",
              "      <td>52584</td>\n",
              "      <td>002542730X</td>\n",
              "      <td>10</td>\n",
              "      <td>Politically Correct Bedtime Stories: Modern Ta...</td>\n",
              "      <td>James Finn Garner</td>\n",
              "      <td>1994.0</td>\n",
              "      <td>John Wiley &amp;amp; Sons Inc</td>\n",
              "      <td>82</td>\n",
              "      <td>livermore, california, usa</td>\n",
              "    </tr>\n",
              "    <tr>\n",
              "      <th>19</th>\n",
              "      <td>71712</td>\n",
              "      <td>002542730X</td>\n",
              "      <td>6</td>\n",
              "      <td>Politically Correct Bedtime Stories: Modern Ta...</td>\n",
              "      <td>James Finn Garner</td>\n",
              "      <td>1994.0</td>\n",
              "      <td>John Wiley &amp;amp; Sons Inc</td>\n",
              "      <td>82</td>\n",
              "      <td>valley center, kansas, usa</td>\n",
              "    </tr>\n",
              "  </tbody>\n",
              "</table>\n",
              "</div>"
            ],
            "text/plain": [
              "    User-ID        ISBN  ...  totalRatingCount                    Location\n",
              "0    277427  002542730X  ...                82       gilbert, arizona, usa\n",
              "3     12538  002542730X  ...                82       byron, minnesota, usa\n",
              "12    41084  002542730X  ...                82       orlando, florida, usa\n",
              "16    52584  002542730X  ...                82  livermore, california, usa\n",
              "19    71712  002542730X  ...                82  valley center, kansas, usa\n",
              "\n",
              "[5 rows x 9 columns]"
            ]
          },
          "metadata": {},
          "execution_count": 122
        }
      ]
    },
    {
      "cell_type": "code",
      "metadata": {
        "id": "ndi2A3EEhaW4"
      },
      "source": [
        ""
      ],
      "execution_count": 122,
      "outputs": []
    },
    {
      "cell_type": "code",
      "metadata": {
        "id": "Go2anpVeha9H"
      },
      "source": [
        ""
      ],
      "execution_count": 122,
      "outputs": []
    },
    {
      "cell_type": "markdown",
      "metadata": {
        "id": "jBdVm6O6ZK8o"
      },
      "source": [
        "# **Filtering users with atleast 10 interaction**"
      ]
    },
    {
      "cell_type": "code",
      "metadata": {
        "colab": {
          "base_uri": "https://localhost:8080/"
        },
        "id": "sxkTGHw33I7y",
        "outputId": "66596a6c-4ef7-47bf-c92e-470e65d6b1d8"
      },
      "source": [
        "users_interactions_count_df = us_user_rating.groupby(['ISBN', 'User-ID']).size().groupby('User-ID').size()\n",
        "print('Number of users: %d' % len(users_interactions_count_df))\n",
        "\n",
        "users_with_enough_interactions_df = users_interactions_count_df[users_interactions_count_df >= 10].reset_index()[['User-ID']]\n",
        "print('Number of users with at least 10 interactions: %d' % len(users_with_enough_interactions_df))"
      ],
      "execution_count": 123,
      "outputs": [
        {
          "output_type": "stream",
          "name": "stdout",
          "text": [
            "Number of users: 622\n",
            "Number of users with at least 10 interactions: 413\n"
          ]
        }
      ]
    },
    {
      "cell_type": "code",
      "metadata": {
        "colab": {
          "base_uri": "https://localhost:8080/"
        },
        "id": "9ZWFYs4o6rEy",
        "outputId": "dc499ea3-321e-481e-e802-71dc965a579c"
      },
      "source": [
        "print('Number of interactions: %d' % len(us_user_rating))\n",
        "interactions_from_selected_users_df = us_user_rating.merge(users_with_enough_interactions_df, \n",
        "               how = 'right',\n",
        "               left_on = 'User-ID',\n",
        "               right_on = 'User-ID')\n",
        "print('Number of interactions from users with at least 10 interactions: %d' % len(interactions_from_selected_users_df))"
      ],
      "execution_count": 124,
      "outputs": [
        {
          "output_type": "stream",
          "name": "stdout",
          "text": [
            "Number of interactions: 12110\n",
            "Number of interactions from users with at least 10 interactions: 11049\n"
          ]
        }
      ]
    },
    {
      "cell_type": "code",
      "metadata": {
        "colab": {
          "base_uri": "https://localhost:8080/",
          "height": 0
        },
        "id": "2Wj1D7lf3JCs",
        "outputId": "b8157b8a-ad70-42e9-df48-ee6f4c8d28b6"
      },
      "source": [
        "interactions_from_selected_users_df.head(10)"
      ],
      "execution_count": 125,
      "outputs": [
        {
          "output_type": "execute_result",
          "data": {
            "text/html": [
              "<div>\n",
              "<style scoped>\n",
              "    .dataframe tbody tr th:only-of-type {\n",
              "        vertical-align: middle;\n",
              "    }\n",
              "\n",
              "    .dataframe tbody tr th {\n",
              "        vertical-align: top;\n",
              "    }\n",
              "\n",
              "    .dataframe thead th {\n",
              "        text-align: right;\n",
              "    }\n",
              "</style>\n",
              "<table border=\"1\" class=\"dataframe\">\n",
              "  <thead>\n",
              "    <tr style=\"text-align: right;\">\n",
              "      <th></th>\n",
              "      <th>User-ID</th>\n",
              "      <th>ISBN</th>\n",
              "      <th>Book-Rating</th>\n",
              "      <th>Book-Title</th>\n",
              "      <th>Book-Author</th>\n",
              "      <th>Year-Of-Publication</th>\n",
              "      <th>Publisher</th>\n",
              "      <th>totalRatingCount</th>\n",
              "      <th>Location</th>\n",
              "    </tr>\n",
              "  </thead>\n",
              "  <tbody>\n",
              "    <tr>\n",
              "      <th>0</th>\n",
              "      <td>254</td>\n",
              "      <td>0142001740</td>\n",
              "      <td>9</td>\n",
              "      <td>The Secret Life of Bees</td>\n",
              "      <td>Sue Monk Kidd</td>\n",
              "      <td>2003.0</td>\n",
              "      <td>Penguin Books</td>\n",
              "      <td>209</td>\n",
              "      <td>minneapolis, minnesota, usa</td>\n",
              "    </tr>\n",
              "    <tr>\n",
              "      <th>1</th>\n",
              "      <td>254</td>\n",
              "      <td>0439064872</td>\n",
              "      <td>9</td>\n",
              "      <td>Harry Potter and the Chamber of Secrets (Book 2)</td>\n",
              "      <td>J. K. Rowling</td>\n",
              "      <td>2000.0</td>\n",
              "      <td>Scholastic</td>\n",
              "      <td>184</td>\n",
              "      <td>minneapolis, minnesota, usa</td>\n",
              "    </tr>\n",
              "    <tr>\n",
              "      <th>2</th>\n",
              "      <td>254</td>\n",
              "      <td>0439136369</td>\n",
              "      <td>9</td>\n",
              "      <td>Harry Potter and the Prisoner of Azkaban (Book 3)</td>\n",
              "      <td>J. K. Rowling</td>\n",
              "      <td>2001.0</td>\n",
              "      <td>Scholastic</td>\n",
              "      <td>138</td>\n",
              "      <td>minneapolis, minnesota, usa</td>\n",
              "    </tr>\n",
              "    <tr>\n",
              "      <th>3</th>\n",
              "      <td>254</td>\n",
              "      <td>0380789035</td>\n",
              "      <td>10</td>\n",
              "      <td>American Gods</td>\n",
              "      <td>Neil Gaiman</td>\n",
              "      <td>2002.0</td>\n",
              "      <td>HarperTorch</td>\n",
              "      <td>95</td>\n",
              "      <td>minneapolis, minnesota, usa</td>\n",
              "    </tr>\n",
              "    <tr>\n",
              "      <th>4</th>\n",
              "      <td>254</td>\n",
              "      <td>037582345X</td>\n",
              "      <td>9</td>\n",
              "      <td>The Golden Compass (His Dark Materials, Book 1)</td>\n",
              "      <td>PHILIP PULLMAN</td>\n",
              "      <td>2002.0</td>\n",
              "      <td>Knopf Books for Young Readers</td>\n",
              "      <td>131</td>\n",
              "      <td>minneapolis, minnesota, usa</td>\n",
              "    </tr>\n",
              "    <tr>\n",
              "      <th>5</th>\n",
              "      <td>254</td>\n",
              "      <td>0375823468</td>\n",
              "      <td>9</td>\n",
              "      <td>The Subtle Knife (His Dark Materials, Book 2)</td>\n",
              "      <td>PHILIP PULLMAN</td>\n",
              "      <td>2002.0</td>\n",
              "      <td>Knopf Books for Young Readers</td>\n",
              "      <td>83</td>\n",
              "      <td>minneapolis, minnesota, usa</td>\n",
              "    </tr>\n",
              "    <tr>\n",
              "      <th>6</th>\n",
              "      <td>254</td>\n",
              "      <td>0380973634</td>\n",
              "      <td>10</td>\n",
              "      <td>Neverwhere</td>\n",
              "      <td>Neil Gaiman</td>\n",
              "      <td>1997.0</td>\n",
              "      <td>William Morrow</td>\n",
              "      <td>72</td>\n",
              "      <td>minneapolis, minnesota, usa</td>\n",
              "    </tr>\n",
              "    <tr>\n",
              "      <th>7</th>\n",
              "      <td>254</td>\n",
              "      <td>0399146431</td>\n",
              "      <td>9</td>\n",
              "      <td>The Bonesetter's Daughter</td>\n",
              "      <td>Amy Tan</td>\n",
              "      <td>2001.0</td>\n",
              "      <td>Putnam Publishing Group</td>\n",
              "      <td>135</td>\n",
              "      <td>minneapolis, minnesota, usa</td>\n",
              "    </tr>\n",
              "    <tr>\n",
              "      <th>8</th>\n",
              "      <td>254</td>\n",
              "      <td>0439064864</td>\n",
              "      <td>9</td>\n",
              "      <td>Harry Potter and the Chamber of Secrets (Book 2)</td>\n",
              "      <td>J. K. Rowling</td>\n",
              "      <td>1999.0</td>\n",
              "      <td>Scholastic</td>\n",
              "      <td>184</td>\n",
              "      <td>minneapolis, minnesota, usa</td>\n",
              "    </tr>\n",
              "    <tr>\n",
              "      <th>9</th>\n",
              "      <td>254</td>\n",
              "      <td>0439136350</td>\n",
              "      <td>9</td>\n",
              "      <td>Harry Potter and the Prisoner of Azkaban (Book 3)</td>\n",
              "      <td>J. K. Rowling</td>\n",
              "      <td>1999.0</td>\n",
              "      <td>Scholastic</td>\n",
              "      <td>138</td>\n",
              "      <td>minneapolis, minnesota, usa</td>\n",
              "    </tr>\n",
              "  </tbody>\n",
              "</table>\n",
              "</div>"
            ],
            "text/plain": [
              "   User-ID        ISBN  ...  totalRatingCount                     Location\n",
              "0      254  0142001740  ...               209  minneapolis, minnesota, usa\n",
              "1      254  0439064872  ...               184  minneapolis, minnesota, usa\n",
              "2      254  0439136369  ...               138  minneapolis, minnesota, usa\n",
              "3      254  0380789035  ...                95  minneapolis, minnesota, usa\n",
              "4      254  037582345X  ...               131  minneapolis, minnesota, usa\n",
              "5      254  0375823468  ...                83  minneapolis, minnesota, usa\n",
              "6      254  0380973634  ...                72  minneapolis, minnesota, usa\n",
              "7      254  0399146431  ...               135  minneapolis, minnesota, usa\n",
              "8      254  0439064864  ...               184  minneapolis, minnesota, usa\n",
              "9      254  0439136350  ...               138  minneapolis, minnesota, usa\n",
              "\n",
              "[10 rows x 9 columns]"
            ]
          },
          "metadata": {},
          "execution_count": 125
        }
      ]
    },
    {
      "cell_type": "markdown",
      "metadata": {
        "id": "CLhzdz3mZl_a"
      },
      "source": [
        "## **We are applying log transformation to smooth the distribution!!**"
      ]
    },
    {
      "cell_type": "code",
      "metadata": {
        "colab": {
          "base_uri": "https://localhost:8080/",
          "height": 0
        },
        "id": "TXs5-JJdEAuF",
        "outputId": "5f65171c-9fd5-4efd-c1ae-8c837bb96c71"
      },
      "source": [
        "# Before log transformation\n",
        "plt.figure(figsize=(8, 5))\n",
        "sns.histplot(interactions_from_selected_users_df.groupby(['ISBN', 'User-ID'])['Book-Rating'].sum(), kde=True)\n",
        "plt.show()"
      ],
      "execution_count": 126,
      "outputs": [
        {
          "output_type": "display_data",
          "data": {
            "image/png": "[encoded data removed]",
            "text/plain": [
              "<Figure size 576x360 with 1 Axes>"
            ]
          },
          "metadata": {
            "needs_background": "light"
          }
        }
      ]
    },
    {
      "cell_type": "code",
      "metadata": {
        "colab": {
          "base_uri": "https://localhost:8080/",
          "height": 0
        },
        "id": "Dd1Siuft607e",
        "outputId": "7cc31bf4-dae5-4968-f54e-89e31562565a"
      },
      "source": [
        "import math\n",
        "def smooth_user_preference(x):\n",
        "    return math.log(1+x, 2)\n",
        "    \n",
        "interactions_full_df = interactions_from_selected_users_df.groupby(['ISBN', 'User-ID'])['Book-Rating'].sum().apply(smooth_user_preference).reset_index()\n",
        "print('Number of unique user/item interactions: %d' % len(interactions_full_df))\n",
        "interactions_full_df.head()"
      ],
      "execution_count": 127,
      "outputs": [
        {
          "output_type": "stream",
          "name": "stdout",
          "text": [
            "Number of unique user/item interactions: 11049\n"
          ]
        },
        {
          "output_type": "execute_result",
          "data": {
            "text/html": [
              "<div>\n",
              "<style scoped>\n",
              "    .dataframe tbody tr th:only-of-type {\n",
              "        vertical-align: middle;\n",
              "    }\n",
              "\n",
              "    .dataframe tbody tr th {\n",
              "        vertical-align: top;\n",
              "    }\n",
              "\n",
              "    .dataframe thead th {\n",
              "        text-align: right;\n",
              "    }\n",
              "</style>\n",
              "<table border=\"1\" class=\"dataframe\">\n",
              "  <thead>\n",
              "    <tr style=\"text-align: right;\">\n",
              "      <th></th>\n",
              "      <th>ISBN</th>\n",
              "      <th>User-ID</th>\n",
              "      <th>Book-Rating</th>\n",
              "    </tr>\n",
              "  </thead>\n",
              "  <tbody>\n",
              "    <tr>\n",
              "      <th>0</th>\n",
              "      <td>002542730X</td>\n",
              "      <td>12538</td>\n",
              "      <td>3.459432</td>\n",
              "    </tr>\n",
              "    <tr>\n",
              "      <th>1</th>\n",
              "      <td>002542730X</td>\n",
              "      <td>41084</td>\n",
              "      <td>3.000000</td>\n",
              "    </tr>\n",
              "    <tr>\n",
              "      <th>2</th>\n",
              "      <td>002542730X</td>\n",
              "      <td>52584</td>\n",
              "      <td>3.459432</td>\n",
              "    </tr>\n",
              "    <tr>\n",
              "      <th>3</th>\n",
              "      <td>002542730X</td>\n",
              "      <td>110934</td>\n",
              "      <td>2.807355</td>\n",
              "    </tr>\n",
              "    <tr>\n",
              "      <th>4</th>\n",
              "      <td>002542730X</td>\n",
              "      <td>113270</td>\n",
              "      <td>2.584963</td>\n",
              "    </tr>\n",
              "  </tbody>\n",
              "</table>\n",
              "</div>"
            ],
            "text/plain": [
              "         ISBN  User-ID  Book-Rating\n",
              "0  002542730X    12538     3.459432\n",
              "1  002542730X    41084     3.000000\n",
              "2  002542730X    52584     3.459432\n",
              "3  002542730X   110934     2.807355\n",
              "4  002542730X   113270     2.584963"
            ]
          },
          "metadata": {},
          "execution_count": 127
        }
      ]
    },
    {
      "cell_type": "code",
      "metadata": {
        "colab": {
          "base_uri": "https://localhost:8080/",
          "height": 0
        },
        "id": "uNKEzCY-Egdh",
        "outputId": "e876f12c-8397-4265-8cde-c6116b80ee61"
      },
      "source": [
        "# After log transformation\n",
        "plt.figure(figsize=(8, 5))\n",
        "sns.histplot(interactions_from_selected_users_df.groupby(['ISBN', 'User-ID'])['Book-Rating'].sum(), kde=True)\n",
        "plt.show()"
      ],
      "execution_count": 128,
      "outputs": [
        {
          "output_type": "display_data",
          "data": {
            "image/png": "[encoded data removed]",
            "text/plain": [
              "<Figure size 576x360 with 1 Axes>"
            ]
          },
          "metadata": {
            "needs_background": "light"
          }
        }
      ]
    },
    {
      "cell_type": "code",
      "metadata": {
        "id": "GmE0NEgHhpSn"
      },
      "source": [
        ""
      ],
      "execution_count": 128,
      "outputs": []
    },
    {
      "cell_type": "code",
      "metadata": {
        "id": "-tgrBaIGhp8u"
      },
      "source": [
        ""
      ],
      "execution_count": 128,
      "outputs": []
    },
    {
      "cell_type": "markdown",
      "metadata": {
        "id": "OBP6EbSqZ1-Z"
      },
      "source": [
        "# **Splitting data into Train And Test Dataset**"
      ]
    },
    {
      "cell_type": "code",
      "metadata": {
        "colab": {
          "base_uri": "https://localhost:8080/"
        },
        "id": "lwzVN9tH7Efl",
        "outputId": "1779c4da-6eb2-4509-c1a8-178a5fb2882f"
      },
      "source": [
        "from sklearn.model_selection import train_test_split\n",
        "\n",
        "interactions_train_df, interactions_test_df = train_test_split(interactions_full_df,\n",
        "                                   stratify=interactions_full_df['User-ID'], \n",
        "                                   test_size=0.20,\n",
        "                                   random_state=42)\n",
        "\n",
        "print('Number interactions on Train set: %d' % len(interactions_train_df))\n",
        "print('Number interactions on Test set: %d' % len(interactions_test_df))"
      ],
      "execution_count": 129,
      "outputs": [
        {
          "output_type": "stream",
          "name": "stdout",
          "text": [
            "Number interactions on Train set: 8839\n",
            "Number interactions on Test set: 2210\n"
          ]
        }
      ]
    },
    {
      "cell_type": "code",
      "metadata": {
        "colab": {
          "base_uri": "https://localhost:8080/",
          "height": 204
        },
        "id": "XEGocOGY7Oem",
        "outputId": "8ef1afc2-5ddb-45d2-d6e5-2c2e723b4dd2"
      },
      "source": [
        "interactions_test_df.head()"
      ],
      "execution_count": 130,
      "outputs": [
        {
          "output_type": "execute_result",
          "data": {
            "text/html": [
              "<div>\n",
              "<style scoped>\n",
              "    .dataframe tbody tr th:only-of-type {\n",
              "        vertical-align: middle;\n",
              "    }\n",
              "\n",
              "    .dataframe tbody tr th {\n",
              "        vertical-align: top;\n",
              "    }\n",
              "\n",
              "    .dataframe thead th {\n",
              "        text-align: right;\n",
              "    }\n",
              "</style>\n",
              "<table border=\"1\" class=\"dataframe\">\n",
              "  <thead>\n",
              "    <tr style=\"text-align: right;\">\n",
              "      <th></th>\n",
              "      <th>ISBN</th>\n",
              "      <th>User-ID</th>\n",
              "      <th>Book-Rating</th>\n",
              "    </tr>\n",
              "  </thead>\n",
              "  <tbody>\n",
              "    <tr>\n",
              "      <th>2231</th>\n",
              "      <td>0345378482</td>\n",
              "      <td>224138</td>\n",
              "      <td>3.459432</td>\n",
              "    </tr>\n",
              "    <tr>\n",
              "      <th>3857</th>\n",
              "      <td>0385505833</td>\n",
              "      <td>76151</td>\n",
              "      <td>3.459432</td>\n",
              "    </tr>\n",
              "    <tr>\n",
              "      <th>6344</th>\n",
              "      <td>0446604801</td>\n",
              "      <td>104636</td>\n",
              "      <td>2.807355</td>\n",
              "    </tr>\n",
              "    <tr>\n",
              "      <th>1592</th>\n",
              "      <td>0316601950</td>\n",
              "      <td>30276</td>\n",
              "      <td>2.807355</td>\n",
              "    </tr>\n",
              "    <tr>\n",
              "      <th>1778</th>\n",
              "      <td>0316693324</td>\n",
              "      <td>76151</td>\n",
              "      <td>3.459432</td>\n",
              "    </tr>\n",
              "  </tbody>\n",
              "</table>\n",
              "</div>"
            ],
            "text/plain": [
              "            ISBN  User-ID  Book-Rating\n",
              "2231  0345378482   224138     3.459432\n",
              "3857  0385505833    76151     3.459432\n",
              "6344  0446604801   104636     2.807355\n",
              "1592  0316601950    30276     2.807355\n",
              "1778  0316693324    76151     3.459432"
            ]
          },
          "metadata": {},
          "execution_count": 130
        }
      ]
    },
    {
      "cell_type": "code",
      "metadata": {
        "colab": {
          "base_uri": "https://localhost:8080/",
          "height": 301
        },
        "id": "vLN4nEbW7TlN",
        "outputId": "522d8a05-b883-4c32-f87f-c906ac4040fe"
      },
      "source": [
        "#Creating a sparse pivot table with users in rows and items in columns\n",
        "users_items_pivot_matrix_df = interactions_train_df.pivot(index='User-ID', \n",
        "                                                          columns='ISBN', \n",
        "                                                          values='Book-Rating').fillna(0)\n",
        "\n",
        "users_items_pivot_matrix_df.head()"
      ],
      "execution_count": 131,
      "outputs": [
        {
          "output_type": "execute_result",
          "data": {
            "text/html": [
              "<div>\n",
              "<style scoped>\n",
              "    .dataframe tbody tr th:only-of-type {\n",
              "        vertical-align: middle;\n",
              "    }\n",
              "\n",
              "    .dataframe tbody tr th {\n",
              "        vertical-align: top;\n",
              "    }\n",
              "\n",
              "    .dataframe thead th {\n",
              "        text-align: right;\n",
              "    }\n",
              "</style>\n",
              "<table border=\"1\" class=\"dataframe\">\n",
              "  <thead>\n",
              "    <tr style=\"text-align: right;\">\n",
              "      <th>ISBN</th>\n",
              "      <th>002542730X</th>\n",
              "      <th>0060008032</th>\n",
              "      <th>006001203X</th>\n",
              "      <th>0060086246</th>\n",
              "      <th>0060090367</th>\n",
              "      <th>0060092572</th>\n",
              "      <th>0060096195</th>\n",
              "      <th>0060129565</th>\n",
              "      <th>0060158638</th>\n",
              "      <th>0060168013</th>\n",
              "      <th>006016848X</th>\n",
              "      <th>0060175400</th>\n",
              "      <th>0060198133</th>\n",
              "      <th>0060199652</th>\n",
              "      <th>0060283130</th>\n",
              "      <th>0060391626</th>\n",
              "      <th>0060392452</th>\n",
              "      <th>0060502258</th>\n",
              "      <th>0060512822</th>\n",
              "      <th>0060541814</th>\n",
              "      <th>0060541830</th>\n",
              "      <th>0060809833</th>\n",
              "      <th>0060830956</th>\n",
              "      <th>0060915544</th>\n",
              "      <th>0060921145</th>\n",
              "      <th>0060922532</th>\n",
              "      <th>0060928336</th>\n",
              "      <th>0060929871</th>\n",
              "      <th>0060930535</th>\n",
              "      <th>0060934417</th>\n",
              "      <th>0060935464</th>\n",
              "      <th>0060938455</th>\n",
              "      <th>0060958022</th>\n",
              "      <th>0060958324</th>\n",
              "      <th>0060959037</th>\n",
              "      <th>0060976845</th>\n",
              "      <th>0060977477</th>\n",
              "      <th>0060977493</th>\n",
              "      <th>0060987103</th>\n",
              "      <th>0060987529</th>\n",
              "      <th>...</th>\n",
              "      <th>1565115430</th>\n",
              "      <th>1565116674</th>\n",
              "      <th>1565116690</th>\n",
              "      <th>1565117794</th>\n",
              "      <th>1565122054</th>\n",
              "      <th>1566190932</th>\n",
              "      <th>1567404731</th>\n",
              "      <th>1568654243</th>\n",
              "      <th>1569471169</th>\n",
              "      <th>1569873925</th>\n",
              "      <th>1570421161</th>\n",
              "      <th>1570423830</th>\n",
              "      <th>1570426201</th>\n",
              "      <th>1570427119</th>\n",
              "      <th>1570427135</th>\n",
              "      <th>1570427143</th>\n",
              "      <th>1570427690</th>\n",
              "      <th>1570428581</th>\n",
              "      <th>1570429715</th>\n",
              "      <th>1571740325</th>\n",
              "      <th>1573220221</th>\n",
              "      <th>1573220876</th>\n",
              "      <th>1573221937</th>\n",
              "      <th>1573222038</th>\n",
              "      <th>1573225517</th>\n",
              "      <th>1573225789</th>\n",
              "      <th>1573227331</th>\n",
              "      <th>1573228214</th>\n",
              "      <th>1573229326</th>\n",
              "      <th>1573229725</th>\n",
              "      <th>1586210661</th>\n",
              "      <th>1586212869</th>\n",
              "      <th>1586214055</th>\n",
              "      <th>1587882337</th>\n",
              "      <th>1587887789</th>\n",
              "      <th>1594140979</th>\n",
              "      <th>1855940027</th>\n",
              "      <th>1878448900</th>\n",
              "      <th>1931056323</th>\n",
              "      <th>B0000T6KHI</th>\n",
              "    </tr>\n",
              "    <tr>\n",
              "      <th>User-ID</th>\n",
              "      <th></th>\n",
              "      <th></th>\n",
              "      <th></th>\n",
              "      <th></th>\n",
              "      <th></th>\n",
              "      <th></th>\n",
              "      <th></th>\n",
              "      <th></th>\n",
              "      <th></th>\n",
              "      <th></th>\n",
              "      <th></th>\n",
              "      <th></th>\n",
              "      <th></th>\n",
              "      <th></th>\n",
              "      <th></th>\n",
              "      <th></th>\n",
              "      <th></th>\n",
              "      <th></th>\n",
              "      <th></th>\n",
              "      <th></th>\n",
              "      <th></th>\n",
              "      <th></th>\n",
              "      <th></th>\n",
              "      <th></th>\n",
              "      <th></th>\n",
              "      <th></th>\n",
              "      <th></th>\n",
              "      <th></th>\n",
              "      <th></th>\n",
              "      <th></th>\n",
              "      <th></th>\n",
              "      <th></th>\n",
              "      <th></th>\n",
              "      <th></th>\n",
              "      <th></th>\n",
              "      <th></th>\n",
              "      <th></th>\n",
              "      <th></th>\n",
              "      <th></th>\n",
              "      <th></th>\n",
              "      <th></th>\n",
              "      <th></th>\n",
              "      <th></th>\n",
              "      <th></th>\n",
              "      <th></th>\n",
              "      <th></th>\n",
              "      <th></th>\n",
              "      <th></th>\n",
              "      <th></th>\n",
              "      <th></th>\n",
              "      <th></th>\n",
              "      <th></th>\n",
              "      <th></th>\n",
              "      <th></th>\n",
              "      <th></th>\n",
              "      <th></th>\n",
              "      <th></th>\n",
              "      <th></th>\n",
              "      <th></th>\n",
              "      <th></th>\n",
              "      <th></th>\n",
              "      <th></th>\n",
              "      <th></th>\n",
              "      <th></th>\n",
              "      <th></th>\n",
              "      <th></th>\n",
              "      <th></th>\n",
              "      <th></th>\n",
              "      <th></th>\n",
              "      <th></th>\n",
              "      <th></th>\n",
              "      <th></th>\n",
              "      <th></th>\n",
              "      <th></th>\n",
              "      <th></th>\n",
              "      <th></th>\n",
              "      <th></th>\n",
              "      <th></th>\n",
              "      <th></th>\n",
              "      <th></th>\n",
              "      <th></th>\n",
              "    </tr>\n",
              "  </thead>\n",
              "  <tbody>\n",
              "    <tr>\n",
              "      <th>254</th>\n",
              "      <td>0.0</td>\n",
              "      <td>0.0</td>\n",
              "      <td>0.0</td>\n",
              "      <td>0.0</td>\n",
              "      <td>0.0</td>\n",
              "      <td>0.0</td>\n",
              "      <td>0.0</td>\n",
              "      <td>0.0</td>\n",
              "      <td>0.0</td>\n",
              "      <td>0.0</td>\n",
              "      <td>0.0</td>\n",
              "      <td>0.0</td>\n",
              "      <td>0.0</td>\n",
              "      <td>0.0</td>\n",
              "      <td>0.0</td>\n",
              "      <td>0.0</td>\n",
              "      <td>0.000000</td>\n",
              "      <td>0.0</td>\n",
              "      <td>0.0</td>\n",
              "      <td>0.0</td>\n",
              "      <td>0.0</td>\n",
              "      <td>0.0</td>\n",
              "      <td>0.0</td>\n",
              "      <td>0.000000</td>\n",
              "      <td>0.0</td>\n",
              "      <td>0.0</td>\n",
              "      <td>0.0</td>\n",
              "      <td>0.000000</td>\n",
              "      <td>0.0</td>\n",
              "      <td>0.0</td>\n",
              "      <td>0.0</td>\n",
              "      <td>0.0</td>\n",
              "      <td>0.000000</td>\n",
              "      <td>0.0</td>\n",
              "      <td>0.0</td>\n",
              "      <td>0.0</td>\n",
              "      <td>0.0</td>\n",
              "      <td>0.0</td>\n",
              "      <td>0.0</td>\n",
              "      <td>0.0</td>\n",
              "      <td>...</td>\n",
              "      <td>0.0</td>\n",
              "      <td>0.0</td>\n",
              "      <td>0.0</td>\n",
              "      <td>0.0</td>\n",
              "      <td>0.0</td>\n",
              "      <td>0.0</td>\n",
              "      <td>0.0</td>\n",
              "      <td>0.0</td>\n",
              "      <td>0.0</td>\n",
              "      <td>0.0</td>\n",
              "      <td>0.0</td>\n",
              "      <td>0.0</td>\n",
              "      <td>0.0</td>\n",
              "      <td>0.0</td>\n",
              "      <td>0.0</td>\n",
              "      <td>0.0</td>\n",
              "      <td>0.0</td>\n",
              "      <td>0.0</td>\n",
              "      <td>0.0</td>\n",
              "      <td>0.0</td>\n",
              "      <td>0.0</td>\n",
              "      <td>0.0</td>\n",
              "      <td>0.0</td>\n",
              "      <td>0.0</td>\n",
              "      <td>0.0</td>\n",
              "      <td>0.0</td>\n",
              "      <td>0.0</td>\n",
              "      <td>0.0</td>\n",
              "      <td>0.0</td>\n",
              "      <td>0.0</td>\n",
              "      <td>0.0</td>\n",
              "      <td>0.0</td>\n",
              "      <td>0.0</td>\n",
              "      <td>0.0</td>\n",
              "      <td>0.0</td>\n",
              "      <td>0.0</td>\n",
              "      <td>0.0</td>\n",
              "      <td>0.0</td>\n",
              "      <td>0.0</td>\n",
              "      <td>0.0</td>\n",
              "    </tr>\n",
              "    <tr>\n",
              "      <th>2276</th>\n",
              "      <td>0.0</td>\n",
              "      <td>0.0</td>\n",
              "      <td>0.0</td>\n",
              "      <td>0.0</td>\n",
              "      <td>0.0</td>\n",
              "      <td>0.0</td>\n",
              "      <td>0.0</td>\n",
              "      <td>0.0</td>\n",
              "      <td>0.0</td>\n",
              "      <td>0.0</td>\n",
              "      <td>0.0</td>\n",
              "      <td>0.0</td>\n",
              "      <td>0.0</td>\n",
              "      <td>0.0</td>\n",
              "      <td>0.0</td>\n",
              "      <td>0.0</td>\n",
              "      <td>0.000000</td>\n",
              "      <td>0.0</td>\n",
              "      <td>0.0</td>\n",
              "      <td>0.0</td>\n",
              "      <td>0.0</td>\n",
              "      <td>0.0</td>\n",
              "      <td>0.0</td>\n",
              "      <td>0.000000</td>\n",
              "      <td>0.0</td>\n",
              "      <td>0.0</td>\n",
              "      <td>0.0</td>\n",
              "      <td>0.000000</td>\n",
              "      <td>0.0</td>\n",
              "      <td>0.0</td>\n",
              "      <td>0.0</td>\n",
              "      <td>0.0</td>\n",
              "      <td>0.000000</td>\n",
              "      <td>0.0</td>\n",
              "      <td>0.0</td>\n",
              "      <td>0.0</td>\n",
              "      <td>0.0</td>\n",
              "      <td>0.0</td>\n",
              "      <td>0.0</td>\n",
              "      <td>0.0</td>\n",
              "      <td>...</td>\n",
              "      <td>0.0</td>\n",
              "      <td>0.0</td>\n",
              "      <td>0.0</td>\n",
              "      <td>0.0</td>\n",
              "      <td>0.0</td>\n",
              "      <td>0.0</td>\n",
              "      <td>0.0</td>\n",
              "      <td>0.0</td>\n",
              "      <td>0.0</td>\n",
              "      <td>0.0</td>\n",
              "      <td>0.0</td>\n",
              "      <td>0.0</td>\n",
              "      <td>0.0</td>\n",
              "      <td>0.0</td>\n",
              "      <td>0.0</td>\n",
              "      <td>0.0</td>\n",
              "      <td>0.0</td>\n",
              "      <td>0.0</td>\n",
              "      <td>0.0</td>\n",
              "      <td>0.0</td>\n",
              "      <td>0.0</td>\n",
              "      <td>0.0</td>\n",
              "      <td>0.0</td>\n",
              "      <td>0.0</td>\n",
              "      <td>0.0</td>\n",
              "      <td>0.0</td>\n",
              "      <td>0.0</td>\n",
              "      <td>0.0</td>\n",
              "      <td>0.0</td>\n",
              "      <td>0.0</td>\n",
              "      <td>0.0</td>\n",
              "      <td>0.0</td>\n",
              "      <td>0.0</td>\n",
              "      <td>0.0</td>\n",
              "      <td>0.0</td>\n",
              "      <td>0.0</td>\n",
              "      <td>0.0</td>\n",
              "      <td>0.0</td>\n",
              "      <td>0.0</td>\n",
              "      <td>0.0</td>\n",
              "    </tr>\n",
              "    <tr>\n",
              "      <th>2766</th>\n",
              "      <td>0.0</td>\n",
              "      <td>0.0</td>\n",
              "      <td>0.0</td>\n",
              "      <td>0.0</td>\n",
              "      <td>0.0</td>\n",
              "      <td>0.0</td>\n",
              "      <td>0.0</td>\n",
              "      <td>0.0</td>\n",
              "      <td>0.0</td>\n",
              "      <td>0.0</td>\n",
              "      <td>0.0</td>\n",
              "      <td>0.0</td>\n",
              "      <td>0.0</td>\n",
              "      <td>0.0</td>\n",
              "      <td>0.0</td>\n",
              "      <td>0.0</td>\n",
              "      <td>0.000000</td>\n",
              "      <td>0.0</td>\n",
              "      <td>0.0</td>\n",
              "      <td>0.0</td>\n",
              "      <td>0.0</td>\n",
              "      <td>0.0</td>\n",
              "      <td>0.0</td>\n",
              "      <td>0.000000</td>\n",
              "      <td>0.0</td>\n",
              "      <td>0.0</td>\n",
              "      <td>0.0</td>\n",
              "      <td>0.000000</td>\n",
              "      <td>0.0</td>\n",
              "      <td>0.0</td>\n",
              "      <td>0.0</td>\n",
              "      <td>0.0</td>\n",
              "      <td>3.169925</td>\n",
              "      <td>0.0</td>\n",
              "      <td>0.0</td>\n",
              "      <td>0.0</td>\n",
              "      <td>0.0</td>\n",
              "      <td>0.0</td>\n",
              "      <td>0.0</td>\n",
              "      <td>0.0</td>\n",
              "      <td>...</td>\n",
              "      <td>0.0</td>\n",
              "      <td>0.0</td>\n",
              "      <td>0.0</td>\n",
              "      <td>0.0</td>\n",
              "      <td>0.0</td>\n",
              "      <td>0.0</td>\n",
              "      <td>0.0</td>\n",
              "      <td>0.0</td>\n",
              "      <td>0.0</td>\n",
              "      <td>0.0</td>\n",
              "      <td>0.0</td>\n",
              "      <td>0.0</td>\n",
              "      <td>0.0</td>\n",
              "      <td>0.0</td>\n",
              "      <td>0.0</td>\n",
              "      <td>0.0</td>\n",
              "      <td>0.0</td>\n",
              "      <td>0.0</td>\n",
              "      <td>0.0</td>\n",
              "      <td>0.0</td>\n",
              "      <td>0.0</td>\n",
              "      <td>0.0</td>\n",
              "      <td>0.0</td>\n",
              "      <td>0.0</td>\n",
              "      <td>0.0</td>\n",
              "      <td>0.0</td>\n",
              "      <td>0.0</td>\n",
              "      <td>0.0</td>\n",
              "      <td>0.0</td>\n",
              "      <td>0.0</td>\n",
              "      <td>0.0</td>\n",
              "      <td>0.0</td>\n",
              "      <td>0.0</td>\n",
              "      <td>0.0</td>\n",
              "      <td>0.0</td>\n",
              "      <td>0.0</td>\n",
              "      <td>0.0</td>\n",
              "      <td>0.0</td>\n",
              "      <td>0.0</td>\n",
              "      <td>0.0</td>\n",
              "    </tr>\n",
              "    <tr>\n",
              "      <th>4017</th>\n",
              "      <td>0.0</td>\n",
              "      <td>0.0</td>\n",
              "      <td>0.0</td>\n",
              "      <td>0.0</td>\n",
              "      <td>0.0</td>\n",
              "      <td>0.0</td>\n",
              "      <td>0.0</td>\n",
              "      <td>0.0</td>\n",
              "      <td>0.0</td>\n",
              "      <td>0.0</td>\n",
              "      <td>0.0</td>\n",
              "      <td>0.0</td>\n",
              "      <td>0.0</td>\n",
              "      <td>0.0</td>\n",
              "      <td>0.0</td>\n",
              "      <td>0.0</td>\n",
              "      <td>0.000000</td>\n",
              "      <td>0.0</td>\n",
              "      <td>0.0</td>\n",
              "      <td>0.0</td>\n",
              "      <td>0.0</td>\n",
              "      <td>0.0</td>\n",
              "      <td>0.0</td>\n",
              "      <td>3.169925</td>\n",
              "      <td>0.0</td>\n",
              "      <td>0.0</td>\n",
              "      <td>0.0</td>\n",
              "      <td>3.321928</td>\n",
              "      <td>0.0</td>\n",
              "      <td>0.0</td>\n",
              "      <td>0.0</td>\n",
              "      <td>0.0</td>\n",
              "      <td>0.000000</td>\n",
              "      <td>0.0</td>\n",
              "      <td>0.0</td>\n",
              "      <td>0.0</td>\n",
              "      <td>0.0</td>\n",
              "      <td>0.0</td>\n",
              "      <td>0.0</td>\n",
              "      <td>0.0</td>\n",
              "      <td>...</td>\n",
              "      <td>0.0</td>\n",
              "      <td>0.0</td>\n",
              "      <td>0.0</td>\n",
              "      <td>0.0</td>\n",
              "      <td>0.0</td>\n",
              "      <td>0.0</td>\n",
              "      <td>0.0</td>\n",
              "      <td>0.0</td>\n",
              "      <td>0.0</td>\n",
              "      <td>0.0</td>\n",
              "      <td>0.0</td>\n",
              "      <td>0.0</td>\n",
              "      <td>0.0</td>\n",
              "      <td>0.0</td>\n",
              "      <td>0.0</td>\n",
              "      <td>0.0</td>\n",
              "      <td>0.0</td>\n",
              "      <td>0.0</td>\n",
              "      <td>0.0</td>\n",
              "      <td>0.0</td>\n",
              "      <td>0.0</td>\n",
              "      <td>0.0</td>\n",
              "      <td>0.0</td>\n",
              "      <td>0.0</td>\n",
              "      <td>0.0</td>\n",
              "      <td>0.0</td>\n",
              "      <td>0.0</td>\n",
              "      <td>0.0</td>\n",
              "      <td>0.0</td>\n",
              "      <td>0.0</td>\n",
              "      <td>0.0</td>\n",
              "      <td>0.0</td>\n",
              "      <td>0.0</td>\n",
              "      <td>0.0</td>\n",
              "      <td>0.0</td>\n",
              "      <td>0.0</td>\n",
              "      <td>0.0</td>\n",
              "      <td>0.0</td>\n",
              "      <td>0.0</td>\n",
              "      <td>0.0</td>\n",
              "    </tr>\n",
              "    <tr>\n",
              "      <th>6251</th>\n",
              "      <td>0.0</td>\n",
              "      <td>0.0</td>\n",
              "      <td>0.0</td>\n",
              "      <td>0.0</td>\n",
              "      <td>0.0</td>\n",
              "      <td>0.0</td>\n",
              "      <td>0.0</td>\n",
              "      <td>0.0</td>\n",
              "      <td>0.0</td>\n",
              "      <td>0.0</td>\n",
              "      <td>0.0</td>\n",
              "      <td>0.0</td>\n",
              "      <td>0.0</td>\n",
              "      <td>0.0</td>\n",
              "      <td>0.0</td>\n",
              "      <td>0.0</td>\n",
              "      <td>3.459432</td>\n",
              "      <td>0.0</td>\n",
              "      <td>0.0</td>\n",
              "      <td>0.0</td>\n",
              "      <td>0.0</td>\n",
              "      <td>0.0</td>\n",
              "      <td>0.0</td>\n",
              "      <td>0.000000</td>\n",
              "      <td>0.0</td>\n",
              "      <td>0.0</td>\n",
              "      <td>0.0</td>\n",
              "      <td>0.000000</td>\n",
              "      <td>0.0</td>\n",
              "      <td>0.0</td>\n",
              "      <td>0.0</td>\n",
              "      <td>0.0</td>\n",
              "      <td>0.000000</td>\n",
              "      <td>0.0</td>\n",
              "      <td>0.0</td>\n",
              "      <td>0.0</td>\n",
              "      <td>0.0</td>\n",
              "      <td>0.0</td>\n",
              "      <td>0.0</td>\n",
              "      <td>0.0</td>\n",
              "      <td>...</td>\n",
              "      <td>0.0</td>\n",
              "      <td>0.0</td>\n",
              "      <td>0.0</td>\n",
              "      <td>0.0</td>\n",
              "      <td>0.0</td>\n",
              "      <td>0.0</td>\n",
              "      <td>0.0</td>\n",
              "      <td>0.0</td>\n",
              "      <td>0.0</td>\n",
              "      <td>0.0</td>\n",
              "      <td>0.0</td>\n",
              "      <td>0.0</td>\n",
              "      <td>0.0</td>\n",
              "      <td>0.0</td>\n",
              "      <td>0.0</td>\n",
              "      <td>0.0</td>\n",
              "      <td>0.0</td>\n",
              "      <td>0.0</td>\n",
              "      <td>0.0</td>\n",
              "      <td>0.0</td>\n",
              "      <td>0.0</td>\n",
              "      <td>0.0</td>\n",
              "      <td>0.0</td>\n",
              "      <td>0.0</td>\n",
              "      <td>0.0</td>\n",
              "      <td>0.0</td>\n",
              "      <td>0.0</td>\n",
              "      <td>0.0</td>\n",
              "      <td>0.0</td>\n",
              "      <td>0.0</td>\n",
              "      <td>0.0</td>\n",
              "      <td>0.0</td>\n",
              "      <td>0.0</td>\n",
              "      <td>0.0</td>\n",
              "      <td>0.0</td>\n",
              "      <td>0.0</td>\n",
              "      <td>0.0</td>\n",
              "      <td>0.0</td>\n",
              "      <td>0.0</td>\n",
              "      <td>0.0</td>\n",
              "    </tr>\n",
              "  </tbody>\n",
              "</table>\n",
              "<p>5 rows × 1487 columns</p>\n",
              "</div>"
            ],
            "text/plain": [
              "ISBN     002542730X  0060008032  006001203X  ...  1878448900  1931056323  B0000T6KHI\n",
              "User-ID                                      ...                                    \n",
              "254             0.0         0.0         0.0  ...         0.0         0.0         0.0\n",
              "2276            0.0         0.0         0.0  ...         0.0         0.0         0.0\n",
              "2766            0.0         0.0         0.0  ...         0.0         0.0         0.0\n",
              "4017            0.0         0.0         0.0  ...         0.0         0.0         0.0\n",
              "6251            0.0         0.0         0.0  ...         0.0         0.0         0.0\n",
              "\n",
              "[5 rows x 1487 columns]"
            ]
          },
          "metadata": {},
          "execution_count": 131
        }
      ]
    },
    {
      "cell_type": "code",
      "metadata": {
        "colab": {
          "base_uri": "https://localhost:8080/"
        },
        "id": "qY8nvW_J7Oi2",
        "outputId": "184ebf2a-afe0-4c3c-96b3-129e894a62ce"
      },
      "source": [
        "users_items_pivot_matrix = users_items_pivot_matrix_df.values\n",
        "users_items_pivot_matrix[:10]"
      ],
      "execution_count": 132,
      "outputs": [
        {
          "output_type": "execute_result",
          "data": {
            "text/plain": [
              "array([[0., 0., 0., ..., 0., 0., 0.],\n",
              "       [0., 0., 0., ..., 0., 0., 0.],\n",
              "       [0., 0., 0., ..., 0., 0., 0.],\n",
              "       ...,\n",
              "       [0., 0., 0., ..., 0., 0., 0.],\n",
              "       [0., 0., 0., ..., 0., 0., 0.],\n",
              "       [0., 0., 0., ..., 0., 0., 0.]])"
            ]
          },
          "metadata": {},
          "execution_count": 132
        }
      ]
    },
    {
      "cell_type": "code",
      "metadata": {
        "colab": {
          "base_uri": "https://localhost:8080/"
        },
        "id": "wP51cktN7jRG",
        "outputId": "201bc87a-3982-4af5-fd16-08e4c3ea2667"
      },
      "source": [
        "# Check the list of user id of the users\n",
        "users_ids = list(users_items_pivot_matrix_df.index)\n",
        "users_ids[:10]"
      ],
      "execution_count": 133,
      "outputs": [
        {
          "output_type": "execute_result",
          "data": {
            "text/plain": [
              "[254, 2276, 2766, 4017, 6251, 6323, 6543, 6563, 6575, 7158]"
            ]
          },
          "metadata": {},
          "execution_count": 133
        }
      ]
    },
    {
      "cell_type": "code",
      "metadata": {
        "id": "NPku_-b2iAof"
      },
      "source": [
        ""
      ],
      "execution_count": 133,
      "outputs": []
    },
    {
      "cell_type": "code",
      "metadata": {
        "id": "2dxNF1euiBiu"
      },
      "source": [
        ""
      ],
      "execution_count": 133,
      "outputs": []
    },
    {
      "cell_type": "markdown",
      "metadata": {
        "id": "EvUOMnmjjEdm"
      },
      "source": [
        "# SVD- Model Based Collaborative Filtering\n",
        "\n",
        "The Singular-Value Decomposition, or SVD for short, is a matrix decomposition method for reducing a matrix to its constituent parts in order to make certain subsequent matrix calculations simpler. It provides another way to factorize a matrix, into singular vectors and singular values."
      ]
    },
    {
      "cell_type": "markdown",
      "metadata": {
        "id": "pZ6FaxiChUgD"
      },
      "source": [
        "## **A=U.Sigma.VT**"
      ]
    },
    {
      "cell_type": "code",
      "metadata": {
        "id": "JLZmT1fX7Yi-"
      },
      "source": [
        "from sklearn.metrics.pairwise import cosine_similarity\n",
        "from scipy.sparse.linalg import svds"
      ],
      "execution_count": 134,
      "outputs": []
    },
    {
      "cell_type": "code",
      "metadata": {
        "id": "5pbyiywG7rbH"
      },
      "source": [
        "# The number of factors to factor the user-item matrix.\n",
        "NUMBER_OF_FACTORS_MF = 15\n",
        "\n",
        "#Performs matrix factorization of the original user item matrix\n",
        "U, sigma, Vt = svds(users_items_pivot_matrix, k = NUMBER_OF_FACTORS_MF)"
      ],
      "execution_count": 135,
      "outputs": []
    },
    {
      "cell_type": "code",
      "metadata": {
        "colab": {
          "base_uri": "https://localhost:8080/"
        },
        "id": "iuQERsA17Ypk",
        "outputId": "81b88867-237c-401c-9bab-63679186ff68"
      },
      "source": [
        "users_items_pivot_matrix.shape"
      ],
      "execution_count": 136,
      "outputs": [
        {
          "output_type": "execute_result",
          "data": {
            "text/plain": [
              "(413, 1487)"
            ]
          },
          "metadata": {},
          "execution_count": 136
        }
      ]
    },
    {
      "cell_type": "code",
      "metadata": {
        "colab": {
          "base_uri": "https://localhost:8080/"
        },
        "id": "TtNQT3vR7wBu",
        "outputId": "4d62d341-aa31-4139-a24d-15ecfa623867"
      },
      "source": [
        "U.shape"
      ],
      "execution_count": 137,
      "outputs": [
        {
          "output_type": "execute_result",
          "data": {
            "text/plain": [
              "(413, 15)"
            ]
          },
          "metadata": {},
          "execution_count": 137
        }
      ]
    },
    {
      "cell_type": "code",
      "metadata": {
        "colab": {
          "base_uri": "https://localhost:8080/"
        },
        "id": "JokF1Gfp7wH6",
        "outputId": "60123dba-e6c8-4b68-8492-bb6424a584fe"
      },
      "source": [
        "sigma = np.diag(sigma)\n",
        "sigma.shape"
      ],
      "execution_count": 138,
      "outputs": [
        {
          "output_type": "execute_result",
          "data": {
            "text/plain": [
              "(15, 15)"
            ]
          },
          "metadata": {},
          "execution_count": 138
        }
      ]
    },
    {
      "cell_type": "code",
      "metadata": {
        "colab": {
          "base_uri": "https://localhost:8080/"
        },
        "id": "ii1wZVcz7wQ1",
        "outputId": "0e28ecbf-7a79-465e-d1bb-36de6fd08407"
      },
      "source": [
        "Vt.shape"
      ],
      "execution_count": 139,
      "outputs": [
        {
          "output_type": "execute_result",
          "data": {
            "text/plain": [
              "(15, 1487)"
            ]
          },
          "metadata": {},
          "execution_count": 139
        }
      ]
    },
    {
      "cell_type": "markdown",
      "metadata": {
        "id": "-M4XIIiBa9nj"
      },
      "source": [
        "**After the factorization, we try to to reconstruct the original matrix by multiplying its factors. The resulting matrix is not sparse any more. It was generated predictions for items the user have not yet interaction, which we will exploit for recommendations.**"
      ]
    },
    {
      "cell_type": "code",
      "metadata": {
        "colab": {
          "base_uri": "https://localhost:8080/"
        },
        "id": "v5kYds4_79ni",
        "outputId": "d5417474-f6e1-4e88-bf39-9d41b1c320bb"
      },
      "source": [
        "all_user_predicted_ratings = np.dot(np.dot(U, sigma), Vt) \n",
        "all_user_predicted_ratings"
      ],
      "execution_count": 140,
      "outputs": [
        {
          "output_type": "execute_result",
          "data": {
            "text/plain": [
              "array([[ 0.07376176,  0.00223027,  0.03695808, ...,  0.01689943,\n",
              "        -0.00181411, -0.01584876],\n",
              "       [ 0.01163665,  0.02845748,  0.02553018, ..., -0.01060237,\n",
              "         0.00107598, -0.00060448],\n",
              "       [ 0.08431249,  0.00401639, -0.01649444, ...,  0.05837666,\n",
              "        -0.00176365,  0.08441381],\n",
              "       ...,\n",
              "       [ 0.0357052 ,  0.0067572 ,  0.01516564, ..., -0.0368187 ,\n",
              "         0.00396665, -0.0130949 ],\n",
              "       [ 0.03515637,  0.04590026, -0.00832205, ...,  0.07521986,\n",
              "         0.00242121, -0.00491695],\n",
              "       [ 0.09170586,  0.01420456,  0.00065443, ..., -0.00731619,\n",
              "         0.00052551, -0.003973  ]])"
            ]
          },
          "metadata": {},
          "execution_count": 140
        }
      ]
    },
    {
      "cell_type": "code",
      "metadata": {
        "colab": {
          "base_uri": "https://localhost:8080/"
        },
        "id": "lT_eTpef79wU",
        "outputId": "edc56339-4ba1-4367-9f63-4bd41404e4a8"
      },
      "source": [
        "all_user_predicted_ratings.shape"
      ],
      "execution_count": 141,
      "outputs": [
        {
          "output_type": "execute_result",
          "data": {
            "text/plain": [
              "(413, 1487)"
            ]
          },
          "metadata": {},
          "execution_count": 141
        }
      ]
    },
    {
      "cell_type": "markdown",
      "metadata": {
        "id": "Al8oUZklbIsi"
      },
      "source": [
        "**Making DataFrame from our predicted ratings.**"
      ]
    },
    {
      "cell_type": "code",
      "metadata": {
        "colab": {
          "base_uri": "https://localhost:8080/",
          "height": 0
        },
        "id": "8Uom21bO8ELm",
        "outputId": "b2a79c41-11c5-4e9c-9ec1-ecf8250d0e9f"
      },
      "source": [
        "#Converting the reconstructed matrix back to a Pandas dataframe\n",
        "cf_preds_df = pd.DataFrame(all_user_predicted_ratings, columns = users_items_pivot_matrix_df.columns, index=users_ids).transpose()\n",
        "cf_preds_df.head()"
      ],
      "execution_count": 142,
      "outputs": [
        {
          "output_type": "execute_result",
          "data": {
            "text/html": [
              "<div>\n",
              "<style scoped>\n",
              "    .dataframe tbody tr th:only-of-type {\n",
              "        vertical-align: middle;\n",
              "    }\n",
              "\n",
              "    .dataframe tbody tr th {\n",
              "        vertical-align: top;\n",
              "    }\n",
              "\n",
              "    .dataframe thead th {\n",
              "        text-align: right;\n",
              "    }\n",
              "</style>\n",
              "<table border=\"1\" class=\"dataframe\">\n",
              "  <thead>\n",
              "    <tr style=\"text-align: right;\">\n",
              "      <th></th>\n",
              "      <th>254</th>\n",
              "      <th>2276</th>\n",
              "      <th>2766</th>\n",
              "      <th>4017</th>\n",
              "      <th>6251</th>\n",
              "      <th>6323</th>\n",
              "      <th>6543</th>\n",
              "      <th>6563</th>\n",
              "      <th>6575</th>\n",
              "      <th>7158</th>\n",
              "      <th>7346</th>\n",
              "      <th>7915</th>\n",
              "      <th>8067</th>\n",
              "      <th>8245</th>\n",
              "      <th>8681</th>\n",
              "      <th>10447</th>\n",
              "      <th>12538</th>\n",
              "      <th>12824</th>\n",
              "      <th>13273</th>\n",
              "      <th>13552</th>\n",
              "      <th>13850</th>\n",
              "      <th>14422</th>\n",
              "      <th>14521</th>\n",
              "      <th>16106</th>\n",
              "      <th>16634</th>\n",
              "      <th>16795</th>\n",
              "      <th>19085</th>\n",
              "      <th>19664</th>\n",
              "      <th>21014</th>\n",
              "      <th>21576</th>\n",
              "      <th>21659</th>\n",
              "      <th>22625</th>\n",
              "      <th>23768</th>\n",
              "      <th>23872</th>\n",
              "      <th>24921</th>\n",
              "      <th>25409</th>\n",
              "      <th>25981</th>\n",
              "      <th>26544</th>\n",
              "      <th>26593</th>\n",
              "      <th>28634</th>\n",
              "      <th>...</th>\n",
              "      <th>250184</th>\n",
              "      <th>251394</th>\n",
              "      <th>251422</th>\n",
              "      <th>251843</th>\n",
              "      <th>252071</th>\n",
              "      <th>252695</th>\n",
              "      <th>254206</th>\n",
              "      <th>254465</th>\n",
              "      <th>255489</th>\n",
              "      <th>256407</th>\n",
              "      <th>258185</th>\n",
              "      <th>258534</th>\n",
              "      <th>258938</th>\n",
              "      <th>259260</th>\n",
              "      <th>259629</th>\n",
              "      <th>260897</th>\n",
              "      <th>261829</th>\n",
              "      <th>263163</th>\n",
              "      <th>264031</th>\n",
              "      <th>264082</th>\n",
              "      <th>265115</th>\n",
              "      <th>265313</th>\n",
              "      <th>266056</th>\n",
              "      <th>266226</th>\n",
              "      <th>266865</th>\n",
              "      <th>267635</th>\n",
              "      <th>268032</th>\n",
              "      <th>268110</th>\n",
              "      <th>268622</th>\n",
              "      <th>269566</th>\n",
              "      <th>269890</th>\n",
              "      <th>270820</th>\n",
              "      <th>271195</th>\n",
              "      <th>271448</th>\n",
              "      <th>271705</th>\n",
              "      <th>273979</th>\n",
              "      <th>274061</th>\n",
              "      <th>274308</th>\n",
              "      <th>275970</th>\n",
              "      <th>277427</th>\n",
              "    </tr>\n",
              "    <tr>\n",
              "      <th>ISBN</th>\n",
              "      <th></th>\n",
              "      <th></th>\n",
              "      <th></th>\n",
              "      <th></th>\n",
              "      <th></th>\n",
              "      <th></th>\n",
              "      <th></th>\n",
              "      <th></th>\n",
              "      <th></th>\n",
              "      <th></th>\n",
              "      <th></th>\n",
              "      <th></th>\n",
              "      <th></th>\n",
              "      <th></th>\n",
              "      <th></th>\n",
              "      <th></th>\n",
              "      <th></th>\n",
              "      <th></th>\n",
              "      <th></th>\n",
              "      <th></th>\n",
              "      <th></th>\n",
              "      <th></th>\n",
              "      <th></th>\n",
              "      <th></th>\n",
              "      <th></th>\n",
              "      <th></th>\n",
              "      <th></th>\n",
              "      <th></th>\n",
              "      <th></th>\n",
              "      <th></th>\n",
              "      <th></th>\n",
              "      <th></th>\n",
              "      <th></th>\n",
              "      <th></th>\n",
              "      <th></th>\n",
              "      <th></th>\n",
              "      <th></th>\n",
              "      <th></th>\n",
              "      <th></th>\n",
              "      <th></th>\n",
              "      <th></th>\n",
              "      <th></th>\n",
              "      <th></th>\n",
              "      <th></th>\n",
              "      <th></th>\n",
              "      <th></th>\n",
              "      <th></th>\n",
              "      <th></th>\n",
              "      <th></th>\n",
              "      <th></th>\n",
              "      <th></th>\n",
              "      <th></th>\n",
              "      <th></th>\n",
              "      <th></th>\n",
              "      <th></th>\n",
              "      <th></th>\n",
              "      <th></th>\n",
              "      <th></th>\n",
              "      <th></th>\n",
              "      <th></th>\n",
              "      <th></th>\n",
              "      <th></th>\n",
              "      <th></th>\n",
              "      <th></th>\n",
              "      <th></th>\n",
              "      <th></th>\n",
              "      <th></th>\n",
              "      <th></th>\n",
              "      <th></th>\n",
              "      <th></th>\n",
              "      <th></th>\n",
              "      <th></th>\n",
              "      <th></th>\n",
              "      <th></th>\n",
              "      <th></th>\n",
              "      <th></th>\n",
              "      <th></th>\n",
              "      <th></th>\n",
              "      <th></th>\n",
              "      <th></th>\n",
              "      <th></th>\n",
              "    </tr>\n",
              "  </thead>\n",
              "  <tbody>\n",
              "    <tr>\n",
              "      <th>002542730X</th>\n",
              "      <td>0.073762</td>\n",
              "      <td>0.011637</td>\n",
              "      <td>0.084312</td>\n",
              "      <td>0.127990</td>\n",
              "      <td>0.111998</td>\n",
              "      <td>0.021964</td>\n",
              "      <td>0.045192</td>\n",
              "      <td>-0.022974</td>\n",
              "      <td>0.223382</td>\n",
              "      <td>0.042273</td>\n",
              "      <td>0.214663</td>\n",
              "      <td>0.086620</td>\n",
              "      <td>-0.056962</td>\n",
              "      <td>0.047324</td>\n",
              "      <td>0.043211</td>\n",
              "      <td>0.022299</td>\n",
              "      <td>0.041361</td>\n",
              "      <td>0.044126</td>\n",
              "      <td>0.101670</td>\n",
              "      <td>-0.134996</td>\n",
              "      <td>0.028693</td>\n",
              "      <td>0.025170</td>\n",
              "      <td>0.069731</td>\n",
              "      <td>0.044655</td>\n",
              "      <td>0.130447</td>\n",
              "      <td>0.249085</td>\n",
              "      <td>0.002691</td>\n",
              "      <td>0.024686</td>\n",
              "      <td>0.152232</td>\n",
              "      <td>0.074679</td>\n",
              "      <td>0.044567</td>\n",
              "      <td>0.188368</td>\n",
              "      <td>0.017385</td>\n",
              "      <td>0.185485</td>\n",
              "      <td>0.018104</td>\n",
              "      <td>-0.009176</td>\n",
              "      <td>-0.099012</td>\n",
              "      <td>0.029690</td>\n",
              "      <td>0.014571</td>\n",
              "      <td>0.061543</td>\n",
              "      <td>...</td>\n",
              "      <td>0.019692</td>\n",
              "      <td>0.037464</td>\n",
              "      <td>0.036991</td>\n",
              "      <td>0.190796</td>\n",
              "      <td>0.032316</td>\n",
              "      <td>-0.033073</td>\n",
              "      <td>0.075258</td>\n",
              "      <td>0.033571</td>\n",
              "      <td>0.173635</td>\n",
              "      <td>0.061688</td>\n",
              "      <td>-0.050927</td>\n",
              "      <td>0.313456</td>\n",
              "      <td>0.041250</td>\n",
              "      <td>0.034453</td>\n",
              "      <td>0.026324</td>\n",
              "      <td>0.064074</td>\n",
              "      <td>0.087915</td>\n",
              "      <td>0.076957</td>\n",
              "      <td>0.061054</td>\n",
              "      <td>0.008946</td>\n",
              "      <td>0.029325</td>\n",
              "      <td>0.032754</td>\n",
              "      <td>0.064119</td>\n",
              "      <td>0.026430</td>\n",
              "      <td>0.042793</td>\n",
              "      <td>0.002178</td>\n",
              "      <td>0.073666</td>\n",
              "      <td>0.031150</td>\n",
              "      <td>0.028687</td>\n",
              "      <td>0.112269</td>\n",
              "      <td>-0.009424</td>\n",
              "      <td>-0.051716</td>\n",
              "      <td>0.065118</td>\n",
              "      <td>0.142699</td>\n",
              "      <td>0.057190</td>\n",
              "      <td>0.042047</td>\n",
              "      <td>0.106002</td>\n",
              "      <td>0.035705</td>\n",
              "      <td>0.035156</td>\n",
              "      <td>0.091706</td>\n",
              "    </tr>\n",
              "    <tr>\n",
              "      <th>0060008032</th>\n",
              "      <td>0.002230</td>\n",
              "      <td>0.028457</td>\n",
              "      <td>0.004016</td>\n",
              "      <td>-0.018127</td>\n",
              "      <td>0.117717</td>\n",
              "      <td>-0.008480</td>\n",
              "      <td>0.074959</td>\n",
              "      <td>-0.021350</td>\n",
              "      <td>0.320725</td>\n",
              "      <td>-0.002989</td>\n",
              "      <td>0.224725</td>\n",
              "      <td>0.096607</td>\n",
              "      <td>0.079735</td>\n",
              "      <td>0.005539</td>\n",
              "      <td>0.033757</td>\n",
              "      <td>0.062544</td>\n",
              "      <td>0.024265</td>\n",
              "      <td>0.008730</td>\n",
              "      <td>0.013383</td>\n",
              "      <td>0.052766</td>\n",
              "      <td>0.017328</td>\n",
              "      <td>0.043110</td>\n",
              "      <td>0.018294</td>\n",
              "      <td>0.038987</td>\n",
              "      <td>0.002118</td>\n",
              "      <td>0.022289</td>\n",
              "      <td>-0.011834</td>\n",
              "      <td>0.013392</td>\n",
              "      <td>0.121768</td>\n",
              "      <td>0.015985</td>\n",
              "      <td>-0.000194</td>\n",
              "      <td>0.016017</td>\n",
              "      <td>-0.008486</td>\n",
              "      <td>-0.009278</td>\n",
              "      <td>0.000764</td>\n",
              "      <td>0.014260</td>\n",
              "      <td>0.063329</td>\n",
              "      <td>-0.003582</td>\n",
              "      <td>0.004303</td>\n",
              "      <td>0.025724</td>\n",
              "      <td>...</td>\n",
              "      <td>0.012350</td>\n",
              "      <td>0.013345</td>\n",
              "      <td>0.009438</td>\n",
              "      <td>-0.040201</td>\n",
              "      <td>-0.028142</td>\n",
              "      <td>0.017662</td>\n",
              "      <td>0.010906</td>\n",
              "      <td>0.009769</td>\n",
              "      <td>0.022527</td>\n",
              "      <td>-0.007600</td>\n",
              "      <td>-0.000925</td>\n",
              "      <td>0.114631</td>\n",
              "      <td>0.015738</td>\n",
              "      <td>0.012905</td>\n",
              "      <td>0.002493</td>\n",
              "      <td>0.006362</td>\n",
              "      <td>0.012080</td>\n",
              "      <td>0.049662</td>\n",
              "      <td>-0.018982</td>\n",
              "      <td>0.003689</td>\n",
              "      <td>0.132141</td>\n",
              "      <td>0.002553</td>\n",
              "      <td>0.055320</td>\n",
              "      <td>0.030295</td>\n",
              "      <td>0.040488</td>\n",
              "      <td>-0.003333</td>\n",
              "      <td>-0.005720</td>\n",
              "      <td>0.039138</td>\n",
              "      <td>0.033149</td>\n",
              "      <td>0.013221</td>\n",
              "      <td>0.016764</td>\n",
              "      <td>-0.024637</td>\n",
              "      <td>0.013241</td>\n",
              "      <td>0.091300</td>\n",
              "      <td>0.082881</td>\n",
              "      <td>0.011281</td>\n",
              "      <td>0.015256</td>\n",
              "      <td>0.006757</td>\n",
              "      <td>0.045900</td>\n",
              "      <td>0.014205</td>\n",
              "    </tr>\n",
              "    <tr>\n",
              "      <th>006001203X</th>\n",
              "      <td>0.036958</td>\n",
              "      <td>0.025530</td>\n",
              "      <td>-0.016494</td>\n",
              "      <td>0.161326</td>\n",
              "      <td>-0.000799</td>\n",
              "      <td>-0.022614</td>\n",
              "      <td>0.037523</td>\n",
              "      <td>0.024306</td>\n",
              "      <td>-0.052427</td>\n",
              "      <td>0.211654</td>\n",
              "      <td>-0.210669</td>\n",
              "      <td>0.111353</td>\n",
              "      <td>-0.048550</td>\n",
              "      <td>0.035479</td>\n",
              "      <td>0.038339</td>\n",
              "      <td>0.044544</td>\n",
              "      <td>0.053527</td>\n",
              "      <td>0.006985</td>\n",
              "      <td>0.041031</td>\n",
              "      <td>0.469662</td>\n",
              "      <td>-0.003814</td>\n",
              "      <td>0.056649</td>\n",
              "      <td>0.061075</td>\n",
              "      <td>-0.057420</td>\n",
              "      <td>-0.096222</td>\n",
              "      <td>2.685960</td>\n",
              "      <td>-0.002562</td>\n",
              "      <td>0.031035</td>\n",
              "      <td>0.226497</td>\n",
              "      <td>-0.037542</td>\n",
              "      <td>0.117400</td>\n",
              "      <td>0.195666</td>\n",
              "      <td>0.059662</td>\n",
              "      <td>0.170278</td>\n",
              "      <td>0.084756</td>\n",
              "      <td>-0.002623</td>\n",
              "      <td>0.032436</td>\n",
              "      <td>0.066549</td>\n",
              "      <td>-0.047232</td>\n",
              "      <td>0.153214</td>\n",
              "      <td>...</td>\n",
              "      <td>0.120953</td>\n",
              "      <td>0.004243</td>\n",
              "      <td>0.149051</td>\n",
              "      <td>-0.068480</td>\n",
              "      <td>0.052275</td>\n",
              "      <td>0.017958</td>\n",
              "      <td>-0.105103</td>\n",
              "      <td>0.319724</td>\n",
              "      <td>0.095682</td>\n",
              "      <td>0.034934</td>\n",
              "      <td>0.047722</td>\n",
              "      <td>-0.333477</td>\n",
              "      <td>0.102840</td>\n",
              "      <td>0.045571</td>\n",
              "      <td>0.021741</td>\n",
              "      <td>0.043978</td>\n",
              "      <td>0.085969</td>\n",
              "      <td>-0.030707</td>\n",
              "      <td>0.285700</td>\n",
              "      <td>0.097147</td>\n",
              "      <td>-0.050072</td>\n",
              "      <td>0.014359</td>\n",
              "      <td>0.071791</td>\n",
              "      <td>-0.009447</td>\n",
              "      <td>0.038360</td>\n",
              "      <td>-0.004444</td>\n",
              "      <td>-0.001249</td>\n",
              "      <td>-0.052376</td>\n",
              "      <td>0.007436</td>\n",
              "      <td>0.027132</td>\n",
              "      <td>-0.016485</td>\n",
              "      <td>0.132792</td>\n",
              "      <td>0.041299</td>\n",
              "      <td>0.124433</td>\n",
              "      <td>-0.023790</td>\n",
              "      <td>0.009672</td>\n",
              "      <td>-0.105619</td>\n",
              "      <td>0.015166</td>\n",
              "      <td>-0.008322</td>\n",
              "      <td>0.000654</td>\n",
              "    </tr>\n",
              "    <tr>\n",
              "      <th>0060086246</th>\n",
              "      <td>-0.016153</td>\n",
              "      <td>0.006092</td>\n",
              "      <td>-0.002861</td>\n",
              "      <td>-0.000225</td>\n",
              "      <td>-0.005020</td>\n",
              "      <td>0.003216</td>\n",
              "      <td>0.006115</td>\n",
              "      <td>0.015301</td>\n",
              "      <td>0.027582</td>\n",
              "      <td>-0.004013</td>\n",
              "      <td>0.025805</td>\n",
              "      <td>0.002530</td>\n",
              "      <td>0.004258</td>\n",
              "      <td>0.012956</td>\n",
              "      <td>0.000659</td>\n",
              "      <td>0.009816</td>\n",
              "      <td>0.002579</td>\n",
              "      <td>-0.000038</td>\n",
              "      <td>-0.000329</td>\n",
              "      <td>0.108804</td>\n",
              "      <td>0.005154</td>\n",
              "      <td>0.012867</td>\n",
              "      <td>0.002706</td>\n",
              "      <td>0.005880</td>\n",
              "      <td>-0.000274</td>\n",
              "      <td>-0.079079</td>\n",
              "      <td>0.006289</td>\n",
              "      <td>-0.000957</td>\n",
              "      <td>0.002874</td>\n",
              "      <td>0.004959</td>\n",
              "      <td>0.014376</td>\n",
              "      <td>0.011449</td>\n",
              "      <td>-0.003764</td>\n",
              "      <td>-0.009570</td>\n",
              "      <td>0.003329</td>\n",
              "      <td>-0.005125</td>\n",
              "      <td>-0.006143</td>\n",
              "      <td>0.010062</td>\n",
              "      <td>-0.001950</td>\n",
              "      <td>0.006186</td>\n",
              "      <td>...</td>\n",
              "      <td>-0.007492</td>\n",
              "      <td>-0.001391</td>\n",
              "      <td>0.001058</td>\n",
              "      <td>0.010002</td>\n",
              "      <td>-0.002587</td>\n",
              "      <td>0.014938</td>\n",
              "      <td>-0.010874</td>\n",
              "      <td>0.008493</td>\n",
              "      <td>0.032704</td>\n",
              "      <td>0.001830</td>\n",
              "      <td>0.015326</td>\n",
              "      <td>-0.031866</td>\n",
              "      <td>0.003430</td>\n",
              "      <td>0.000299</td>\n",
              "      <td>0.011950</td>\n",
              "      <td>-0.000517</td>\n",
              "      <td>0.010256</td>\n",
              "      <td>-0.000378</td>\n",
              "      <td>-0.003844</td>\n",
              "      <td>0.024992</td>\n",
              "      <td>0.022129</td>\n",
              "      <td>0.004006</td>\n",
              "      <td>0.009423</td>\n",
              "      <td>0.000388</td>\n",
              "      <td>0.005265</td>\n",
              "      <td>-0.001324</td>\n",
              "      <td>0.006326</td>\n",
              "      <td>0.002661</td>\n",
              "      <td>0.014303</td>\n",
              "      <td>0.001844</td>\n",
              "      <td>0.002090</td>\n",
              "      <td>0.014370</td>\n",
              "      <td>0.008653</td>\n",
              "      <td>-0.000671</td>\n",
              "      <td>-0.000267</td>\n",
              "      <td>0.000260</td>\n",
              "      <td>-0.006043</td>\n",
              "      <td>0.016585</td>\n",
              "      <td>0.007129</td>\n",
              "      <td>-0.001155</td>\n",
              "    </tr>\n",
              "    <tr>\n",
              "      <th>0060090367</th>\n",
              "      <td>-0.023434</td>\n",
              "      <td>0.018726</td>\n",
              "      <td>0.028737</td>\n",
              "      <td>0.068280</td>\n",
              "      <td>0.071360</td>\n",
              "      <td>-0.001675</td>\n",
              "      <td>0.073339</td>\n",
              "      <td>0.000484</td>\n",
              "      <td>0.268018</td>\n",
              "      <td>0.035388</td>\n",
              "      <td>0.136442</td>\n",
              "      <td>0.046661</td>\n",
              "      <td>0.005909</td>\n",
              "      <td>-0.012800</td>\n",
              "      <td>0.032857</td>\n",
              "      <td>0.083366</td>\n",
              "      <td>0.026579</td>\n",
              "      <td>0.002250</td>\n",
              "      <td>-0.003074</td>\n",
              "      <td>0.003237</td>\n",
              "      <td>0.041659</td>\n",
              "      <td>0.052068</td>\n",
              "      <td>-0.029325</td>\n",
              "      <td>0.030213</td>\n",
              "      <td>0.020713</td>\n",
              "      <td>0.280651</td>\n",
              "      <td>-0.029416</td>\n",
              "      <td>0.024524</td>\n",
              "      <td>0.100158</td>\n",
              "      <td>0.032147</td>\n",
              "      <td>-0.008854</td>\n",
              "      <td>0.113642</td>\n",
              "      <td>0.030345</td>\n",
              "      <td>0.004307</td>\n",
              "      <td>0.009082</td>\n",
              "      <td>0.015993</td>\n",
              "      <td>0.011264</td>\n",
              "      <td>0.015970</td>\n",
              "      <td>0.001223</td>\n",
              "      <td>0.038284</td>\n",
              "      <td>...</td>\n",
              "      <td>0.002254</td>\n",
              "      <td>0.020128</td>\n",
              "      <td>0.009180</td>\n",
              "      <td>-0.035043</td>\n",
              "      <td>0.019042</td>\n",
              "      <td>0.019616</td>\n",
              "      <td>0.026925</td>\n",
              "      <td>0.092318</td>\n",
              "      <td>0.024949</td>\n",
              "      <td>-0.003041</td>\n",
              "      <td>-0.008660</td>\n",
              "      <td>0.186125</td>\n",
              "      <td>0.038409</td>\n",
              "      <td>0.024222</td>\n",
              "      <td>-0.030331</td>\n",
              "      <td>0.053038</td>\n",
              "      <td>0.009082</td>\n",
              "      <td>-0.003502</td>\n",
              "      <td>0.066759</td>\n",
              "      <td>-0.007785</td>\n",
              "      <td>0.070367</td>\n",
              "      <td>-0.028301</td>\n",
              "      <td>0.073305</td>\n",
              "      <td>0.017574</td>\n",
              "      <td>0.048182</td>\n",
              "      <td>0.001776</td>\n",
              "      <td>0.005302</td>\n",
              "      <td>0.040310</td>\n",
              "      <td>0.007594</td>\n",
              "      <td>-0.003333</td>\n",
              "      <td>0.020776</td>\n",
              "      <td>-0.024209</td>\n",
              "      <td>0.012861</td>\n",
              "      <td>0.139146</td>\n",
              "      <td>0.053172</td>\n",
              "      <td>0.033617</td>\n",
              "      <td>0.046083</td>\n",
              "      <td>-0.030116</td>\n",
              "      <td>0.027770</td>\n",
              "      <td>-0.024613</td>\n",
              "    </tr>\n",
              "  </tbody>\n",
              "</table>\n",
              "<p>5 rows × 413 columns</p>\n",
              "</div>"
            ],
            "text/plain": [
              "              254       2276      2766    ...    274308    275970    277427\n",
              "ISBN                                      ...                              \n",
              "002542730X  0.073762  0.011637  0.084312  ...  0.035705  0.035156  0.091706\n",
              "0060008032  0.002230  0.028457  0.004016  ...  0.006757  0.045900  0.014205\n",
              "006001203X  0.036958  0.025530 -0.016494  ...  0.015166 -0.008322  0.000654\n",
              "0060086246 -0.016153  0.006092 -0.002861  ...  0.016585  0.007129 -0.001155\n",
              "0060090367 -0.023434  0.018726  0.028737  ... -0.030116  0.027770 -0.024613\n",
              "\n",
              "[5 rows x 413 columns]"
            ]
          },
          "metadata": {},
          "execution_count": 142
        }
      ]
    },
    {
      "cell_type": "code",
      "metadata": {
        "colab": {
          "base_uri": "https://localhost:8080/"
        },
        "id": "Vui7nNwq8Hr0",
        "outputId": "89dc4e8f-8559-4d5c-cbd2-d7bae2a7fd97"
      },
      "source": [
        "len(cf_preds_df.columns)"
      ],
      "execution_count": 143,
      "outputs": [
        {
          "output_type": "execute_result",
          "data": {
            "text/plain": [
              "413"
            ]
          },
          "metadata": {},
          "execution_count": 143
        }
      ]
    },
    {
      "cell_type": "code",
      "metadata": {
        "colab": {
          "base_uri": "https://localhost:8080/",
          "height": 0
        },
        "id": "ZJET27bl8Mvv",
        "outputId": "41126002-4933-4b95-bb1f-c3bc259dee99"
      },
      "source": [
        "global books_df\n",
        "books_df.head()"
      ],
      "execution_count": 144,
      "outputs": [
        {
          "output_type": "execute_result",
          "data": {
            "text/html": [
              "<div>\n",
              "<style scoped>\n",
              "    .dataframe tbody tr th:only-of-type {\n",
              "        vertical-align: middle;\n",
              "    }\n",
              "\n",
              "    .dataframe tbody tr th {\n",
              "        vertical-align: top;\n",
              "    }\n",
              "\n",
              "    .dataframe thead th {\n",
              "        text-align: right;\n",
              "    }\n",
              "</style>\n",
              "<table border=\"1\" class=\"dataframe\">\n",
              "  <thead>\n",
              "    <tr style=\"text-align: right;\">\n",
              "      <th></th>\n",
              "      <th>ISBN</th>\n",
              "      <th>Book-Title</th>\n",
              "      <th>Book-Author</th>\n",
              "      <th>Year-Of-Publication</th>\n",
              "      <th>Publisher</th>\n",
              "    </tr>\n",
              "  </thead>\n",
              "  <tbody>\n",
              "    <tr>\n",
              "      <th>0</th>\n",
              "      <td>0195153448</td>\n",
              "      <td>Classical Mythology</td>\n",
              "      <td>Mark P. O. Morford</td>\n",
              "      <td>2002.0</td>\n",
              "      <td>Oxford University Press</td>\n",
              "    </tr>\n",
              "    <tr>\n",
              "      <th>1</th>\n",
              "      <td>0002005018</td>\n",
              "      <td>Clara Callan</td>\n",
              "      <td>Richard Bruce Wright</td>\n",
              "      <td>2001.0</td>\n",
              "      <td>HarperFlamingo Canada</td>\n",
              "    </tr>\n",
              "    <tr>\n",
              "      <th>2</th>\n",
              "      <td>0060973129</td>\n",
              "      <td>Decision in Normandy</td>\n",
              "      <td>Carlo D'Este</td>\n",
              "      <td>1991.0</td>\n",
              "      <td>HarperPerennial</td>\n",
              "    </tr>\n",
              "    <tr>\n",
              "      <th>3</th>\n",
              "      <td>0374157065</td>\n",
              "      <td>Flu: The Story of the Great Influenza Pandemic...</td>\n",
              "      <td>Gina Bari Kolata</td>\n",
              "      <td>1999.0</td>\n",
              "      <td>Farrar Straus Giroux</td>\n",
              "    </tr>\n",
              "    <tr>\n",
              "      <th>4</th>\n",
              "      <td>0393045218</td>\n",
              "      <td>The Mummies of Urumchi</td>\n",
              "      <td>E. J. W. Barber</td>\n",
              "      <td>1999.0</td>\n",
              "      <td>W. W. Norton &amp;amp; Company</td>\n",
              "    </tr>\n",
              "  </tbody>\n",
              "</table>\n",
              "</div>"
            ],
            "text/plain": [
              "         ISBN  ...                   Publisher\n",
              "0  0195153448  ...     Oxford University Press\n",
              "1  0002005018  ...       HarperFlamingo Canada\n",
              "2  0060973129  ...             HarperPerennial\n",
              "3  0374157065  ...        Farrar Straus Giroux\n",
              "4  0393045218  ...  W. W. Norton &amp; Company\n",
              "\n",
              "[5 rows x 5 columns]"
            ]
          },
          "metadata": {},
          "execution_count": 144
        }
      ]
    },
    {
      "cell_type": "markdown",
      "metadata": {
        "id": "Axxb5OcHbTe4"
      },
      "source": [
        "### **Colaborative Filtering Recommender Class**"
      ]
    },
    {
      "cell_type": "code",
      "metadata": {
        "id": "ulWFacPJL2rZ"
      },
      "source": [
        "import random"
      ],
      "execution_count": 145,
      "outputs": []
    },
    {
      "cell_type": "code",
      "metadata": {
        "id": "v0pRNjAZ7921"
      },
      "source": [
        "class CFRecommender:\n",
        "    \n",
        "    MODEL_NAME = 'Collaborative Filtering'\n",
        "    \n",
        "    def __init__(self, cf_predictions_df):\n",
        "        self.cf_predictions_df = cf_predictions_df\n",
        "        \n",
        "    def get_model_name(self):\n",
        "        return self.MODEL_NAME\n",
        "        \n",
        "    def recommend_items(self, user_id, items_to_ignore=[], topn=10):\n",
        "        # Get and sort the user's predictions\n",
        "        sorted_user_predictions = self.cf_predictions_df[user_id].sort_values(ascending=False).reset_index().rename(columns={user_id: 'recStrength'})\n",
        "\n",
        "        # Recommend the highest predicted rating content that the user hasn't seen yet.\n",
        "        recommendations_df = sorted_user_predictions[~sorted_user_predictions['ISBN'].isin(items_to_ignore)].sort_values('recStrength', ascending = False).head(topn)\n",
        "        recommendations_df=recommendations_df.merge(books_df,on='ISBN',how='inner')\n",
        "        recommendations_df=recommendations_df[['ISBN','Book-Title','recStrength']]\n",
        "\n",
        "        return recommendations_df\n",
        "\n",
        "\n",
        "\n",
        "cf_recommender_model = CFRecommender(cf_preds_df)"
      ],
      "execution_count": 146,
      "outputs": []
    },
    {
      "cell_type": "code",
      "metadata": {
        "id": "cnLBAoJLiSlu"
      },
      "source": [
        ""
      ],
      "execution_count": 146,
      "outputs": []
    },
    {
      "cell_type": "code",
      "metadata": {
        "id": "TPI7RO8liTPX"
      },
      "source": [
        ""
      ],
      "execution_count": 146,
      "outputs": []
    },
    {
      "cell_type": "markdown",
      "metadata": {
        "id": "iCYea9chbr-H"
      },
      "source": [
        "# **Evaluation**\n",
        "\n",
        "### In Recommender Systems, there are a set metrics commonly used for evaluation. We choose to work with **Top-N accuracy metrics**, which evaluates the accuracy of the top recommendations provided to a user, comparing to the items the user has actually interacted in test set.\n",
        "\n",
        "### This evaluation method works as follows:\n",
        "\n",
        "* ### For each user\n",
        "    * ### For each item the user has interacted in test set\n",
        "        * ### Sample 100 other items the user has never interacted.   \n",
        "        * ### Ask the recommender model to produce a ranked list of recommended items, from a set composed of one interacted item and the 100 non-interacted items\n",
        "        * ### Compute the Top-N accuracy metrics for this user and interacted item from the recommendations ranked list\n",
        "* ### Aggregate the global Top-N accuracy metrics"
      ]
    },
    {
      "cell_type": "code",
      "metadata": {
        "id": "-2XhxKRz8aVZ"
      },
      "source": [
        "#Indexing by personId to speed up the searches during evaluation\n",
        "interactions_full_indexed_df = interactions_full_df.set_index('User-ID')\n",
        "interactions_train_indexed_df = interactions_train_df.set_index('User-ID')\n",
        "interactions_test_indexed_df = interactions_test_df.set_index('User-ID')"
      ],
      "execution_count": 147,
      "outputs": []
    },
    {
      "cell_type": "markdown",
      "metadata": {
        "id": "kxHPf9sccDfY"
      },
      "source": [
        "The Top-N accuracy metric choosen was **Recall@N** which evaluates whether the interacted item is among the top N items (hit) in the ranked list of 101 recommendations for a user."
      ]
    },
    {
      "cell_type": "code",
      "metadata": {
        "id": "bEB5Gyj28iJU"
      },
      "source": [
        "def get_items_interacted(UserID, interactions_df):\n",
        "    interacted_items = interactions_df.loc[UserID]['ISBN']\n",
        "    return set(interacted_items if type(interacted_items) == pd.Series else [interacted_items])"
      ],
      "execution_count": 148,
      "outputs": []
    },
    {
      "cell_type": "code",
      "metadata": {
        "id": "80F1psN38iOQ"
      },
      "source": [
        "class ModelRecommender:\n",
        "\n",
        "    # Function for getting the set of items which a user has not interacted with\n",
        "    def get_not_interacted_items_sample(self, UserID, sample_size, seed=42):\n",
        "        interacted_items = get_items_interacted(UserID, interactions_full_indexed_df)\n",
        "        all_items = set(us_user_rating['ISBN'])\n",
        "        non_interacted_items = all_items - interacted_items\n",
        "\n",
        "        random.seed(seed)\n",
        "        non_interacted_items_sample = random.sample(non_interacted_items, sample_size)\n",
        "        return set(non_interacted_items_sample)\n",
        "\n",
        "    # Function to verify whether a particular item_id was present in the set of top N recommended items\n",
        "    def _verify_hit_top_n(self, item_id, recommended_items, topn):        \n",
        "            try:\n",
        "                index = next(i for i, c in enumerate(recommended_items) if c == item_id)\n",
        "            except:\n",
        "                index = -1\n",
        "            hit = int(index in range(0, topn))\n",
        "            return hit, index\n",
        "    \n",
        "    # Function to evaluate the performance of model for each user\n",
        "    def evaluate_model_for_user(self, model, person_id):\n",
        "        \n",
        "        # Getting the items in test set\n",
        "        interacted_values_testset = interactions_test_indexed_df.loc[person_id]\n",
        "        \n",
        "        if type(interacted_values_testset['ISBN']) == pd.Series:\n",
        "            person_interacted_items_testset = set(interacted_values_testset['ISBN'])\n",
        "        else:\n",
        "            person_interacted_items_testset = set([str(interacted_values_testset['ISBN'])])\n",
        "            \n",
        "        interacted_items_count_testset = len(person_interacted_items_testset) \n",
        "\n",
        "        # Getting a ranked recommendation list from the model for a given user\n",
        "        person_recs_df = model.recommend_items(person_id, items_to_ignore=get_items_interacted(person_id, interactions_train_indexed_df),topn=10000000000)\n",
        "        print('Recommendation for User-ID = ',person_id)\n",
        "        print(person_recs_df.head(10))\n",
        "\n",
        "        # Function to evaluate the performance of model at overall level\n",
        "    def recommend_book(self, model ,userid):\n",
        "        \n",
        "        person_metrics = self.evaluate_model_for_user(model, userid)  \n",
        "        return\n",
        "\n",
        "model_recommender = ModelRecommender()"
      ],
      "execution_count": 149,
      "outputs": []
    },
    {
      "cell_type": "code",
      "metadata": {
        "colab": {
          "base_uri": "https://localhost:8080/"
        },
        "id": "MZwg-y1v8rrF",
        "outputId": "d042726e-6daf-4846-a378-50245349e062"
      },
      "source": [
        "print(list(interactions_full_indexed_df.index.values))"
      ],
      "execution_count": 150,
      "outputs": [
        {
          "output_type": "stream",
          "name": "stdout",
          "text": [
            "[12538, 41084, 52584, 110934, 113270, 128835, 150979, 174216, 183995, 208671, 225763, 229741, 269566, 277427, 135149, 165308, 205980, 265115, 271705, 13552, 16795, 31315, 235282, 242106, 229011, 265115, 105979, 117251, 125519, 160819, 196077, 209756, 41084, 7346, 8067, 13552, 25409, 95359, 125692, 127359, 181687, 251422, 115490, 55892, 113270, 218608, 13850, 16634, 31556, 39281, 165308, 246513, 21014, 55187, 69078, 95359, 100459, 110912, 130571, 138578, 150979, 6575, 10447, 52853, 224349, 6563, 8245, 55187, 69078, 100459, 110912, 111174, 142524, 236757, 242299, 31556, 55492, 55892, 46398, 63938, 101876, 108005, 126604, 172742, 226965, 235282, 6251, 16634, 51883, 56856, 60244, 60337, 75591, 81977, 85757, 87555, 94347, 95359, 100459, 110912, 126604, 142524, 145641, 157273, 178199, 183995, 222296, 225763, 234828, 245410, 6575, 13850, 21576, 29259, 30735, 35859, 51450, 55492, 60244, 64436, 76818, 110934, 110973, 135045, 137589, 141710, 149069, 153662, 160819, 172742, 177090, 178667, 196077, 228764, 269890, 271705, 240567, 275970, 143175, 187145, 240567, 32773, 87555, 177432, 224349, 229741, 56447, 162738, 196502, 4017, 6563, 10447, 12538, 21014, 69078, 76352, 88733, 95359, 105979, 112026, 113270, 115003, 143415, 155147, 174216, 221445, 230522, 232131, 235935, 236757, 19664, 21014, 69078, 76352, 76499, 88937, 115003, 143415, 187256, 232131, 242299, 36606, 39281, 62891, 75591, 76352, 78783, 95359, 110912, 172742, 228681, 6575, 10447, 12824, 14422, 21014, 21576, 30972, 36606, 40889, 56447, 60244, 68555, 77809, 83637, 88733, 88937, 95932, 110912, 126492, 135045, 137589, 147141, 165308, 172512, 182993, 187256, 190925, 196077, 203240, 204864, 209373, 212923, 218552, 221445, 229741, 236757, 242299, 260897, 268032, 268110, 271448, 4017, 23768, 55490, 69078, 126492, 144531, 240567, 266226, 266865, 13273, 16795, 22625, 30533, 77809, 105979, 107784, 112001, 113270, 113904, 135149, 137589, 141493, 145641, 204864, 234828, 236757, 271195, 6575, 23768, 35859, 37712, 64436, 76352, 89602, 95359, 101305, 113270, 130571, 148744, 150979, 155147, 173415, 181687, 206534, 212923, 223087, 224764, 232131, 236757, 252695, 255489, 273979, 31826, 165308, 203240, 228681, 271195, 30487, 69078, 87555, 126604, 147141, 165319, 178667, 210485, 218552, 227447, 246513, 249894, 258534, 265313, 266865, 2766, 50225, 56447, 110934, 113519, 137688, 159033, 229741, 271705, 89602, 218552, 21014, 37712, 88733, 89602, 110912, 135831, 165308, 189835, 223154, 240567, 268110, 10447, 14422, 16795, 19664, 38273, 75591, 85757, 95359, 101876, 105979, 110912, 110973, 117251, 122429, 127233, 162639, 172512, 172742, 204864, 206534, 209756, 212923, 223154, 235935, 264031, 265115, 268622, 30487, 46398, 95359, 159033, 22625, 81977, 101305, 115003, 143415, 145449, 203240, 263163, 6543, 6563, 6575, 7346, 16106, 37712, 60244, 63394, 77809, 89602, 96448, 110934, 115003, 125039, 130571, 142524, 147141, 150979, 162639, 165308, 168047, 170513, 184299, 224430, 225763, 227520, 229741, 234359, 255489, 271448, 6563, 10447, 49460, 78783, 89602, 95359, 95932, 96448, 110934, 114444, 135149, 157273, 165308, 196502, 203240, 204864, 210485, 224430, 266865, 271195, 22625, 110934, 113270, 140358, 223154, 224764, 229313, 230522, 231210, 232131, 235282, 264031, 266056, 235105, 241666, 6251, 6543, 7915, 8067, 16795, 23768, 30276, 35859, 64436, 88793, 95359, 104636, 104665, 115003, 130571, 133571, 135149, 145641, 146113, 153662, 165308, 236757, 239584, 242299, 245410, 250184, 259260, 277427, 14521, 19664, 62891, 93047, 95932, 101305, 153662, 162052, 181176, 185233, 214786, 218608, 232131, 249628, 264031, 30276, 114368, 190925, 6563, 37712, 95359, 106225, 144531, 147847, 162639, 163804, 224138, 250184, 255489, 260897, 31556, 95359, 105979, 113519, 170513, 211426, 246311, 263163, 271195, 21014, 30972, 16106, 55187, 56959, 170513, 266056, 112001, 190925, 268622, 69355, 225763, 16795, 37712, 87555, 111174, 114988, 129716, 234359, 239584, 21014, 48494, 88733, 100459, 100906, 104399, 104636, 110934, 155014, 155147, 196502, 197659, 263163, 265313, 269566, 275970, 60244, 104636, 123883, 128835, 153662, 165319, 189835, 16795, 21014, 76499, 78553, 153662, 174304, 226965, 239584, 254465, 63394, 88733, 189835, 14521, 16795, 21014, 31556, 32773, 49460, 55492, 55892, 81977, 85426, 93047, 110934, 126492, 135149, 137688, 147141, 150979, 165308, 170634, 229741, 250184, 271448, 13273, 16795, 85426, 110934, 125039, 126492, 126604, 135149, 142524, 147141, 227447, 229741, 7346, 12538, 55892, 78834, 85426, 96448, 156150, 165308, 196077, 217375, 224430, 226545, 271448, 16795, 21014, 30735, 35859, 37712, 44728, 68555, 95359, 110973, 113519, 148744, 150498, 203240, 204864, 251422, 266056, 271195, 271705, 69078, 196160, 6251, 32773, 55187, 56447, 69355, 101851, 101876, 150979, 189835, 211426, 226965, 249894, 251422, 29855, 66680, 128835, 196160, 29259, 95991, 56447, 62891, 69078, 88937, 89602, 110912, 113270, 170513, 204864, 242299, 249894, 76818, 93047, 129716, 133747, 156269, 173415, 234359, 234828, 246311, 268110, 21014, 30487, 37712, 46398, 75591, 93629, 95359, 100906, 125039, 141710, 203240, 223154, 169663, 4017, 16795, 110973, 113270, 113519, 178199, 190459, 238781, 6543, 10447, 13273, 30533, 32773, 65258, 68555, 102275, 113270, 127359, 148744, 162639, 170634, 210485, 265115, 4017, 6575, 8067, 28634, 37712, 62891, 68555, 78834, 89602, 101305, 104636, 110912, 126604, 127233, 150968, 153662, 162639, 165308, 178199, 189973, 190925, 196077, 197364, 207782, 219546, 224430, 225763, 229313, 229741, 232131, 242106, 254465, 265115, 62891, 225763, 13552, 6575, 21014, 51450, 52584, 60244, 78783, 94347, 95359, 105979, 125692, 135149, 141493, 145641, 162738, 193499, 203240, 210485, 224430, 242299, 266056, 273979, 6575, 7346, 21014, 36606, 37712, 60244, 76499, 88793, 102967, 106225, 110912, 144531, 165308, 181687, 187256, 203240, 211426, 212923, 221445, 229011, 239584, 265115, 266056, 268622, 271705, 275970, 6575, 13552, 40943, 60244, 100906, 156150, 160819, 189973, 224430, 229011, 248718, 254465, 271705, 2766, 60707, 76499, 96448, 170513, 170634, 251394, 263163, 189835, 30972, 63938, 133747, 136139, 177072, 196077, 227705, 268032, 6575, 13552, 30735, 60244, 87555, 94347, 105979, 142524, 153718, 156150, 178667, 217375, 227447, 229011, 232131, 260897, 261829, 263163, 44728, 89602, 204864, 7158, 16795, 31315, 46398, 65258, 87555, 100459, 122429, 140358, 160819, 172742, 234359, 240567, 264031, 264082, 266865, 8245, 22625, 95359, 100906, 101305, 112001, 115003, 127359, 156150, 160819, 169233, 187256, 225763, 273979, 254, 6543, 6575, 8681, 16795, 22625, 29259, 35859, 36606, 37712, 51450, 60244, 60337, 69971, 89602, 106225, 135831, 136205, 163804, 168047, 172512, 178199, 178667, 187256, 203240, 206074, 210485, 223154, 228681, 230522, 234359, 235935, 240567, 242299, 255489, 259260, 266865, 49460, 85426, 89602, 110934, 193499, 204864, 240144, 269890, 187145, 23768, 60244, 153662, 204864, 7915, 13273, 14422, 16634, 60244, 69078, 95359, 114988, 135149, 239584, 242299, 246311, 16795, 55892, 98391, 108005, 113519, 169233, 207782, 246311, 250184, 271705, 14422, 204864, 249862, 271195, 63938, 110934, 133571, 153662, 219546, 225763, 271448, 275970, 60244, 83637, 8245, 46398, 69971, 85426, 115003, 162738, 165319, 187517, 190459, 203240, 204864, 217375, 222296, 224764, 231827, 234359, 251394, 261829, 266056, 229741, 7915, 10447, 16106, 37712, 89602, 108005, 211426, 226545, 100459, 125519, 245410, 8245, 47316, 52199, 55187, 69078, 88733, 137589, 147141, 150979, 173415, 227447, 112001, 153662, 208671, 248718, 16634, 55490, 94347, 95932, 6543, 187517, 213150, 240144, 162639, 205980, 126736, 100846, 31315, 52853, 162639, 189835, 6575, 7915, 8245, 8681, 12538, 16795, 21014, 26544, 30487, 30735, 35859, 53174, 60244, 68555, 70415, 93629, 95359, 101305, 110912, 113519, 115003, 126604, 127233, 129716, 135831, 141493, 141710, 145619, 146113, 155014, 155147, 165308, 181687, 187256, 189835, 190925, 196077, 204864, 224349, 229313, 236757, 240567, 242299, 255489, 261829, 270820, 271448, 271705, 7346, 38023, 69971, 82407, 95359, 115003, 130571, 153662, 169663, 204864, 211426, 245645, 259629, 7346, 60244, 62272, 76151, 157273, 6575, 46398, 69078, 95359, 110934, 181687, 189973, 223087, 22625, 100459, 106225, 162639, 50225, 76151, 98391, 140358, 182993, 76151, 114414, 126492, 140358, 77809, 110912, 142524, 165319, 201674, 7915, 98391, 157273, 163804, 166123, 226545, 8067, 23768, 76151, 98391, 100846, 104636, 157273, 235105, 6575, 7346, 13273, 25981, 76151, 98391, 114988, 144531, 145449, 157273, 193499, 227705, 235105, 235392, 235935, 241980, 258534, 265115, 274308, 6563, 16106, 21014, 35857, 35859, 56447, 60244, 69078, 81492, 85757, 95359, 102967, 105979, 122429, 133747, 135265, 141493, 174304, 181687, 182993, 196077, 201447, 223087, 224430, 229741, 235105, 255489, 260897, 269890, 271705, 273979, 6575, 49460, 69078, 94347, 110934, 143415, 145449, 173415, 214786, 228764, 246311, 8067, 51450, 76151, 98391, 112001, 135265, 182993, 201674, 224764, 235935, 16795, 36606, 136139, 160819, 196502, 216683, 238120, 245645, 249894, 251422, 271448, 16795, 21014, 36606, 55492, 85757, 95359, 98391, 133747, 135831, 170947, 178667, 271448, 10447, 60244, 85757, 193499, 50225, 69971, 105979, 136139, 178199, 210485, 229313, 235282, 273979, 89602, 7346, 23872, 28634, 38023, 53174, 56959, 85426, 87141, 101851, 123981, 126492, 147847, 158295, 162639, 185233, 187145, 209756, 214786, 241666, 254206, 258534, 259629, 266226, 268032, 21014, 31315, 245645, 266056, 35857, 236283, 162639, 245645, 226965, 6251, 7915, 25981, 35859, 51450, 60244, 62272, 84024, 100846, 104636, 104665, 110934, 135045, 144531, 158295, 162639, 173415, 208147, 221445, 241980, 245410, 247447, 258534, 271448, 8067, 8245, 85656, 114368, 117251, 141493, 162639, 187517, 201447, 242083, 265115, 6575, 7346, 8067, 16795, 30735, 33974, 60244, 104636, 107021, 110934, 135045, 144531, 146113, 158295, 163804, 173415, 177090, 201674, 218552, 225763, 227520, 241980, 245410, 247447, 258534, 69697, 76151, 114368, 135149, 203240, 209756, 242083, 265115, 8067, 21014, 21659, 25981, 30735, 35859, 62272, 76818, 84024, 104636, 107021, 110934, 135045, 146113, 147847, 158295, 201674, 208147, 231827, 240567, 241980, 245410, 247447, 258534, 8245, 110973, 114368, 162738, 247447, 261829, 7346, 7915, 38273, 76818, 84024, 92810, 100846, 104636, 107021, 110934, 146113, 201674, 205980, 211426, 240567, 241980, 245410, 258534, 8245, 16795, 21014, 52853, 115003, 162639, 212965, 245645, 6251, 6543, 6575, 7346, 7915, 8067, 16795, 25981, 35859, 38273, 41084, 76151, 104636, 107021, 110934, 144531, 162639, 177072, 177090, 190925, 193499, 196077, 201674, 208147, 241980, 245410, 247447, 258534, 265115, 8067, 30276, 44728, 51450, 81492, 107021, 114368, 172742, 236172, 265115, 8067, 13273, 25981, 38273, 60244, 60707, 67840, 88733, 98391, 104636, 135149, 144531, 156467, 193499, 221445, 232131, 233911, 235105, 241980, 261829, 265115, 8067, 60707, 98391, 107784, 114988, 145449, 156467, 206074, 213150, 221445, 235935, 236757, 241980, 107021, 114368, 137589, 162639, 174216, 236757, 25409, 25981, 47316, 76818, 110934, 145449, 146113, 162639, 163804, 172742, 177072, 193499, 196077, 208147, 210485, 232131, 240567, 241980, 245410, 247447, 254465, 258534, 6575, 60244, 62272, 76818, 102647, 104636, 110934, 144531, 153718, 158295, 163804, 178667, 196160, 240567, 241980, 247447, 249862, 249894, 251843, 258534, 261829, 274308, 13552, 110912, 212923, 266056, 21014, 39281, 110973, 181687, 228681, 4017, 7346, 12538, 60337, 81492, 95359, 104665, 105979, 107784, 150979, 181687, 207782, 210485, 219546, 224138, 225763, 227447, 235282, 246311, 261829, 271705, 35859, 133571, 7158, 16795, 31315, 88793, 98391, 127359, 135045, 150979, 162052, 187145, 224349, 16795, 95932, 16634, 21014, 60244, 65258, 95359, 104636, 106225, 126604, 140358, 145449, 153662, 165308, 173415, 177090, 187256, 196077, 203240, 225763, 227705, 236058, 260897, 266865, 6251, 16795, 21014, 30487, 46398, 70415, 76151, 76942, 110973, 115003, 133747, 160819, 162052, 182993, 208671, 218552, 225763, 240567, 258938, 271448, 13273, 14422, 22625, 29855, 30276, 30972, 33974, 35857, 38273, 52584, 53174, 63938, 95359, 101876, 104636, 105979, 110912, 144531, 144555, 145641, 169663, 172742, 177072, 187256, 187517, 189973, 193499, 208147, 229313, 232131, 254465, 255489, 256407, 258938, 265115, 269566, 273979, 25981, 55892, 76151, 98391, 127359, 135265, 143175, 162738, 187256, 224349, 251843, 55490, 140358, 143175, 178199, 183995, 209373, 218552, 235392, 2766, 4017, 13273, 16795, 22625, 23768, 28634, 29855, 35859, 46398, 52584, 56447, 56959, 62891, 69078, 76151, 77809, 78783, 81492, 81977, 89602, 95359, 98391, 105979, 106225, 112001, 112026, 113270, 113519, 114368, 114444, 115003, 130571, 138578, 141902, 143175, 144531, 144555, 147141, 148744, 157273, 158295, 163804, 172512, 173415, 174304, 187256, 190459, 192093, 193499, 196077, 204864, 210485, 216683, 221445, 222296, 224430, 224764, 225595, 225810, 227447, 234828, 235105, 235282, 236058, 238120, 239584, 246311, 252071, 254465, 260897, 261829, 264031, 266865, 268032, 268110, 271448, 13273, 50225, 174304, 239584, 242299, 31315, 41084, 53174, 55490, 62272, 114368, 140358, 207782, 218608, 13273, 31315, 87141, 98391, 114368, 125519, 130474, 138578, 201674, 221445, 241980, 31315, 35859, 53174, 98391, 114368, 125519, 130474, 130571, 138578, 149069, 158295, 162639, 201674, 225763, 261829, 7158, 16795, 31315, 35859, 95359, 110912, 114368, 158295, 201674, 225810, 242646, 125519, 149069, 6563, 31315, 41084, 62272, 76151, 221445, 251843, 100459, 14422, 110973, 240568, 178199, 13850, 16795, 22625, 31556, 56856, 60244, 78834, 95359, 129716, 150979, 155014, 174304, 177432, 204864, 211426, 229741, 240567, 271448, 6575, 49460, 56447, 56959, 78834, 80683, 82407, 88793, 89602, 94347, 95932, 111174, 123981, 181687, 193499, 229741, 235282, 239584, 242083, 261829, 268622, 277427, 6575, 8245, 25409, 100906, 110934, 129716, 189973, 225810, 49460, 78834, 88793, 114988, 135149, 229741, 235282, 242083, 87555, 196077, 266865, 29855, 31315, 60244, 75591, 95932, 129716, 141710, 142524, 236757, 256407, 16795, 98391, 113270, 230522, 14422, 21014, 29855, 102967, 135149, 236757, 240568, 242106, 251843, 255489, 14422, 16795, 21014, 22625, 53174, 70415, 98391, 135149, 167800, 88793, 165308, 236757, 271195, 4017, 22625, 89602, 100459, 153662, 209756, 251422, 273979, 35857, 113270, 192093, 258534, 271448, 8245, 13850, 26544, 106225, 113270, 141902, 146113, 172512, 178667, 181176, 235282, 252071, 35836, 49109, 98391, 150498, 162738, 208671, 216466, 229313, 252071, 225763, 271705, 52199, 153662, 248718, 40889, 55490, 80683, 87141, 93629, 128835, 172030, 218608, 233911, 266226, 16634, 6323, 16634, 23872, 29259, 31315, 53174, 55490, 87555, 95932, 101876, 112001, 114368, 114444, 126492, 129716, 135265, 140358, 147141, 158295, 172742, 177432, 185233, 197364, 211426, 229313, 236757, 242083, 242106, 245410, 255489, 159033, 94347, 150968, 23872, 29259, 32773, 35836, 55490, 87555, 88937, 93047, 104399, 110934, 111174, 113904, 114368, 126492, 129716, 133571, 140358, 147141, 147847, 155014, 185233, 211426, 214786, 226965, 227705, 229313, 229741, 230522, 241666, 242083, 245410, 249862, 255489, 259629, 271195, 22625, 31556, 40889, 60244, 65258, 73394, 76818, 87555, 88733, 100459, 110934, 140358, 148744, 166123, 170513, 189835, 196160, 207246, 210485, 233911, 249862, 266226, 274061, 16795, 23872, 25981, 81492, 88937, 153662, 162738, 205980, 207246, 208406, 218552, 232131, 251394, 48494, 53174, 155014, 162738, 196160, 249862, 31556, 60244, 135149, 162738, 166123, 177432, 189835, 6543, 13850, 16795, 21576, 23872, 30533, 32773, 35859, 38023, 52199, 60244, 69078, 76352, 81492, 85426, 94347, 114444, 137589, 137688, 143415, 153662, 159033, 177432, 181176, 187145, 213150, 216683, 249862, 260897, 7346, 14422, 64436, 69971, 93629, 117251, 128835, 196502, 210485, 221445, 242083, 271705, 8681, 16634, 22625, 30735, 46398, 53174, 81977, 100906, 110973, 156150, 160819, 226965, 63394, 87555, 114368, 126492, 129716, 140358, 147141, 158295, 210485, 211426, 235392, 242106, 245410, 251394, 41084, 62891, 104665, 162639, 170513, 177432, 181176, 187256, 208406, 214786, 227705, 234828, 251422, 259629, 28634, 41084, 224349, 29259, 38023, 52199, 63394, 114368, 140358, 158295, 204864, 7346, 23872, 46398, 64436, 89602, 95359, 101876, 102647, 105979, 110912, 110934, 133571, 142524, 204864, 212923, 218608, 232131, 239584, 255489, 271195, 6575, 8245, 83637, 95359, 133571, 137688, 158295, 169233, 224764, 225763, 251843, 94347, 125039, 35859, 38023, 95359, 110973, 133571, 135045, 172030, 242106, 259629, 7346, 12824, 14521, 21014, 28634, 29259, 35857, 37712, 41084, 46398, 51883, 62891, 93629, 95359, 96448, 104665, 123883, 128835, 135045, 162639, 185233, 208406, 209373, 210485, 214786, 223087, 224349, 226545, 229741, 232945, 234828, 240567, 241666, 245410, 259629, 269566, 30735, 52584, 60244, 126736, 162639, 189973, 216683, 271448, 62891, 65258, 100906, 140358, 224138, 249628, 252695, 16795, 35857, 52199, 62891, 85656, 87141, 88733, 95359, 102647, 102967, 155014, 169233, 190925, 197659, 210485, 224349, 227705, 231827, 274308, 7346, 14422, 25981, 62891, 93629, 95359, 95991, 105979, 183995, 229011, 234828, 238120, 245410, 93629, 104636, 123981, 125519, 158295, 255489, 16795, 28634, 31826, 42914, 55490, 110973, 123981, 135045, 227705, 234828, 270820, 16795, 31826, 110912, 115490, 123981, 126492, 126736, 254465, 31826, 51883, 111174, 225595, 227705, 13552, 55490, 87555, 95932, 111174, 126492, 129716, 135265, 170513, 225763, 226965, 259629, 271195, 23872, 55490, 87555, 107784, 114368, 114444, 126492, 129716, 140358, 177432, 185233, 207782, 208406, 211426, 224764, 226965, 229313, 238120, 242106, 245410, 251394, 255489, 271195, 28634, 31826, 158295, 225595, 68555, 104636, 124487, 126736, 158295, 185233, 16795, 21014, 22625, 30735, 40889, 73394, 89602, 92810, 144555, 196077, 216683, 221445, 258938, 94347, 162639, 19085, 126492, 135149, 261829, 271448, 42914, 110934, 7346, 28634, 42914, 87141, 126736, 159033, 209373, 214786, 228681, 266056, 267635, 6575, 23872, 60244, 95359, 177432, 184299, 196160, 211426, 242083, 268032, 31826, 35836, 55490, 126492, 135045, 227705, 232131, 41084, 55892, 214786, 227705, 234828, 252695, 259629, 268032, 49109, 51883, 96448, 135045, 181176, 203240, 209373, 259629, 95359, 126492, 126736, 138578, 181176, 238120, 37712, 95359, 147141, 173415, 185233, 224764, 226965, 264082, 55490, 95359, 102647, 95359, 140358, 32773, 6575, 56447, 69971, 82407, 128835, 239584, 261829, 268110, 235105, 236757, 241666, 69971, 89602, 123981, 189973, 201447, 218552, 235282, 255489, 38273, 124487, 174216, 178199, 193499, 196077, 232945, 258534, 16106, 25409, 95359, 127359, 173415, 187256, 197364, 204864, 258534, 25409, 38273, 83287, 102275, 173415, 193499, 197364, 204864, 258534, 261829, 274308, 277427, 16795, 19085, 40889, 48494, 53174, 69971, 81492, 92810, 100846, 135149, 177432, 206074, 214786, 224349, 225595, 267635, 89602, 100846, 101876, 16634, 110934, 208671, 236058, 261829, 265115, 265313, 19085, 126492, 143175, 226965, 4017, 115003, 13552, 42914, 226965, 261829, 126604, 140358, 170513, 172742, 214786, 225763, 233911, 25409, 89602, 92810, 101876, 214786, 230522, 16795, 49460, 64436, 73651, 75591, 95359, 111174, 113270, 115003, 174216, 189973, 203240, 209373, 210485, 223087, 224430, 268110, 16795, 22625, 29855, 113270, 123981, 144555, 160819, 178667, 230522, 264031, 265115, 266865, 19085, 25981, 89602, 95359, 206074, 207782, 210485, 236283, 4017, 21576, 22625, 26544, 35857, 64436, 78783, 104665, 113519, 137589, 163804, 178199, 189973, 203240, 208671, 222296, 238781, 251843, 260897, 271448, 52584, 69355, 110973, 126492, 170513, 197364, 197659, 206074, 225595, 234828, 264031, 274061, 6543, 7346, 16106, 39281, 60244, 73651, 78783, 88793, 111174, 113270, 113519, 117251, 141493, 160819, 162738, 210485, 265115, 271448, 76151, 98391, 162639, 35836, 36606, 106225, 130571, 162738, 181687, 208147, 231210, 232131, 76151, 158295, 2276, 31556, 76352, 84024, 112026, 208147, 232131, 249894, 46398, 101876, 142524, 263163, 35859, 98391, 138578, 178199, 234359, 235105, 76151, 98391, 123883, 153662, 153662, 217375, 229011, 247447, 141493, 68555, 110934, 10447, 16106, 51883, 60244, 69971, 115003, 153662, 187145, 193499, 240567, 16634, 212965, 30276, 39616, 114368, 123883, 178667, 216012, 249628, 13552, 25981, 47316, 114368, 123883, 135149, 177090, 216012, 73651, 114368, 123883, 216012, 227520, 114368, 123883, 189516, 216012, 114368, 123883, 150968, 167800, 216012, 261829, 123883, 153662, 206074, 216012, 227520, 30276, 114368, 123883, 153662, 177374, 212965, 227520, 247447, 264082, 13552, 51450, 69697, 114368, 123883, 153662, 153718, 203799, 264082, 26544, 48494, 114368, 123883, 135265, 177374, 227520, 264082, 13552, 31315, 114368, 123883, 140358, 153662, 153718, 165308, 177374, 216683, 227520, 187517, 25981, 52853, 81492, 107784, 143175, 187517, 235935, 16795, 135149, 234359, 75591, 60244, 236757, 50225, 69078, 101305, 108005, 111174, 141710, 157273, 169663, 218552, 224349, 235105, 254206, 115490, 21576, 69078, 75591, 101305, 95932, 222296, 55490, 145449, 185233, 258534, 23768, 122429, 242299, 46398, 31826, 76942, 4017, 22625, 46398, 87555, 100459, 76151, 100459, 187517, 77809, 165308, 95359, 178199, 6543, 6575, 69355, 6575, 7158, 16795, 85757, 143415, 203240, 205980, 153662, 156269, 25981, 36606, 55490, 98391, 110973, 112001, 126492, 130474, 140358, 158295, 185233, 189835, 197659, 209373, 274061, 114988, 157273, 211426, 12824, 10447, 19664, 21014, 35859, 60244, 67840, 69078, 85426, 110934, 112001, 114988, 115003, 135831, 148744, 169233, 178199, 190925, 204864, 266865, 271448, 56447, 60244, 89602, 136139, 271448, 273979, 10447, 35857, 35859, 39281, 78834, 94347, 105979, 110973, 153662, 203240, 240568, 254465, 273979, 16795, 23768, 35857, 46398, 100846, 224430, 252695, 271448, 82407, 94347, 122429, 137688, 4017, 23768, 100459, 137589, 138578, 153662, 187145, 229741, 251394, 271448, 4017, 6575, 21014, 60244, 66680, 69078, 85757, 89602, 101305, 102967, 130571, 135149, 169663, 190925, 246311, 249628, 252695, 268110, 6575, 7915, 16795, 22625, 35857, 46398, 64436, 94347, 107784, 113519, 114444, 115003, 130571, 135831, 137589, 141902, 145641, 147847, 153662, 160819, 165308, 187145, 193499, 196077, 210485, 217375, 224430, 231210, 266056, 273979, 4017, 16106, 16795, 21014, 30972, 35859, 46398, 53174, 85426, 95359, 100846, 113519, 187145, 192093, 250184, 263163, 271448, 6251, 6575, 16634, 85757, 88793, 95359, 150979, 160819, 162052, 231210, 246311, 258534, 260897, 7346, 16795, 21014, 30533, 64436, 89602, 95359, 101305, 112001, 115003, 142524, 145449, 203240, 204864, 222296, 224430, 225763, 246311, 260897, 6251, 14422, 16795, 21576, 22625, 31315, 35857, 37712, 39281, 60244, 63938, 75591, 88937, 89602, 94347, 95359, 100459, 136139, 140358, 147847, 153662, 160819, 165308, 165319, 204864, 205980, 210485, 240567, 273979, 6575, 8067, 25409, 39281, 73394, 78834, 83637, 123981, 135149, 150979, 210485, 223087, 223154, 224349, 225763, 236172, 239584, 250184, 265115, 60244, 254, 254, 2276, 6575, 16634, 16795, 30735, 78834, 85426, 89602, 95932, 129716, 156150, 165319, 172742, 177432, 189835, 207782, 218608, 254206, 265313, 26544, 30276, 80683, 115490, 203240, 228681, 251843, 16634, 31826, 48494, 52584, 55492, 69232, 93629, 147847, 216683, 225810, 229741, 230522, 254465, 255489, 264082, 268032, 2766, 69078, 128835, 203240, 211426, 230522, 30276, 189516, 6323, 13552, 21014, 28634, 30972, 85656, 100906, 104636, 123981, 135149, 140358, 144555, 155014, 234828, 235392, 236172, 240567, 241666, 255489, 274308, 7346, 13552, 35857, 40943, 51883, 70415, 190708, 6323, 30533, 35859, 55490, 82407, 85993, 100459, 141902, 158295, 177072, 207499, 210485, 241666, 29259, 35859, 85993, 100459, 104636, 123981, 156150, 189516, 190925, 207499, 223154, 224430, 247752, 258534, 13552, 23768, 29259, 35859, 39281, 73394, 78783, 95359, 100459, 104636, 104665, 146113, 156150, 156467, 235392, 241666, 247752, 274308, 78783, 130571, 148744, 224430, 85757, 87555, 89602, 93047, 111174, 128835, 156150, 173415, 205980, 260897, 4017, 16795, 22625, 66680, 95359, 110912, 113270, 140358, 148744, 187517, 218608, 231210, 238781, 204864, 85426, 239584, 35836, 67840, 92810, 136139, 158295, 162639, 163804, 178199, 182993, 209373, 246311, 14422, 153662, 7346, 37712, 38023, 56856, 102647, 147847, 153662, 229741, 271705, 26544, 172512, 172030, 12824, 13273, 16634, 19085, 67840, 89602, 110973, 125039, 136205, 165319, 236058, 242083, 254, 6251, 55490, 56447, 81492, 89602, 95932, 100459, 114988, 142524, 155014, 165319, 204864, 206534, 232131, 236058, 110973, 10447, 29855, 35859, 52584, 65258, 78783, 100459, 123981, 136205, 153662, 160819, 178667, 181687, 190925, 203240, 216683, 224430, 234828, 240568, 258938, 268110, 271448, 56959, 165308, 218608, 254465, 258185, 83637, 158295, 6251, 50225, 114988, 142524, 156150, 6251, 6543, 46398, 64436, 89602, 173415, 181176, 203240, 204864, 235105, 241980, 242083, 242299, 249894, 25409, 112026, 196077, 223154, 254, 6575, 7346, 75591, 81977, 89602, 95932, 239584, 275970, 185233, 236283, 35859, 62891, 120093, 153662, 185233, 236283, 31315, 46398, 51883, 102359, 185233, 236283, 155014, 201447, 265313, 21576, 30487, 75591, 4017, 29855, 30487, 82407, 95359, 105979, 115003, 135149, 138578, 148744, 150979, 187517, 192093, 223154, 224430, 226965, 229313, 236757, 135149, 16795, 62272, 62272, 114368, 174216, 25981, 114368, 135149, 112001, 55490, 87141, 101851, 108005, 149069, 170513, 182993, 242083, 254206, 255489, 258534, 7915, 128835, 8245, 14422, 39616, 68555, 95932, 156150, 68555, 78553, 39616, 68555, 31315, 69232, 114368, 51883, 114368, 236757, 39616, 55492, 68555, 156150, 236757, 16795, 114368, 25981, 89602, 100459, 162639, 210485, 268110, 16795, 25981, 114368, 153662, 254465, 31315, 137589, 114368, 112001, 40889, 114368, 235935, 82407, 184299, 224138, 55892, 112001, 135265, 140358, 226965, 251843, 270820, 16795, 25981, 39616, 114368, 114368, 145449, 25981, 114368, 130474, 228764, 35859, 114368, 136139, 254465, 264031, 21014, 113519, 4017, 10447, 16795, 21014, 69971, 138578, 144555, 24921, 25981, 114368, 114368, 136139, 140358, 150498, 235392, 23872, 31315, 143175, 238781, 156150, 268110, 31315, 95359, 189835, 209373, 4017, 6575, 16795, 22625, 69078, 94347, 95359, 224138, 234359, 268110, 271448, 165308, 207782, 52584, 66680, 181687, 114368, 189835, 227447, 6575, 19664, 25409, 26593, 40943, 51450, 78783, 85426, 85757, 122429, 125692, 133747, 143175, 157273, 158295, 181687, 182993, 201447, 201674, 225763, 226545, 235935, 246513, 252071, 258938, 268110, 98391, 182993, 204864, 208406, 7346, 21014, 26593, 60244, 78783, 85757, 105979, 127359, 181687, 182993, 221445, 223087, 226545, 229741, 246513, 254465, 258938, 265115, 40943, 156150, 156150, 156150, 78783, 127233, 141493, 210485, 6563, 92810, 113519, 135831, 238120, 101851, 114368, 167800, 235105, 16795, 21014, 29855, 56959, 137589, 169663, 174304, 189835, 210485, 37712, 40889, 46398, 69971, 143415, 174304, 177072, 181176, 211426, 229741, 261829, 263163, 266865, 53174, 87141, 114368, 130474, 101851, 114368, 137589, 213150, 235105, 6323, 36606, 87141, 114368, 126492, 170947, 235105, 241980, 40889, 77809, 114368, 126492, 150498, 170947, 207499, 226545, 270820, 277427, 125519, 30533, 197659, 137589, 162738, 16795, 31315, 95359, 114368, 197659, 270820, 8067, 21659, 26593, 31315, 87141, 95359, 114368, 126492, 140358, 158295, 221445, 224349, 235105, 268622, 56447, 95359, 101305, 135045, 141710, 145449, 155147, 162052, 181176, 224349, 230522, 245410, 249628, 36606, 69078, 204864, 231210, 239584, 7346, 62891, 75591, 76818, 95359, 100906, 107784, 125692, 128835, 135045, 136205, 172742, 174304, 231827, 241666, 242083, 252071, 6251, 6563, 6575, 13552, 13850, 21576, 22625, 30735, 40889, 46398, 50225, 76151, 87555, 102967, 105979, 106225, 110912, 137589, 145641, 147847, 163804, 181687, 183995, 190708, 224430, 229313, 235282, 236283, 245645, 263163, 266056, 271195, 4017, 39281, 46398, 69971, 93047, 95359, 100906, 130571, 156150, 214786, 222296, 277427, 87141, 114368, 126492, 140358, 170947, 224349, 241980, 16795, 30533, 50225, 52584, 83287, 95359, 105979, 113270, 128835, 130571, 133747, 141710, 170513, 208406, 231210, 246311, 256407, 261829, 266056, 269566, 270820, 31315, 87141, 114368, 130474, 137589, 140358, 153662, 170634, 170947, 197659, 207499, 221445, 246311, 31315, 85993, 87141, 100459, 114368, 127359, 135149, 137589, 149069, 153662, 187256, 241980, 22625, 31315, 33974, 60337, 64436, 76151, 100846, 111174, 114368, 115003, 125519, 130571, 140358, 145641, 149069, 187256, 210485, 259629, 8681, 37712, 225595, 242299, 4017, 21576, 46398, 52584, 53174, 100459, 187145, 13273, 16795, 25981, 35859, 51883, 66680, 106225, 110912, 114368, 125519, 126492, 143175, 162639, 235105, 13273, 35857, 38023, 55892, 87555, 95359, 111174, 277427, 7915, 13273, 13552, 14521, 16795, 30276, 31826, 37712, 39281, 53174, 67840, 68555, 81977, 89602, 92810, 93629, 98391, 100846, 101305, 105979, 107784, 115003, 142524, 157273, 159033, 162738, 169663, 170513, 174304, 178199, 187256, 207246, 209373, 210485, 214786, 216466, 218552, 218608, 225595, 227705, 229313, 229741, 230522, 232131, 235105, 236172, 240567, 242083, 242646, 251422, 251843, 268622, 274308, 277427, 2276, 10447, 16795, 23768, 60244, 64436, 66680, 76151, 81492, 93629, 102647, 104636, 108005, 114368, 127233, 140358, 162639, 165308, 197659, 223154, 271448, 13273, 25981, 39281, 49109, 55492, 112001, 126492, 144531, 196077, 249628, 2766, 16795, 136205, 228681, 258938, 69078, 77809, 95359, 181687, 182993, 223087, 224430, 226545, 235105, 246513, 255489, 258938, 266056, 268622, 28634, 36606, 39281, 55492, 64436, 68555, 113270, 114368, 126492, 127233, 190708, 228764, 235105, 241980, 251843, 6575, 12824, 16795, 37712, 60244, 66680, 78783, 94347, 100459, 113270, 155147, 162639, 163804, 196077, 223154, 266056, 25409, 173415, 187256, 258534, 37712, 75591, 114988, 173415, 196077, 204864, 229011, 6543, 37712, 40889, 60244, 63938, 69078, 85757, 89602, 114988, 115003, 122429, 169663, 190925, 224138, 189835, 193499, 203240, 212923, 236058, 264031, 275970, 169663, 6543, 6575, 8245, 21014, 22625, 35859, 69971, 75591, 105979, 110912, 111174, 115003, 127359, 142524, 162052, 169663, 204864, 212923, 231210, 235935, 238120, 242106, 251394, 268110, 275970, 7346, 16106, 40943, 55492, 73394, 75591, 84024, 105979, 150979, 201674, 221445, 234359, 250184, 101305, 125519, 246311, 81977, 178667, 31556, 242106, 251843, 174304, 48494, 128835, 47316, 94347, 14422, 113519, 114988, 189835, 233911, 101876, 206534, 29259, 100459, 115490, 158295, 248718, 203240, 60244, 6251, 25981, 37712, 56959, 60244, 75591, 76499, 162639, 174304, 189835, 203240, 216683, 268110, 69971, 78553, 197659, 197659, 95932, 246311, 148744, 170513, 254206, 170513, 254206, 170513, 254206, 251843, 162639, 31315, 16634, 110973, 153662, 185233, 236283, 87141, 35859, 93629, 102359, 110973, 140358, 150968, 158295, 185233, 189835, 236283, 55490, 55490, 120093, 235105, 100459, 46398, 230522, 35859, 100459, 30487, 142524, 140358, 21659, 31315, 31826, 31315, 189516, 25981, 25981, 35859, 55892, 158295, 235105, 31315, 85993, 158295, 78834, 16795, 31315, 150498, 46398, 60244, 83637, 113519, 114988, 129716, 163804, 189835, 193499, 218552, 114368, 123883, 31315, 158295, 35859, 66680, 173415, 174216, 254465, 31315, 66680, 130571, 173415, 227447, 114368, 16795, 31315, 158295, 174216, 203799, 249628, 69355, 85993, 114368, 136205, 140358, 25981, 31315, 126736, 156150, 173415, 153662, 31315, 35859, 66680, 114368, 123883, 130474, 16795, 143175, 224764, 31315, 35859, 7346, 31315, 140358, 156150, 158295, 49460, 114988, 145449, 231827, 8245, 177374, 25981, 31315, 55892, 62272, 92810, 127359, 187256, 100459, 140358, 227520, 31315, 39281, 101876, 126736, 187256, 251843, 150979, 252695, 254, 30735, 46398, 69078, 95359, 101851, 110912, 129716, 133571, 142524, 235105, 49109, 145449, 203799, 76151, 114368, 123883, 140358, 207349, 227520, 31315, 55892, 98391, 126736, 127359, 163804, 98391, 258185, 26593, 66680, 98391, 16795, 21014, 35857, 39281, 44728, 98391, 129716, 190925, 223087, 235282, 255489, 264031, 76151, 98391, 112001, 114368, 123883, 130474, 153662, 76151, 98391, 123883, 130474, 153662, 177374, 187517, 207349, 216012, 31315, 76151, 84024, 98391, 163804, 235105, 13273, 30735, 46398, 49109, 98391, 100846, 158295, 232131, 235105, 236283, 252695, 25981, 76151, 98391, 114368, 123883, 135265, 153662, 216012, 234359, 16634, 32773, 35857, 41084, 55187, 56856, 63394, 78834, 80683, 95359, 101851, 126492, 133747, 135149, 148744, 166123, 174304, 178667, 187145, 206074, 207246, 218608, 219546, 225763, 230522, 231210, 240567, 265313, 277427, 31826, 35859, 158295, 35859, 136139, 153662, 158295, 185233, 227705, 95991, 127233, 234828, 248718, 249628, 254206, 255489, 31826, 46398, 85656, 158295, 261829, 93629, 114414, 133747, 181687, 232131, 245645, 35836, 114444, 162738, 209756, 216466, 93047, 127359, 128835, 149069, 13552, 31826, 35836, 41084, 73394, 125692, 126492, 135149, 173415, 197659, 227705, 232945, 254206, 259629, 13552, 31826, 41084, 114444, 214786, 184299, 209373, 254206, 13552, 16795, 31826, 35859, 41084, 100459, 102647, 123981, 135045, 158295, 177432, 190925, 216683, 227705, 234828, 270820, 63938, 87141, 114444, 127233, 177432, 232945, 234828, 235105, 248718, 259629, 265313, 224764, 13552, 16795, 25981, 31826, 107784, 135045, 158295, 184299, 208671, 216683, 68555, 232945, 235105, 248718, 265313, 277427, 7915, 60244, 141710, 153662, 223087, 223154, 234828, 265115, 12538, 31826, 35836, 46398, 114444, 264082, 135045, 177432, 227705, 274061, 25981, 227705, 235105, 85993, 123981, 158295, 163804, 214786, 227705, 235105, 258534, 261829, 102359, 227705, 232945, 248718, 254206, 259629, 274308, 13552, 31826, 55490, 104665, 135045, 158295, 177432, 178667, 227705, 232131, 255489, 261829, 35859, 66680, 85993, 158295, 187517, 227705, 258534, 28634, 35859, 66680, 85993, 95359, 125692, 130571, 158295, 227705, 235105, 258534, 39281, 55187, 107784, 143175, 197659, 227705, 232945, 265313, 13552, 19085, 30972, 31826, 95359, 104665, 114444, 158295, 177432, 227705, 234828, 270820, 31826, 35836, 40889, 41084, 55490, 104665, 124487, 158295, 170513, 207782, 242646, 6575, 8245, 16795, 44728, 78834, 135149, 221445, 223087, 226965, 232131, 235282, 269566, 271448, 31826, 158295, 177432, 48494, 73651, 124487, 184299, 189516, 209373, 232945, 235105, 248718, 254206, 265313, 28634, 35836, 47316, 55892, 85656, 126736, 225595, 227705, 241666, 55490, 225763, 234828, 245410, 35859, 85993, 120093, 127359, 227705, 49460, 93047, 101876, 207782, 232131, 19085, 102647, 249628, 95991, 123883, 197659, 209373, 232945, 248718, 7346, 21014, 28634, 29259, 29855, 78783, 140358, 162639, 223154, 234828, 241666, 247752, 258534, 102275, 104399, 123981, 158295, 231827, 234828, 241666, 36606, 60337, 114414, 207246, 82407, 226965, 242106, 124487, 136205, 163804, 235105, 241666, 258185, 7346, 13552, 29259, 100459, 106225, 140358, 189516, 203799, 207499, 223154, 241666, 247752, 258534, 19085, 123981, 126736, 172030, 231827, 28634, 227705, 241666, 245410, 56959, 68555, 136205, 235105, 258534, 21014, 30972, 100459, 190925, 227705, 235392, 252695, 76942, 143175, 232945, 235105, 265313, 44728, 95359, 104665, 113904, 158295, 187517, 28634, 56959, 104399, 231827, 234828, 241666, 143415, 196160, 16795, 21014, 22625, 35859, 75591, 94347, 125692, 189973, 234359, 240568, 133747, 172742, 21014, 30972, 78783, 123981, 124487, 140358, 227705, 247752, 258534, 264082, 16795, 104399, 123981, 126736, 201674, 227447, 19664, 21014, 22625, 26544, 66680, 95359, 105979, 162639, 224430, 226965, 234359, 235282, 95359, 105979, 155014, 229011, 10447, 16795, 104636, 105979, 13552, 21659, 31315, 78783, 135149, 141902, 162738, 204864, 245410, 247752, 261829, 264082, 274308, 19085, 68555, 87141, 232945, 235105, 254206, 2276, 13552, 28634, 78783, 101876, 147847, 165319, 185233, 258534, 16795, 104399, 112001, 241666, 245410, 28634, 35859, 66680, 114444, 115490, 144555, 227447, 227705, 258185, 267635, 30972, 66680, 114414, 247752, 68555, 105979, 148744, 206534, 227447, 16795, 28634, 69355, 2766, 89602, 115490, 135149, 214786, 30276, 114368, 123883, 140358, 153662, 170947, 218608, 225763, 227447, 227520, 236172, 247447, 256407, 269890, 28634, 38273, 84024, 110934, 166123, 214786, 235105, 258534, 267635, 28634, 38273, 76942, 126736, 140358, 162639, 247752, 258534, 16795, 112001, 85993, 104399, 112001, 190708, 241980, 210485, 266056, 16795, 38273, 66680, 124487, 158295, 197659, 214786, 232131, 255489, 258185, 258534, 267635, 2276, 28634, 35859, 38273, 56959, 83287, 92810, 101876, 232131, 256407, 258534, 8067, 98391, 6575, 76499, 136139, 173415, 212923, 268110, 271448, 8067, 30276, 98391, 114368, 123883, 153662, 156467, 158295, 177090, 227520, 235392, 245410, 247447, 258185, 6563, 31315, 98391, 150968, 216012, 187256, 104399, 120093, 30276, 47316, 114368, 123883, 153662, 153718, 156269, 177090, 227520, 247447, 258185, 38273, 66680, 124487, 158295, 235105, 35859, 206074, 6543, 25409, 36606, 78783, 89602, 104636, 165319, 190925, 267635, 181176, 254, 22625, 23872, 30735, 39616, 55492, 75591, 78553, 83637, 85993, 93047, 100906, 101851, 102647, 102702, 104399, 110912, 110934, 114368, 162639, 168047, 170634, 181176, 211426, 226965, 229741, 232131, 254, 8245, 12824, 21014, 30735, 47316, 56447, 81492, 88733, 104636, 110973, 126736, 137589, 147141, 153662, 153718, 156150, 156269, 157273, 165308, 167800, 170513, 172512, 173415, 216466, 224138, 242083, 249628, 263163, 265313, 274308, 254, 6251, 23872, 30735, 55492, 56959, 60707, 78553, 85993, 100906, 101851, 102647, 102702, 110934, 140358, 162639, 167800, 168047, 170513, 170634, 177374, 181176, 211426, 226965, 229741, 232131, 240144, 242106, 263163, 269566, 271705, 254, 12824, 21576, 69697, 88733, 93047, 104399, 104636, 115490, 135149, 147141, 153662, 208406, 242083, 249862, 265313, 254, 6251, 13273, 23872, 25409, 30735, 55492, 60707, 69697, 78553, 85993, 87555, 88733, 93047, 101851, 102702, 110912, 110934, 153662, 162639, 168047, 170513, 170634, 177374, 193499, 208406, 226965, 240144, 242106, 248718, 6563, 21576, 88733, 100906, 104636, 137589, 153662, 153718, 165308, 172512, 229741, 242083, 249894, 258534, 260897, 271448, 6251, 6563, 21576, 22625, 25409, 30735, 55492, 69697, 78553, 78834, 85993, 88733, 95359, 100906, 101851, 102647, 127233, 135149, 145449, 147141, 153662, 156150, 170634, 185233, 190708, 208406, 226965, 229741, 235105, 240144, 242083, 242106, 247447, 249894, 260897, 271448, 7346, 40943, 46398, 88733, 125692, 156269, 177374, 214786, 233911, 263163, 275970, 207782, 275970, 8245, 112001, 162052, 245645, 251843, 16795, 70415, 104636, 114368, 2276, 13552, 104636, 114368, 249628, 13552, 62272, 68555, 104636, 107784, 114368, 218552, 55490, 60244, 75591, 76499, 80683, 133571, 137688, 160819, 165319, 177432, 206534, 219546, 235105, 242083, 263163, 275970, 29259, 31826, 35859, 104636, 107021, 16795, 62272, 104636, 114368, 147847, 246513, 254465, 16795, 153662, 254465, 16795, 153662, 185233, 13552, 16795, 25981, 62272, 68555, 104636, 114368, 216683, 23872, 31826, 104636, 107784, 190925, 238120, 242646, 249628, 13552, 62272, 68555, 104636, 108005, 114368, 216683, 30533, 48494, 52853, 70415, 123981, 133571, 235105, 236283, 245645, 258185, 13552, 51883, 62272, 104636, 156150, 6251, 12824, 28634, 38023, 53174, 62891, 85426, 85993, 93629, 126492, 135045, 135265, 144555, 155014, 204864, 227705, 232945, 234828, 249628, 254206, 261829, 265313, 266226, 266865, 271705, 8245, 25981, 69232, 104636, 114368, 120093, 172030, 254465, 271448, 13552, 24921, 25981, 104636, 114368, 254465, 2766, 6323, 14521, 16795, 21014, 36606, 100906, 112001, 128835, 155147, 245645, 254465, 260897, 8245, 21659, 28634, 29259, 30972, 35859, 48494, 56856, 87141, 88733, 95932, 102647, 102967, 104636, 104665, 105979, 107784, 114414, 125519, 126492, 126736, 135045, 137589, 140358, 141493, 147847, 148744, 153718, 156467, 158295, 162738, 170947, 187145, 197364, 210485, 226545, 227705, 234828, 235392, 240567, 242083, 249628, 255489, 6563, 12824, 13552, 23872, 28634, 69232, 87141, 95991, 100459, 101851, 102647, 104636, 104665, 110934, 112001, 114368, 120093, 126492, 126736, 135045, 135149, 140358, 150979, 153662, 155014, 162639, 162738, 172512, 177072, 197659, 218552, 221445, 224349, 226545, 228764, 229011, 238120, 242083, 261829, 268032, 51883, 62272, 104636, 145449, 6543, 7915, 30276, 31556, 32773, 37712, 52853, 53174, 68555, 69971, 82407, 123883, 169233, 223154, 226545, 236757, 239584, 242106, 247447, 251843, 261829, 269890, 137589, 146113, 69232, 104636, 14422, 55187, 102967, 112001, 124487, 137589, 153662, 6323, 6563, 14521, 16634, 16795, 47316, 87141, 101876, 102647, 104636, 105979, 125519, 126492, 126736, 135149, 137589, 153662, 156467, 170947, 177072, 197659, 218552, 226545, 229011, 234828, 240567, 258534, 259629, 265115, 270820, 271448, 274308, 167800, 35859, 73651, 156269, 170947, 258534, 13552, 16795, 21659, 28634, 31315, 56856, 68555, 93629, 95932, 102647, 102702, 104636, 104665, 105979, 125519, 126492, 135149, 135265, 137589, 140358, 153662, 153718, 156467, 158295, 162738, 177072, 207499, 207782, 209373, 221445, 226545, 229741, 232945, 240567, 242083, 255489, 258534, 259629, 268032, 7915, 8245, 32773, 37712, 53174, 68555, 78783, 124487, 156150, 189835, 226545, 235392, 242106, 251843, 120093, 190708, 224764, 264031, 66680, 158295, 226545, 62272, 69232, 259629, 16795, 23872, 24921, 40889, 62272, 68555, 69232, 254465, 264082, 273979, 21014, 30276, 32773, 37712, 68555, 136205, 156150, 226545, 251843, 39281, 70415, 241666, 268032, 2766, 23872, 36606, 56447, 60244, 95359, 104636, 150979, 162052, 189835, 230522, 236058, 249894, 269566, 78834, 153662, 13552, 28634, 30487, 36606, 40889, 41084, 56856, 68555, 87141, 102647, 104636, 106225, 107784, 125519, 126736, 135149, 137589, 140358, 144555, 177072, 224138, 227705, 229011, 235935, 240567, 242083, 7915, 16795, 21014, 21659, 95359, 110934, 150979, 182993, 205980, 209756, 24921, 40889, 165308, 196077, 208671, 225810, 2276, 7346, 13552, 28634, 56856, 68555, 102647, 105979, 126492, 141493, 150979, 162738, 170947, 178667, 203799, 214786, 232945, 242083, 256407, 264082, 265115, 268622, 40889, 104636, 213150, 2766, 49460, 110973, 112001, 128835, 130571, 137589, 239584, 245645, 251843, 254465, 259260, 13552, 16795, 35857, 55892, 56856, 102647, 104636, 104665, 105979, 107784, 114988, 126736, 140358, 150979, 158295, 207499, 213150, 218608, 240567, 242083, 6251, 14521, 16795, 30972, 37712, 39773, 47316, 52853, 69232, 78783, 107784, 113904, 135045, 135149, 236757, 240567, 242646, 251422, 13552, 104636, 143175, 246513, 39616, 148744, 112001, 113519, 162639, 209756, 235392, 32773, 37712, 52853, 53174, 55492, 68555, 78783, 242106, 6563, 112001, 208671, 245645, 265115, 76942, 111174, 124487, 135045, 135149, 230522, 234828, 240567, 6251, 12824, 16795, 28634, 52584, 62891, 126492, 135265, 138578, 144555, 162738, 189835, 190708, 209756, 224764, 225763, 227705, 232945, 265313, 266865, 8245, 13552, 39616, 40889, 56856, 68555, 85993, 88937, 104636, 123981, 125519, 135149, 140358, 141493, 144531, 150498, 156467, 214786, 217375, 227705, 232945, 242083, 249628, 258185, 265115, 277427, 104636, 112026, 104636, 104636, 264031, 218608, 264031, 7346, 21659, 24921, 30487, 38273, 40889, 68555, 88937, 102647, 104636, 112001, 125519, 137589, 150498, 209373, 227705, 229011, 232131, 232945, 236172, 241666, 251843, 264082, 268622, 7158, 16795, 28634, 40889, 110973, 143415, 150979, 156150, 181687, 240568, 258534, 261829, 6563, 7915, 16795, 21659, 30533, 35857, 50225, 95359, 100846, 104636, 110912, 113904, 114368, 124487, 135149, 145619, 156150, 156467, 162639, 167800, 189973, 203240, 210485, 226965, 231210, 231827, 249628, 251422, 254465, 256407, 260897, 7346, 13552, 30533, 31315, 105979, 107784, 124487, 125519, 214786, 216683, 229011, 232131, 232945, 236172, 240567, 241666, 241980, 258534, 273979, 14422, 76942, 141493, 235935, 21014, 24921, 60244, 78783, 108005, 127359, 135149, 190459, 240144, 245645, 251843, 260897, 266865, 2276, 7346, 25981, 68555, 87141, 95359, 106225, 124487, 126492, 135149, 137589, 174216, 181687, 217375, 221445, 229313, 232945, 236172, 240567, 242083, 242299, 249628, 271195, 25981, 187256, 213150, 264031, 16795, 23768, 40889, 95359, 114444, 140358, 162639, 162738, 163804, 241980, 16795, 143175, 68555, 28634, 30487, 30972, 38273, 68555, 69971, 104665, 106225, 112001, 122429, 125519, 135149, 141710, 146113, 156467, 159033, 165308, 170513, 172512, 178667, 181687, 208147, 216683, 223154, 228681, 240567, 242299, 249628, 258534, 271448, 7346, 48494, 92810, 105979, 112001, 172742, 177072, 178199, 207782, 209373, 232945, 240567, 258534, 261829, 267635, 8067, 13552, 64436, 98391, 107021, 127233, 153662, 156467, 159033, 201447, 246513, 247447, 13552, 28634, 30533, 235105, 240567, 150968, 270820, 153662, 32773, 38273, 76499, 104636, 114988, 122429, 135149, 165308, 170513, 204864, 239584, 240144, 242299, 249862, 269566, 102967, 125039, 235105, 235105, 2766, 7346, 40889, 78553, 162052, 172030, 6251, 56959, 88733, 95359, 95932, 144531, 148744, 162639, 173415, 189835, 196160, 203240, 235105, 263163, 266056, 271448, 14521, 37712, 102967, 130571, 133747, 187256, 26593, 85656, 21576, 93047, 206534, 230522, 6251, 31556, 56959, 60244, 93047, 95359, 122429, 135149, 150979, 165319, 203240, 207782, 223154, 224349, 225810, 235105, 240144, 263163, 265313, 6251, 30533, 46398, 87141, 89602, 95359, 127359, 157273, 184299, 223154, 16634, 31315, 32773, 63394, 76151, 89602, 240144, 247447, 261829, 133571, 177432, 236058, 174216, 178667, 197364, 246513, 2766, 4017, 13850, 21576, 31556, 37712, 55187, 89602, 95359, 100459, 102647, 105979, 110934, 113519, 114414, 115003, 123883, 136205, 145449, 147847, 159033, 168047, 174304, 177432, 181176, 184299, 187145, 207246, 229741, 231210, 236058, 240567, 247447, 251422, 256407, 260897, 52584, 153662, 52584, 55490, 55892, 95359, 102967, 120093, 206534, 277427, 13552, 16795, 156467, 163804, 177090, 235935, 238781, 107784, 120093, 190925, 247447, 259629, 177432, 13552, 247447, 177072, 177432, 234828, 235105, 128835, 162639, 173415, 197659, 7346, 16634, 68555, 93629, 100459, 102647, 147847, 201447, 221445, 227705, 232945, 234828, 252695, 35859, 68555, 88733, 93629, 95991, 114988, 158295, 207499, 265115, 267635, 16795, 25981, 135149, 147847, 189835, 234828, 238120, 248718, 16795, 19085, 53174, 83287, 100459, 102647, 104636, 125519, 143175, 150979, 217375, 232945, 240567, 254465, 267635, 125692, 150968, 238781, 254465, 14422, 68555, 87141, 101876, 140358, 143175, 149069, 225763, 68555, 147847, 30735, 35859, 93629, 95359, 153662, 187256, 212923, 216683, 6563, 251843, 122429, 70415, 85993, 114368, 25981, 13552, 14422, 16795, 21659, 28634, 29855, 39281, 55492, 62891, 65258, 69232, 101876, 104665, 153718, 163804, 183995, 213150, 218608, 229313, 232131, 238781, 260897, 268110, 275970, 2766, 4017, 49460, 66680, 68555, 230522, 254465, 266056, 16795, 22625, 36606, 39281, 46398, 55187, 83637, 100459, 226965, 266865, 25981, 70415, 69232, 187256, 251843, 270820, 7158, 23768, 85993, 153718, 158295, 181687, 185233, 208671, 66680, 89602, 235282, 187256, 216466, 92810, 39773, 112001, 162639, 271705, 28634, 113270, 236283, 102702, 122429, 125039, 153718, 224349, 100846, 158295, 236172, 259629, 98391, 100846, 158295, 235105, 25981, 114368, 140358, 146113, 69232, 92810, 110934, 114368, 136139, 251843, 98391, 114368, 140358, 36606, 76151, 100846, 218552, 6575, 16795, 70415, 92810, 98391, 113270, 135149, 165308, 208671, 7158, 25981, 36606, 98391, 236283, 16795, 98391, 112001, 113270, 138578, 150968, 162738, 170947, 236283, 254465, 6251, 37712, 55492, 55892, 69971, 75591, 78834, 105979, 108005, 207782, 232131, 255489, 274308, 7158, 16795, 24921, 150968, 236283, 6323, 19085, 30972, 55490, 95359, 110912, 125519, 126736, 158295, 178199, 178667, 204864, 207499, 214786, 221445, 232945, 240567, 242646, 247752, 254465, 269890, 51883, 70415, 241666, 112001, 123981, 187517, 204864, 225763, 242646, 153662, 14422, 23872, 104636, 120093, 14422, 50225, 68555, 187256, 214786, 234828, 254206, 8245, 26544, 28634, 84024, 100459, 104636, 207499, 232131, 258534, 269890, 104636, 216683, 248718, 266056, 6575, 55892, 89602, 92810, 124487, 140358, 203799, 211426, 214786, 241980, 242646, 263163, 39281, 101876, 104636, 125519, 141493, 256407, 258534, 7158, 16795, 19664, 36606, 46398, 53174, 68555, 101876, 123883, 141493, 145641, 147847, 155014, 159033, 181176, 187256, 201674, 216683, 236283, 250184, 254465, 258938, 271448, 87141, 156150, 214786, 255489, 6543, 7158, 30972, 55490, 95359, 125519, 204864, 207782, 208406, 221445, 232945, 240567, 258534, 261829, 31315, 107021, 135149, 212965, 31315, 35836, 104636, 110934, 149069, 190925, 197659, 218608, 221445, 258534, 269890, 8245, 68555, 100846, 101876, 223154, 232945, 6575, 8067, 23872, 25981, 30972, 40889, 48494, 52584, 102702, 105979, 124487, 125692, 141902, 170947, 172512, 218552, 228764, 230522, 236283, 249628, 274061, 26544, 102275, 104636, 232131, 264082, 13552, 16795, 104636, 213150, 16795, 55490, 84024, 95359, 102275, 102647, 127233, 149069, 185233, 196160, 218608, 223154, 232945, 236757, 240567, 242646, 246513, 30972, 102647, 124487, 221445, 228681, 229313, 261829, 265115, 95359, 100846, 201674, 232945, 126736, 196077, 207782, 226965, 232131, 258534, 261829, 266056, 269890, 38273, 67840, 92810, 101876, 277427, 7158, 16795, 28634, 39773, 102702, 107784, 113270, 123883, 135149, 153718, 162639, 224430, 236283, 247447, 250184, 252071, 254465, 92810, 143415, 225595, 16795, 28634, 92810, 101876, 123981, 125519, 135149, 258534, 260897, 265115, 84024, 102275, 225595, 252695, 16795, 158295, 6543, 16795, 30276, 35859, 51450, 55187, 83287, 84024, 95359, 104636, 110912, 125519, 143175, 147847, 189516, 190925, 213150, 225763, 225810, 228764, 232131, 232945, 235282, 236058, 246513, 258185, 258534, 261829, 266056, 30972, 38273, 83287, 108005, 135149, 226965, 236172, 7158, 16795, 24921, 36606, 63394, 78783, 92810, 102967, 123883, 130571, 242299, 247447, 251422, 8067, 13552, 21576, 30276, 81492, 98391, 104636, 107021, 114368, 143175, 146113, 193499, 216012, 217375, 223154, 247447, 251422, 258938, 30972, 69355, 187256, 232945, 235935, 252071, 7158, 44728, 53174, 112001, 170634, 190925, 196077, 208671, 226965, 235935, 246513, 254465, 261829, 266865, 26593, 47316, 50225, 55490, 95359, 177072, 208406, 214786, 221445, 227447, 232131, 232945, 240567, 241980, 261829, 274308, 83287, 112001, 135149, 240568, 242646, 261829, 2766, 14521, 25409, 35857, 40889, 66680, 145619, 203240, 265115, 98391, 141902, 145619, 234359, 247447, 13850, 35836, 39281, 49109, 125519, 137688, 143175, 158295, 166123, 167800, 169233, 190925, 201674, 204864, 232945, 266056, 2276, 35859, 84024, 102275, 110912, 110934, 126492, 137688, 143415, 177072, 187256, 204864, 207499, 218552, 228764, 241980, 261829, 6563, 28634, 35859, 67840, 95359, 214786, 223154, 236283, 252071, 270820, 16795, 6323, 88937, 110973, 204864, 225595, 33974, 60244, 75591, 95359, 115490, 136139, 181687, 235935, 242299, 6575, 7158, 13273, 16795, 26544, 39281, 52584, 55187, 56856, 88733, 88937, 104636, 105979, 113270, 113519, 113904, 130571, 138578, 141902, 155147, 189973, 192093, 197364, 201447, 212923, 222296, 229313, 231210, 232131, 235282, 240567, 240568, 252071, 258938, 259629, 264031, 271448, 6563, 60244, 84024, 110934, 115003, 117251, 162738, 173415, 181687, 224430, 177072, 254465, 268110, 36606, 113519, 258938, 125519, 87141, 64436, 150968, 224430, 225810, 242646, 143415, 258938, 258534, 260897, 29259, 140358, 7346, 38273, 84024, 100846, 104636, 124487, 128835, 162052, 189516, 228681, 258534, 30972, 38273, 49109, 60244, 83287, 89602, 104636, 157273, 158295, 172742, 190925, 258534, 2766, 25981, 30487, 39773, 60244, 67840, 69078, 95932, 101305, 114988, 126604, 127359, 135149, 204864, 224138, 232131, 236757, 239584, 52584, 60707, 87141, 107784, 209373, 216683, 268032, 6575, 120093, 227447, 248718, 10447, 16634, 36606, 69355, 87555, 88937, 93047, 93629, 95359, 95932, 110912, 115490, 129716, 135045, 155147, 177432, 197364, 204864, 209756, 212923, 224349, 231210, 235105, 236172, 248718, 261829, 271705, 39281, 251843, 76352, 101305, 147847, 189835, 197659, 234828, 7346, 26593, 30735, 52199, 60244, 95991, 104636, 105979, 112026, 125692, 156269, 162052, 172512, 172742, 196077, 231210, 240144, 258534, 7346, 30735, 35859, 95991, 104636, 123981, 148744, 156269, 157273, 158295, 162052, 187517, 225763, 258534, 137688, 156269, 252071, 44728, 70415, 78783, 83287, 89602, 95991, 104636, 156269, 162052, 177090, 208671, 221445, 258534, 21659, 78783, 83287, 88733, 104636, 133747, 155014, 156269, 183995, 208671, 212923, 258534, 49109, 83287, 104636, 155014, 156269, 162052, 166123, 227447, 258534, 268032, 30735, 35859, 70415, 76942, 83287, 95991, 104636, 130571, 156269, 162052, 177432, 208671, 231210, 234828, 258534, 267635, 21659, 47316, 78783, 88733, 102275, 104636, 156269, 162052, 196077, 207499, 231210, 232131, 258534, 35859, 50225, 84024, 101876, 208671, 258534, 102967, 104636, 141493, 23768, 36606, 69078, 75591, 78783, 95359, 101305, 110934, 143415, 234359, 30735, 69078, 69971, 95359, 141710, 222296, 252695, 268110, 19664, 75591, 140358, 235282, 39616, 87141, 203799, 240144, 8681, 102967, 76499, 235282, 156467, 31826, 51883, 196160, 224764, 224764, 35836, 112001, 153662, 211426, 225810, 254206, 258534, 31315, 31826, 93629, 110973, 224764, 31826, 203240, 13552, 31826, 107784, 258534, 107784, 153662, 31826, 35836, 114444, 153662, 184299, 234828, 254206, 258534, 31826, 35859, 41084, 51883, 104665, 110973, 126492, 178667, 185233, 197364, 209373, 214786, 235282, 231210, 102967, 123981, 126492, 190708, 209373, 31826, 41084, 52584, 55490, 66680, 126492, 158295, 184299, 211426, 214786, 227705, 234828, 274061, 135045, 140358, 158295, 224764, 107784, 112001, 211426, 102967, 85656, 158295, 216683, 235105, 13552, 31826, 42914, 47316, 51883, 126492, 140358, 155014, 219546, 227705, 235105, 265313, 269566, 274061, 31826, 35859, 126492, 128835, 229313, 127359, 13552, 31826, 35859, 55490, 66680, 69355, 85656, 123981, 126492, 128835, 177432, 184299, 214786, 236283, 241980, 254206, 274061, 23872, 189835, 234828, 274061, 102647, 120093, 126492, 189835, 55490, 95359, 110973, 114444, 140358, 158295, 162738, 210485, 211426, 234828, 242083, 265313, 274061, 106225, 211426, 35859, 128835, 16795, 52584, 120093, 172030, 177432, 187145, 189835, 264031, 16795, 104399, 126492, 135045, 156467, 187145, 206534, 230522, 55490, 95359, 104399, 55490, 140358, 177432, 184299, 189835, 211426, 242083, 254206, 274061, 16634, 22625, 78783, 87141, 106225, 114988, 156150, 172512, 172742, 254, 31826, 35859, 107784, 126492, 140358, 158295, 172030, 177432, 178667, 214786, 216683, 234828, 241980, 254206, 87141, 104399, 135045, 197364, 241980, 270820, 16795, 31826, 62891, 87141, 104399, 107784, 123981, 153662, 177432, 184299, 189835, 197659, 204864, 258534, 274061, 16795, 33974, 35859, 49109, 55187, 87141, 104399, 189835, 197364, 230522, 25981, 31826, 101876, 104665, 126492, 158295, 177432, 184299, 112001, 227705, 31826, 51883, 53174, 102647, 107784, 114414, 153662, 162738, 184299, 196077, 219546, 241980, 254465, 258534, 31826, 42914, 104665, 114414, 123981, 126492, 172030, 177432, 189835, 196160, 204864, 219546, 235282, 254206, 259629, 270820, 274061, 16795, 31826, 55490, 95932, 104399, 123981, 242083, 270820, 31315, 127359, 177072, 241666, 23872, 31826, 63394, 89602, 110973, 112001, 165308, 177432, 234828, 258534, 264031, 274061, 35836, 147847, 158295, 163804, 225595, 258938, 31826, 123981, 155014, 158295, 165319, 174216, 227705, 25981, 35859, 56856, 104665, 218552, 241666, 259629, 104665, 242083, 254206, 110973, 126736, 16795, 31826, 52584, 63394, 140358, 184299, 190459, 219546, 227705, 241980, 264031, 258534, 31826, 66680, 110973, 177432, 184299, 236757, 241666, 258534, 264031, 274061, 148744, 150979, 232945, 258534, 19085, 31826, 112001, 140358, 170513, 189835, 258534, 274061, 23872, 155014, 35859, 123981, 178667, 184299, 83287, 126604, 168047, 209756, 231210, 31315, 189835, 258534, 110973, 196160, 242083, 235935, 85656, 16795, 114414, 127233, 141710, 141902, 189835, 190459, 224138, 266865, 271448, 160819, 190459, 224430, 238781, 271448, 273979, 24921, 30533, 51450, 73651, 135149, 178667, 209756, 10447, 16106, 26544, 105979, 125692, 160819, 210485, 229011, 260897, 8067, 177072, 247447, 247752, 160819, 228681, 112001, 225810, 261829, 21014, 112001, 249628, 56856, 206074, 158295, 255489, 7346, 14521, 268032, 7346, 197364, 216683, 12538, 32773, 55490, 145619, 219546, 254, 16795, 23872, 49460, 55490, 60244, 69078, 80683, 87555, 95359, 129716, 177432, 224349, 240567, 242083, 271705, 269566, 254, 7346, 49460, 78834, 101876, 123883, 174304, 231210, 240567, 4017, 81977, 100459, 133747, 16634, 31315, 42914, 95359, 102359, 158295, 185233, 211426, 236283, 265313, 159033, 22625, 80683, 92810, 95932, 100459, 102359, 129716, 148744, 165319, 178667, 224138, 60337, 75591, 76499, 87555, 89602, 95359, 115003, 115490, 196077, 197364, 204864, 209756, 223154, 268110, 16634, 55490, 140358, 158295, 185233, 196160, 210485, 211426, 236283, 254206, 31315, 42914, 177432, 189835, 4017, 107784, 210485, 268110, 271705, 274061, 36606, 62891, 78783, 212923, 227705, 6575, 7915, 8245, 10447, 21014, 26544, 29259, 31556, 37712, 46398, 55492, 77809, 106225, 110973, 113519, 114988, 135149, 144555, 150979, 165319, 196077, 205980, 207782, 211426, 224349, 229313, 236757, 240567, 251422, 266056, 270820, 60337, 66680, 88793, 89602, 94347, 95359, 130571, 163804, 4017, 8245, 14422, 22625, 30972, 89602, 100459, 115003, 135831, 140358, 153718, 160819, 208147, 218608, 222296, 240567, 264031, 271448, 114988, 105979, 135045, 162639, 181687, 223087, 235935, 273979, 112001, 214786, 241980, 120093, 241980, 126492, 98391, 189835, 162639, 35857, 177072, 235282, 13552, 16795, 29855, 76151, 111174, 123883, 153662, 190708, 196502, 228764, 254465, 48494, 81492, 104636, 123883, 153662, 207349, 212965, 247447, 16795, 141710, 209756, 235282, 252695, 264031, 13552, 40889, 123883, 144531, 153662, 153718, 165308, 207349, 218552, 227520, 252695, 264082, 76151, 123883, 143175, 153662, 167800, 187256, 189973, 218552, 226545, 228764, 254465, 265115, 26544, 30276, 40889, 112001, 123883, 123981, 144531, 153662, 165308, 207349, 218552, 254465, 13552, 40889, 123883, 135149, 153662, 153718, 207349, 212965, 218552, 227520, 252695, 264031, 13552, 40889, 107021, 123883, 153662, 153718, 177090, 207349, 210485, 212965, 218552, 227520, 252695, 112001, 123883, 207349, 114368, 123883, 207349, 227520, 264031, 13552, 30276, 40889, 73651, 114368, 123883, 124487, 153662, 156467, 212965, 227520, 228764, 229011, 266056, 30276, 40889, 48494, 112001, 153662, 158295, 227520, 252695, 254465, 13552, 73651, 114368, 123883, 124487, 153662, 153718, 156467, 163804, 165308, 167800, 177374, 207349, 212965, 216683, 227520, 229011, 252695, 258185, 13552, 26544, 40889, 48494, 73651, 114368, 123883, 124487, 153662, 153718, 156467, 177374, 208671, 209756, 212965, 224764, 227520, 228764, 247447, 252695, 258185, 26544, 203240, 203799, 258185, 40889, 73651, 78553, 114368, 123883, 153662, 178667, 189835, 189973, 226965, 227520, 264031, 273979, 153662, 203799, 226545, 247447, 255489, 88733, 232131, 8245, 35836, 51450, 52853, 73651, 98391, 114368, 123883, 144531, 153662, 158295, 177090, 177374, 178667, 189516, 216683, 227520, 228764, 247447, 264082, 51450, 52853, 73651, 114368, 123883, 130571, 153662, 158295, 177090, 177374, 189516, 201674, 207349, 217375, 227520, 247447, 264031, 56447, 68555, 153718, 156467, 189516, 216466, 227520, 247447, 264031, 266056, 51450, 69232, 73651, 98391, 114368, 123883, 153662, 158295, 165308, 189516, 201674, 203799, 216012, 216683, 227520, 247447, 68555, 203799, 13552, 112001, 126736, 153662, 216683, 227520, 254465, 35859, 46398, 153718, 245410, 157273, 40889, 147141, 153718, 193499, 201674, 227520, 247447, 264031, 13552, 98391, 104636, 114368, 123883, 153662, 177090, 213150, 216012, 218608, 226965, 227520, 234359, 16795, 98391, 114368, 123883, 153662, 177090, 213150, 216012, 227520, 234359, 16795, 30276, 69232, 98391, 114368, 123883, 130474, 153662, 156467, 167800, 213150, 216012, 226965, 234359, 236283, 247447, 153718, 190925, 227520, 264082, 30533, 46398, 263163, 101851, 111174, 208671, 69078, 138578, 196502, 235282, 274308, 31826, 35859, 55892, 110973, 153662, 158295, 184299, 185233, 210485, 236283, 254206, 274061, 16795, 23872, 55492, 136139, 264031, 10447, 30487, 37712, 236757, 162639, 25981, 31315, 137589, 165308, 209756, 225763, 266865, 23872, 271705, 157273, 165308, 203240, 31315, 6323, 49109, 100846, 146113, 31315, 130474, 31315, 240567, 35836, 55490, 62272, 77809, 158295, 66680, 130474, 136205, 153662, 158295, 36606, 73394, 130474, 136205, 187256, 207499, 39281, 21014, 39281, 207349, 247447, 7346, 102967, 235105, 235392, 21014, 63938, 69232, 266226, 38023, 252695, 14521, 16634, 135045, 32773, 47316, 55187, 110934, 181176, 229011, 242083, 261829, 31556, 37712, 38023, 40943, 42914, 55492, 95359, 96448, 100906, 104636, 107784, 142524, 144531, 148744, 153662, 196077, 230522, 249862, 36606, 39773, 42914, 70415, 104636, 125039, 153662, 155147, 162639, 230522, 249862, 263163, 271705, 40943, 104636, 125039, 153662, 189835, 230522, 249862, 271705, 162738, 102967, 168047, 16795, 21014, 30735, 107784, 110912, 113270, 127359, 155014, 177432, 187145, 189973, 228764, 230522, 232945, 234828, 236757, 269566, 269890, 21014, 22625, 31315, 47316, 48494, 102967, 110912, 113270, 155014, 189973, 208671, 232945, 37712, 110934, 235105, 13552, 14422, 35836, 40943, 53174, 68555, 87141, 105979, 126492, 147847, 177432, 2276, 112001, 208406, 114368, 123883, 140358, 153662, 177090, 216466, 227520, 7346, 242083, 245645, 8245, 16795, 21014, 30972, 53174, 76151, 93629, 95359, 143415, 155147, 163804, 177432, 189835, 190708, 197364, 214786, 221445, 226965, 227705, 241666, 251843, 26593, 30735, 33974, 38273, 46398, 49109, 104636, 141710, 157273, 158295, 162052, 162738, 166123, 172742, 177432, 226965, 258534, 7915, 30533, 52584, 60244, 89602, 100906, 104636, 115490, 125519, 174304, 239584, 245645, 249862, 255489, 101305, 203240, 229011, 38273, 40943, 42914, 60244, 104399, 105979, 137589, 147847, 189835, 197364, 204864, 207246, 210485, 230522, 271448, 14521, 49460, 75591, 76352, 93629, 95359, 107784, 110934, 156467, 230522, 234828, 245410, 46398, 55490, 69078, 83637, 94347, 111174, 142524, 153662, 208406, 211426, 236757, 21014, 75591, 156269, 189973, 190925, 248718, 251843, 23872, 30276, 36606, 46398, 63394, 104636, 112001, 112026, 163804, 218608, 229741, 232131, 246311, 249894, 30735, 35859, 44728, 46398, 56959, 104636, 155014, 156269, 158295, 162052, 162738, 178667, 208671, 241666, 258534, 2766, 6575, 30735, 35836, 37712, 44728, 63394, 83287, 95359, 101876, 104636, 128835, 141710, 149069, 156269, 162052, 183995, 184299, 189973, 209373, 225810, 258534, 268032, 30735, 33974, 38023, 46398, 60244, 95991, 104636, 108005, 141710, 156269, 157273, 162052, 172742, 208406, 208671, 227447, 231210, 258534, 268032, 14422, 30735, 31556, 83287, 101876, 104636, 146113, 156269, 158295, 162052, 177432, 227447, 258534, 265115, 277427, 209756, 222296, 264082, 6323, 7346, 26593, 30735, 46398, 104636, 112026, 130571, 141710, 156269, 157273, 162052, 172512, 183995, 207499, 208671, 231210, 241666, 258534, 147847, 153662, 87141, 112001, 124487, 219546, 76942, 104665, 113270, 189973, 211426, 224764, 232945, 95932, 66680, 84024, 102275, 113270, 113904, 158295, 178199, 236757, 247447, 251843, 69697, 76151, 153662, 235392, 16795, 31315, 112001, 114368, 123883, 144531, 153662, 12538, 16795, 21014, 56959, 69697, 76499, 77809, 78553, 87555, 137589, 159033, 162052, 185233, 224138, 246311, 247447, 266226, 76499, 25981, 28634, 143175, 143175, 56959, 36606, 51450, 88793, 143175, 252695, 113904, 218552, 55892, 112001, 51450, 225763, 141710, 166123, 88937, 6251, 7346, 29259, 51450, 84024, 106225, 146113, 162639, 187517, 189973, 242106, 39281, 83287, 113270, 153662, 251843, 255489, 12824, 23872, 31315, 55892, 70415, 158295, 207349, 251843, 30972, 113270, 126736, 137688, 158295, 190459, 247752, 251843, 258185, 31315, 158295, 247447, 247752, 265115, 6543, 95359, 190925, 227447, 235105, 242106, 252695, 259260, 8681, 36606, 95359, 197659, 232131, 25981, 104636, 145619, 153662, 158295, 241666, 242646, 247752, 261829, 273979, 47316, 158295, 252695, 104636, 153662, 158295, 232131, 232945, 251843, 35859, 95359, 102647, 104636, 126492, 212923, 235935, 258534, 8681, 93047, 95359, 100906, 104636, 110973, 123981, 126736, 153662, 169663, 172742, 211426, 222296, 224349, 240567, 248718, 251843, 33974, 95359, 115490, 140358, 218608, 261829, 270820, 40889, 76818, 107021, 248718, 6575, 8067, 75591, 146113, 177374, 227447, 242106, 259260, 8067, 92810, 223087, 242106, 259260, 264082, 30276, 104636, 158295, 162639, 190925, 232945, 247752, 30735, 51450, 114988, 162639, 242106, 52584, 83287, 83637, 106225, 135149, 190925, 252695, 92810, 241980, 274308, 35836, 95359, 102275, 104636, 104665, 158295, 224764, 227705, 232945, 247447, 16795, 31826, 40889, 83287, 95359, 110912, 112001, 124487, 135149, 196160, 225595, 236757, 241980, 261829, 19085, 107784, 124487, 158295, 232945, 234359, 242106, 255489, 16795, 31826, 68555, 124487, 135149, 203799, 261829, 19085, 31826, 201674, 207782, 216466, 241666, 268032, 270820, 143175, 187256, 189835, 214786, 28634, 38273, 114444, 232945, 247752, 254465, 104665, 158295, 187256, 242106, 247447, 247752, 258185, 28634, 47316, 124487, 135149, 140358, 235935, 242646, 110934, 162639, 242646, 247447, 247752, 255489, 258185, 2276, 44728, 113270, 140358, 190925, 232945, 247752, 8245, 26544, 153662, 183995, 266056, 7158, 16795, 31826, 104399, 110973, 225810, 236283, 241666, 255489, 31826, 69355, 181176, 193499, 196160, 229313, 236283, 31826, 130474, 135149, 203799, 158295, 212923, 47316, 241980, 95932, 104399, 123981, 264031, 30276, 76151, 98391, 140358, 156467, 187256, 209373, 229011, 242646, 259260, 25981, 235935, 242646, 247447, 251843, 261829, 148744, 98391, 113904, 130474, 158295, 242106, 28634, 98391, 235105, 270820, 187517, 123883, 136139, 264031, 31315, 73394, 16795, 55490, 98391, 130474, 187256, 225595, 229313, 258938, 7158, 55892, 98391, 143175, 158295, 196160, 216466, 258938, 98391, 162639, 68555, 110912, 254, 7346, 8681, 30735, 36606, 39616, 60707, 78553, 100906, 101851, 114368, 162639, 170634, 189835, 211426, 226965, 229741, 240144, 6563, 22625, 30533, 30735, 31556, 32773, 35859, 52199, 55492, 56447, 75591, 81492, 82407, 85426, 85993, 87141, 88733, 92810, 100846, 101851, 102702, 104636, 104665, 107784, 126736, 135045, 147141, 150968, 153662, 153718, 157273, 162639, 170513, 172512, 173415, 181176, 196160, 216466, 224138, 229313, 232131, 240144, 242083, 242106, 247447, 249628, 249862, 250184, 265313, 269566, 270820, 271705, 133747, 230522, 155014, 38023, 126492, 174304, 230522, 88733, 219546, 56447, 112001, 6575, 7346, 7915, 8245, 52584, 60244, 67840, 75591, 95359, 127233, 135149, 150979, 170513, 193499, 210485, 236172, 236757, 242083, 246513, 255489, 241980, 241980, 104636, 133571, 162639, 254, 60244, 87555, 88733, 165319, 177432, 184299, 226965, 234828, 87555, 88733, 100906, 166123, 177432, 208406, 226965, 234828, 214786, 265313, 31556, 14422, 230522, 189835, 102702, 242083, 102702, 102702, 6563, 10447, 23768, 55187, 105979, 108005, 117251, 165319, 210485, 232131, 236058, 98391, 110973, 126492, 110973, 126492, 98391, 110973, 126492, 16795, 46398, 128835, 158295, 185233, 102359, 185233, 254206, 31315, 185233, 189835, 236283, 46398, 102359, 184299, 185233, 270820, 274061, 23872, 94347, 110973, 128835, 230522, 35859, 93047, 110973, 126492, 185233, 211426, 236283, 254206, 67840, 93047, 102359, 158295, 185233, 236283, 69078, 16634, 38273, 102359, 110973, 185233, 189835, 236283, 274061, 12824, 66680, 102359, 110973, 114414, 128835, 185233, 189835, 211426, 234828, 236283, 254206, 258534, 274061, 25981, 31315, 100459, 102359, 126492, 140358, 178667, 185233, 189835, 236283, 29855, 66680, 102359, 140358, 236283, 189835, 55490, 87555, 102359, 140358, 185233, 211426, 236283, 60244, 16634, 102359, 112001, 126492, 184299, 185233, 209373, 236283, 252071, 254206, 274061, 100459, 126492, 185233, 189835, 236283, 254206, 23872, 66680, 110973, 126492, 158295, 178199, 184299, 185233, 209373, 211426, 254206, 6575, 23768, 46398, 56447, 69355, 77809, 137589, 271448, 138578, 163804, 218552, 234359, 254465, 16795, 60244, 73394, 85993, 125519, 137688, 148744, 157273, 162639, 165308, 196502, 232131, 242299, 30487, 60244, 67840, 75591, 95359, 150979, 160819, 181687, 229741, 231210, 263163, 4017, 7346, 19664, 49460, 75591, 135149, 140358, 142524, 173415, 259260, 263163, 46398, 92810, 187256, 213150, 230522, 236757, 6251, 13273, 16795, 21014, 35859, 68555, 112026, 147847, 225763, 235282, 23768, 60337, 140358, 142524, 76151, 227520, 6575, 7346, 8067, 16795, 35859, 55187, 56959, 60244, 60707, 62272, 102647, 104636, 110934, 115003, 144531, 145641, 153718, 163804, 173415, 218552, 218608, 226545, 240567, 241980, 245410, 247447, 258534, 261829, 76151, 77809, 150498, 115490, 117251, 144555, 190708, 227447, 21576, 30533, 40943, 56447, 69078, 95359, 100846, 104636, 104665, 105979, 112001, 115003, 141493, 145641, 163804, 174304, 190459, 197364, 210485, 216466, 222296, 229313, 231210, 232131, 235282, 238120, 259260, 76499, 95359, 167800, 178199, 225763, 234828, 31826, 35859, 47316, 104636, 141493, 190925, 193499, 210485, 216683, 228764, 235282, 13273, 21014, 31826, 35859, 104636, 229011, 238120, 31826, 70415, 104636, 114444, 123981, 126736, 158295, 238120, 264082, 271448, 30972, 31826, 35857, 104636, 125519, 110912, 130571, 136205, 218552, 6323, 162639, 224764, 136139, 177374, 203240, 246513, 26544, 102275, 141493, 150968, 190925, 266056, 25981, 76151, 98391, 141493, 153662, 156467, 158295, 193499, 35857, 76151, 98391, 153662, 254465, 30972, 31826, 101876, 104636, 133747, 187145, 254, 6563, 12538, 16795, 24921, 30735, 76499, 77809, 100459, 101876, 115003, 126492, 138578, 182993, 190459, 218552, 218608, 221445, 240567, 251422, 12538, 31826, 51883, 104399, 126492, 128835, 140358, 158295, 177432, 184299, 187256, 209373, 274061, 19085, 28634, 31826, 40889, 89602, 95932, 126492, 135045, 148744, 184299, 224764, 30972, 158295, 172742, 232945, 258534, 207499, 13273, 16106, 37712, 39773, 44728, 50225, 65258, 85757, 89602, 92810, 95359, 100846, 110912, 110973, 156150, 159033, 190708, 193499, 207246, 207782, 209373, 212923, 218552, 223154, 225763, 232131, 235282, 236172, 240144, 240567, 245410, 251843, 255489, 261829, 98391, 92810, 105979, 197659, 223087, 255489, 76151, 123883, 145619, 247447, 143175, 145619, 153662, 156467, 169663, 187517, 190925, 76151, 98391, 123883, 145619, 247447, 33974, 67840, 144531, 153662, 156467, 208147, 23872, 26544, 53174, 69697, 114368, 277427, 4017, 7158, 8245, 22625, 30533, 30972, 100459, 113519, 145641, 236757, 239584, 240568, 271448, 95932, 104665, 120093, 126492, 189835, 241980, 10447, 16795, 21014, 28634, 35836, 56447, 68555, 107784, 126492, 153662, 214786, 236283, 241980, 242083, 259629, 274061, 16795, 35836, 92810, 110934, 204864, 209373, 225595, 227520, 268622, 78783, 113519, 218552, 230522, 269566, 31826, 38023, 56856, 95359, 102647, 107784, 112026, 184299, 207782, 210485, 216683, 231827, 254206, 258534, 274061, 143175, 55892, 189835, 23872, 211426, 221445, 229313, 135045, 150979, 155014, 184299, 112001, 4017, 7158, 16795, 21014, 30487, 37712, 56959, 75591, 84024, 95932, 101305, 110934, 111174, 113904, 137688, 162639, 197364, 250184, 259629, 56959, 31315, 114368, 254465, 16795, 30276, 104636, 123883, 126736, 153662, 226545, 247447, 23872, 102647, 123981, 28634, 137589, 209756, 252695, 85656, 92810, 241666, 23872, 31826, 104636, 125519, 205980, 229011, 241666, 264082, 69697, 178667, 7346, 32773, 155147, 173415, 181176, 197364, 211426, 230522, 240568, 269566, 13552, 16795, 114368, 190708, 254465, 76151, 123883, 153662, 13552, 25981, 102359, 104636, 114368, 114414, 216683, 254465, 149069, 102359, 229011, 31826, 55490, 104636, 126736, 141493, 158295, 31826, 104636, 112001, 60707, 95359, 127359, 230522, 251394, 6563, 26544, 31315, 62272, 78783, 78834, 83637, 114368, 140358, 147847, 169233, 178667, 189835, 210485, 245410, 252071, 254465, 150979, 204864, 76151, 123883, 153662, 197364, 247447, 271448, 8245, 16795, 76942, 110912, 110973, 140358, 181176, 208406, 236172, 6563, 28634, 78783, 169233, 189835, 245410, 246513, 254465, 32773, 63394, 78834, 94347, 117251, 140358, 156150, 189835, 234828, 258534, 31556, 104636, 107784, 126736, 35836, 153662, 31826, 102967, 104636, 147847, 190925, 201447, 229011, 68555, 76151, 120093, 123883, 229011, 247447, 264082, 130571, 30276, 31826, 70415, 88733, 102647, 104636, 125519, 135149, 216683, 226545, 234828, 235282, 246513, 249628, 249862, 259629, 93629, 101876, 241666, 255489, 269890, 13273, 23872, 95359, 104636, 107784, 125519, 147847, 158295, 226545, 240568, 31826, 40889, 102647, 104636, 135149, 147847, 178667, 201447, 241666, 241980, 247752, 264082, 30972, 31826, 46398, 102967, 104636, 110973, 125519, 7346, 26593, 31826, 41084, 95359, 123981, 158295, 227705, 240568, 249862, 264082, 76151, 77809, 81492, 55492, 56856, 187145, 204864, 230522, 30533, 104636, 123981, 141493, 147847, 149069, 150498, 153662, 228764, 13273, 25981, 29259, 31826, 104636, 229011, 235282, 241666, 264031, 264082, 268032, 29855, 95991, 96448, 102647, 150498, 185233, 187517, 218608, 230522, 266056, 66680, 157273, 143415, 69078, 75591, 93629, 95932, 31556, 87141, 100459, 150498, 7158, 42914, 136205, 153662, 19085, 204864, 13552, 52199, 114368, 129716, 140358, 158295, 6575, 37712, 41084, 60244, 60337, 66680, 69078, 75591, 77809, 88733, 89602, 112001, 113904, 114988, 135149, 136139, 160819, 204864, 242083, 247752, 271195, 31315, 65258, 230522, 266865, 69078, 110934, 142524, 52199, 53174, 114368, 197659, 52199, 55490, 114368, 126492, 185233, 259629, 69078, 204864, 255489, 6575, 29855, 35857, 12824, 21014, 60244, 162738, 169663, 246311, 21014, 133747, 236757, 35857, 136139, 39773, 159033, 177072, 187256, 224349, 235935, 38023, 39773, 55490, 56856, 162639, 187256, 204864, 245410, 16634, 31556, 77809, 155147, 187145, 252695, 62891, 222296, 258938, 6323, 31315, 140358, 233911, 136205, 181176, 236283, 85757, 263163, 31315, 35859, 95359, 130474, 178199, 218552, 235282, 250184, 37712, 6251, 6575, 36606, 38023, 50225, 60244, 93047, 156150, 189973, 263163, 277427, 16106, 100906, 110934, 126604, 189973, 222296, 246311, 141710, 143415, 223154, 224138, 230522, 6575, 7915, 8681, 14422, 16795, 22625, 40889, 46398, 55187, 62891, 110934, 209756, 218608, 248718, 266226, 6575, 12538, 16795, 21014, 40943, 53174, 60244, 75591, 80683, 81492, 89602, 115490, 125692, 150968, 150979, 156150, 160819, 169233, 187145, 204864, 218552, 235282, 254465, 258938, 56959, 60244, 63938, 78834, 88937, 95359, 115003, 128835, 135149, 153662, 170513, 217375, 230522, 268110, 4017, 6251, 6575, 16634, 21014, 22625, 37712, 55187, 76151, 80683, 82407, 85757, 101876, 102967, 112026, 113270, 113519, 133747, 137589, 140358, 153662, 162639, 168047, 169663, 177090, 178199, 204864, 223087, 227705, 232131, 236058, 236757, 242083, 255489, 261829, 269566, 16634, 95359, 101305, 261829, 254, 30487, 31556, 142524, 193499, 30487, 81977, 142524, 193499, 30487, 37712, 142524, 193499, 204864, 224349, 236058, 60244, 69078, 82407, 94347, 16795, 30276, 37712, 96448, 117251, 120093, 211426, 224138, 240567, 242083, 31315, 39773, 143175, 203799, 201447, 249628, 31315, 76151, 213150, 23768, 93047, 162639, 21014, 36606, 251843, 4017, 6251, 6575, 14422, 28634, 30276, 46398, 56959, 60244, 101876, 102967, 165319, 181687, 187145, 192093, 208671, 211426, 240567, 251394, 4017, 10447, 16795, 21659, 23872, 30533, 35859, 37712, 69078, 81977, 105979, 110912, 110934, 110973, 115003, 122429, 135149, 148744, 187145, 209756, 224430, 240567, 271448, 113270, 130571, 187256, 229313, 231210, 256407, 270820, 31315, 110912, 178199, 22625, 28634, 52584, 56856, 65258, 69078, 174216, 211426, 240567, 251843, 255489, 98391, 110912, 6563, 7346, 28634, 37712, 52584, 78783, 106225, 112001, 112026, 147847, 206534, 207246, 245645, 8245, 16795, 41084, 56856, 62891, 69078, 83637, 100906, 101305, 110912, 113519, 129716, 135831, 141710, 150979, 156269, 187145, 204864, 216466, 218552, 231210, 246311, 187517, 189516, 31315, 159033, 31315, 140358, 203799, 254465, 130571, 133747, 143175, 158295, 169663, 218552, 251843, 255489, 256407, 13273, 14422, 35859, 52584, 88793, 89602, 102275, 115003, 162639, 163804, 170947, 196077, 208147, 210485, 213150, 246513, 266056, 65258, 153662, 275970, 35857, 143175, 150979, 166123, 150979, 218552, 95359, 193499, 264031, 98391, 31315, 35857, 66680, 98391, 144555, 216012, 216466, 235935, 76151, 110973, 126492, 128835, 170513, 185233, 189835, 236283, 241980, 259629, 274061, 95359, 110973, 141710, 172742, 271448, 6575, 7346, 36606, 110973, 137688, 143415, 162639, 224430, 225763, 232131, 260897, 6543, 16795, 23872, 31826, 55490, 110973, 126492, 185233, 236283, 189835, 10447, 16795, 22625, 39281, 60244, 63938, 93629, 108005, 115003, 136139, 137688, 140358, 144531, 181687, 185233, 208147, 222296, 242299, 271448, 140358, 145619, 147847, 277427, 162738, 165308, 238781, 153662, 264082, 66680, 143175, 266056, 10447, 55187, 65258, 96448, 125039, 135831, 177072, 236283, 268622, 277427, 16795, 40889, 87141, 104665, 196160, 241980, 189835, 162639, 33974, 104636, 235282, 240568, 31315, 50225, 98391, 231210, 6563, 13552, 14422, 16795, 23768, 25409, 30487, 35857, 35859, 40943, 48494, 52584, 60244, 69078, 81492, 82407, 83287, 89602, 95932, 105979, 106225, 113270, 114444, 125692, 135831, 143175, 144531, 150968, 173415, 190925, 196502, 203240, 208147, 216466, 221445, 223087, 224430, 225763, 227705, 231210, 235392, 235935, 242299, 260897, 268622, 270820, 30487, 98391, 143415, 182993, 217375, 235282, 251422, 13552, 25409, 88793, 105979, 127359, 173415, 190925, 223154, 231210, 235935, 246513, 8245, 182993, 223087, 87141, 189835, 211426, 266226, 89602, 117251, 192093, 218608, 55187, 101876, 226965, 234828, 268032, 7158, 31826, 95359, 126492, 128835, 158295, 184299, 206074, 232131, 236058, 258534, 273979, 189835, 25981, 112001, 141493, 153662, 162639, 193499, 76151, 85656, 93047, 112001, 181176, 265313, 31826, 40889, 40943, 104636, 229011, 235282, 261829, 264082, 234359, 19085, 102647, 135149, 178199, 204864, 225595, 232131, 234828, 261829, 268032, 95359, 258534, 39773, 224764, 16106, 35857, 227447, 233911, 166123, 143175, 21576, 46398, 150979, 2766, 102967, 187256, 60244, 81977, 6563, 50225, 60244, 89602, 101305, 105979, 159033, 178199, 232131, 265115, 268110, 60244, 64436, 89602, 95359, 133747, 173415, 181687, 182993, 229313, 235282, 254465, 268110, 182993, 125519, 229741, 82407, 38273, 87141, 189835, 153662, 240568, 236283, 269890, 68555, 135149, 197659, 6251, 30735, 40889, 60707, 78834, 89602, 114988, 178667, 245410, 252695, 55492, 183995, 100459, 260897, 16795, 35857, 51450, 64436, 78834, 95359, 113519, 174216, 236283, 13273, 187145, 236283, 242106, 274061, 6563, 7346, 7915, 10447, 13552, 13850, 16795, 21576, 22625, 36606, 39773, 40889, 73394, 85993, 89602, 98391, 105979, 108005, 110912, 112001, 117251, 122429, 130571, 141493, 145619, 181687, 182993, 190925, 208671, 209756, 217375, 221445, 223154, 235935, 236283, 249894, 258938, 270820, 271195, 6563, 16795, 31315, 38023, 46398, 60244, 85426, 95359, 108005, 138578, 147141, 170634, 210485, 236283, 266056, 16795, 52584, 56856, 60244, 95991, 177072, 183995, 187256, 196077, 35859, 41084, 55892, 89602, 112001, 189835, 204864, 236283, 242299, 261829, 143175, 6563, 7346, 13273, 60337, 110934, 115003, 165308, 204864, 210485, 6575, 25981, 31556, 93047, 125692, 133747, 145641, 148744, 155147, 162639, 211426, 218608, 224349, 236283, 238120, 242083, 258938, 261829, 13273, 136205, 197659, 226965, 238120, 242083, 6575, 7346, 30276, 30533, 35859, 52584, 60244, 60707, 69971, 76818, 80683, 101851, 113519, 135149, 137589, 143415, 144555, 153662, 157273, 192093, 224138, 229313, 232131, 240567, 266226, 269566, 6575, 7346, 48494, 52584, 69971, 95359, 101851, 110912, 135149, 197364, 208147, 211426, 235105, 245410, 19664, 52584, 81977, 102647, 107784, 110934, 117251, 133747, 162639, 231210, 30735, 52584, 60244, 69971, 100906, 150979, 160819, 177072, 240567, 271705, 6575, 37712, 75591, 126736, 133747, 169663, 204864, 222296, 224138, 224349, 234828, 82407, 242299, 245645, 30533, 60244, 100459, 110912, 135149, 187256, 189835, 208147, 226965, 229313, 261829, 268622, 271448, 16795, 30533, 35859, 252695, 46398, 89602, 95359, 113270, 123981, 126604, 141710, 143415, 159033, 271448, 13850, 56959, 76942, 78783, 144531, 162639, 187256, 190925, 212923, 234828, 238120, 251422, 259629, 165308, 177072, 192093, 209756, 230522, 85656, 98391, 102702, 114368, 229011, 236757, 30735, 36606, 145449, 146113, 156269, 158295, 236283, 16634, 87555, 95359, 105979, 126604, 133747, 162738, 207246, 239584, 251843, 255489, 2276, 23768, 25409, 30487, 49460, 78783, 96448, 102967, 113270, 115003, 127359, 130571, 142524, 187256, 192093, 217375, 236058, 251394, 251843, 258534, 258938, 260897, 12538, 39773, 62891, 145449, 230522, 158295, 69971, 147847, 264082, 35836, 55187, 60244, 77809, 88937, 165319, 184299, 187256, 204864, 234828, 249894, 251394, 274308, 189835, 25981, 51883, 172030, 153662, 35859, 78553, 98391, 189835, 189835, 189835, 13273, 136205, 16795, 35859, 47316, 56447, 60244, 76352, 87141, 114444, 141493, 148744, 153662, 162639, 170513, 174216, 177072, 190459, 204864, 208671, 219546, 226545, 241980, 245645, 266056, 269890, 273979, 107784, 110973, 140358, 141493, 141902, 177072, 208671, 219546, 241980, 242083, 266056, 12538, 16795, 25981, 35859, 39773, 47316, 55492, 56447, 87141, 140358, 153662, 177072, 261829, 69697, 126736, 258185, 123981, 98391, 98391, 189835, 2766, 178199, 76499, 122429, 159033, 275970, 21014, 35859, 69355, 110973, 133747, 187145, 234359, 246311, 251843, 13273, 16795, 101305, 130571, 236757, 255489, 273979, 60244, 32773, 68555, 102359, 189835, 76499, 189835, 62891, 13850, 29259, 32773, 35857, 40889, 78783, 150979, 196077, 196502, 218608, 227520, 88733, 30533, 88733, 112001, 162639, 138578, 189835, 189835, 110973, 212923, 2766, 30972, 31826, 38023, 46398, 55187, 65258, 93047, 102275, 114988, 136139, 167800, 168047, 187145, 187256, 249862, 251422, 258938, 260897, 271448, 8245, 37712, 60244, 104636, 122429, 162639, 181687, 6543, 6575, 21576, 64436, 69971, 88793, 89602, 95359, 95991, 110912, 110934, 113270, 114988, 115003, 141710, 145449, 177072, 210485, 221445, 235935, 251843, 6543, 21576, 56959, 88793, 89602, 95991, 110912, 110934, 114988, 160819, 190925, 210485, 212923, 233911, 234359, 6575, 14422, 16106, 47316, 48494, 49460, 60244, 67840, 88793, 89602, 110912, 110934, 113270, 114988, 133571, 141493, 141710, 145449, 210485, 221445, 224349, 233911, 235935, 265115, 143175, 115490, 216012, 114368, 162639, 238781, 51883, 35836, 104665, 106225, 163804, 216466, 240568, 242646, 98391, 181176, 247752, 16795, 114368, 216012, 98391, 156467, 208147, 98391, 7158, 7346, 10447, 14422, 29259, 40889, 48494, 113519, 125519, 170634, 185233, 210485, 236283, 265115, 271448, 16795, 23872, 31556, 46398, 78783, 104636, 135265, 141493, 150979, 173415, 190459, 206074, 208671, 209373, 223087, 249894, 264031, 16795, 29259, 35857, 76352, 85426, 104636, 112001, 148744, 153662, 170634, 185233, 251843, 259260, 261829, 23872, 35859, 40889, 46398, 55492, 62891, 78783, 112026, 135265, 141493, 174304, 208671, 7346, 44728, 55492, 83287, 95359, 123981, 126736, 209756, 216683, 231210, 273979, 6563, 189835, 189835, 95359, 125519, 112001, 130571, 260897, 21014, 55490, 35836, 8245, 96448, 88733, 150979, 189835, 143175, 242299, 150979, 150979, 143175, 35859, 225763, 143175, 226965, 158295, 88733, 56447, 89602, 133747, 162738, 47316, 142524, 69078, 106225, 239584, 255489, 60244, 76818, 222296, 224349, 239584, 8681, 156150, 184299, 229741, 4017, 6543, 38023, 78783, 140358, 145449, 145641, 148744, 157273, 178667, 212923, 223087, 224138, 231210, 235282, 236058, 268110, 23872, 170513, 8681, 201447, 229313, 229741, 246311, 130571, 197364, 229313, 242083, 246311, 16795, 85757, 89602, 110934, 117251, 133747, 144531, 224349, 229313, 229741, 261829, 6575, 89602, 144531, 162639, 246311, 275970, 155147, 181687, 143175, 143175, 218552, 98391, 25981, 22625, 60244, 153662, 136205, 254206, 112001]\n"
          ]
        }
      ]
    },
    {
      "cell_type": "code",
      "metadata": {
        "colab": {
          "base_uri": "https://localhost:8080/"
        },
        "id": "g7A3F1p28sCZ",
        "outputId": "8862fa48-573f-4140-c900-ea9c75b0a854"
      },
      "source": [
        "user=int(input(\"Enter User ID from above list for book recommendation:  \"))\n",
        "model_recommender.recommend_book(cf_recommender_model,user)"
      ],
      "execution_count": 151,
      "outputs": [
        {
          "output_type": "stream",
          "name": "stdout",
          "text": [
            "Enter User ID from above list for book recommendation:  110934\n",
            "Recommendation for User-ID =  110934\n",
            "         ISBN                                         Book-Title  recStrength\n",
            "0  059035342X  Harry Potter and the Sorcerer's Stone (Harry P...     1.978446\n",
            "1  0671001795                                  Two for the Dough     1.778162\n",
            "2  0590353403     Harry Potter and the Sorcerer's Stone (Book 1)     1.712296\n",
            "3  0312983867  Hard Eight : A Stephanie Plum Novel (A Stephan...     1.699118\n",
            "4  043935806X  Harry Potter and the Order of the Phoenix (Boo...     1.303833\n",
            "5  0345370775                                      Jurassic Park     1.275817\n",
            "6  0142001740                            The Secret Life of Bees     1.244652\n",
            "7  0312195516                The Red Tent (Bestselling Backlist)     1.226270\n",
            "8  0385484518  Tuesdays with Morrie: An Old Man, a Young Man,...     1.067487\n",
            "9  0060392452  Stupid White Men ...and Other Sorry Excuses fo...     0.990754\n"
          ]
        }
      ]
    },
    {
      "cell_type": "code",
      "metadata": {
        "id": "uHHyjVGp8sNp"
      },
      "source": [
        "#Top-N accuracy metrics consts\n",
        "EVAL_RANDOM_SAMPLE_NON_INTERACTED_ITEMS = 100\n",
        "\n",
        "class ModelEvaluator:\n",
        "\n",
        "    # Function for getting the set of items which a user has not interacted with\n",
        "    def get_not_interacted_items_sample(self, UserID, sample_size, seed=42):\n",
        "        interacted_items = get_items_interacted(UserID, interactions_full_indexed_df)\n",
        "        all_items = set(us_user_rating['ISBN'])\n",
        "        non_interacted_items = all_items - interacted_items\n",
        "\n",
        "        random.seed(seed)\n",
        "        non_interacted_items_sample = random.sample(non_interacted_items, sample_size)\n",
        "        return set(non_interacted_items_sample)\n",
        "\n",
        "    # Function to verify whether a particular item_id was present in the set of top N recommended items\n",
        "    def _verify_hit_top_n(self, item_id, recommended_items, topn):        \n",
        "            try:\n",
        "                index = next(i for i, c in enumerate(recommended_items) if c == item_id)\n",
        "            except:\n",
        "                index = -1\n",
        "            hit = int(index in range(0, topn))\n",
        "            return hit, index\n",
        "    \n",
        "    # Function to evaluate the performance of model for each user\n",
        "    def evaluate_model_for_user(self, model, person_id):\n",
        "        \n",
        "        # Getting the items in test set\n",
        "        interacted_values_testset = interactions_test_indexed_df.loc[person_id]\n",
        "        \n",
        "        if type(interacted_values_testset['ISBN']) == pd.Series:\n",
        "            person_interacted_items_testset = set(interacted_values_testset['ISBN'])\n",
        "        else:\n",
        "            person_interacted_items_testset = set([str(interacted_values_testset['ISBN'])])\n",
        "            \n",
        "        interacted_items_count_testset = len(person_interacted_items_testset) \n",
        "\n",
        "        # Getting a ranked recommendation list from the model for a given user\n",
        "        person_recs_df = model.recommend_items(person_id, items_to_ignore=get_items_interacted(person_id, interactions_train_indexed_df),topn=10000000000)\n",
        "\n",
        "        hits_at_5_count = 0\n",
        "        hits_at_10_count = 0\n",
        "        hits_at_15_count = 0\n",
        "        \n",
        "        # For each item the user has interacted in test set\n",
        "        for item_id in person_interacted_items_testset:\n",
        "            \n",
        "            # Getting a random sample of 100 items the user has not interacted with\n",
        "            non_interacted_items_sample = self.get_not_interacted_items_sample(person_id, sample_size=EVAL_RANDOM_SAMPLE_NON_INTERACTED_ITEMS, seed=item_id)    #%(2**32))\n",
        "\n",
        "            # Combining the current interacted item with the 100 random items\n",
        "            items_to_filter_recs = non_interacted_items_sample.union(set([item_id]))\n",
        "\n",
        "            # Filtering only recommendations that are either the interacted item or from a random sample of 100 non-interacted items\n",
        "            valid_recs_df = person_recs_df[person_recs_df['ISBN'].isin(items_to_filter_recs)]                    \n",
        "            valid_recs = valid_recs_df['ISBN'].values\n",
        "            \n",
        "            # Verifying if the current interacted item is among the Top-N recommended items\n",
        "            hit_at_5, index_at_5 = self._verify_hit_top_n(item_id, valid_recs, 5)\n",
        "            hits_at_5_count += hit_at_5\n",
        "            hit_at_10, index_at_10 = self._verify_hit_top_n(item_id, valid_recs, 10)\n",
        "            hits_at_10_count += hit_at_10\n",
        "            hit_at_15, index_at_15 = self._verify_hit_top_n(item_id, valid_recs, 15)\n",
        "            hits_at_15_count += hit_at_15\n",
        "\n",
        "        # Recall is the rate of the interacted items that are ranked among the Top-N recommended items\n",
        "        recall_at_5 = hits_at_5_count / float(interacted_items_count_testset)\n",
        "        recall_at_10 = hits_at_10_count / float(interacted_items_count_testset)\n",
        "        recall_at_15 = hits_at_15_count / float(interacted_items_count_testset)\n",
        "\n",
        "        person_metrics = {'hits@5_count':hits_at_5_count, \n",
        "                          'hits@10_count':hits_at_10_count, \n",
        "                          'hits@15_count':hits_at_15_count,\n",
        "                          'interacted_count': interacted_items_count_testset,\n",
        "                          'recall@5': recall_at_5,\n",
        "                          'recall@10': recall_at_10,\n",
        "                          'recall@15': recall_at_15}\n",
        "        return person_metrics\n",
        "\n",
        "    \n",
        "    # Function to evaluate the performance of model at overall level\n",
        "    def evaluate_model(self, model):\n",
        "        \n",
        "        people_metrics = []\n",
        "        \n",
        "        for idx, person_id in enumerate(list(interactions_test_indexed_df.index.unique().values)):    \n",
        "            person_metrics = self.evaluate_model_for_user(model, person_id)  \n",
        "            person_metrics['User-ID'] = person_id\n",
        "            people_metrics.append(person_metrics)\n",
        "            \n",
        "        print('%d users processed' % idx)\n",
        "\n",
        "        detailed_results_df = pd.DataFrame(people_metrics).sort_values('interacted_count', ascending=False)\n",
        "        \n",
        "        global_recall_at_5 = detailed_results_df['hits@5_count'].sum() / float(detailed_results_df['interacted_count'].sum())\n",
        "        global_recall_at_10 = detailed_results_df['hits@10_count'].sum() / float(detailed_results_df['interacted_count'].sum())\n",
        "        global_recall_at_15 = detailed_results_df['hits@15_count'].sum() / float(detailed_results_df['interacted_count'].sum())\n",
        "        \n",
        "        global_metrics = {'modelName': model.get_model_name(),\n",
        "                          'recall@5': global_recall_at_5,\n",
        "                          'recall@10': global_recall_at_10,\n",
        "                          'recall@15': global_recall_at_15}    \n",
        "        return global_metrics, detailed_results_df\n",
        "    \n",
        "model_evaluator = ModelEvaluator()"
      ],
      "execution_count": 152,
      "outputs": []
    },
    {
      "cell_type": "code",
      "metadata": {
        "colab": {
          "base_uri": "https://localhost:8080/",
          "height": 444
        },
        "id": "td_osWNW8sUh",
        "outputId": "eaa7603b-e44a-48dd-8d4a-094322af3201"
      },
      "source": [
        "print('Evaluating Collaborative Filtering (SVD Matrix Factorization) model...')\n",
        "cf_global_metrics, cf_detailed_results_df = model_evaluator.evaluate_model(cf_recommender_model)\n",
        "\n",
        "print('\\nGlobal metrics:\\n%s' % cf_global_metrics)\n",
        "cf_detailed_results_df.head(10)"
      ],
      "execution_count": 153,
      "outputs": [
        {
          "output_type": "stream",
          "name": "stdout",
          "text": [
            "Evaluating Collaborative Filtering (SVD Matrix Factorization) model...\n",
            "412 users processed\n",
            "\n",
            "Global metrics:\n",
            "{'modelName': 'Collaborative Filtering', 'recall@5': 0.25972850678733034, 'recall@10': 0.36425339366515835, 'recall@15': 0.4475113122171946}\n"
          ]
        },
        {
          "output_type": "execute_result",
          "data": {
            "text/html": [
              "<div>\n",
              "<style scoped>\n",
              "    .dataframe tbody tr th:only-of-type {\n",
              "        vertical-align: middle;\n",
              "    }\n",
              "\n",
              "    .dataframe tbody tr th {\n",
              "        vertical-align: top;\n",
              "    }\n",
              "\n",
              "    .dataframe thead th {\n",
              "        text-align: right;\n",
              "    }\n",
              "</style>\n",
              "<table border=\"1\" class=\"dataframe\">\n",
              "  <thead>\n",
              "    <tr style=\"text-align: right;\">\n",
              "      <th></th>\n",
              "      <th>hits@5_count</th>\n",
              "      <th>hits@10_count</th>\n",
              "      <th>hits@15_count</th>\n",
              "      <th>interacted_count</th>\n",
              "      <th>recall@5</th>\n",
              "      <th>recall@10</th>\n",
              "      <th>recall@15</th>\n",
              "      <th>User-ID</th>\n",
              "    </tr>\n",
              "  </thead>\n",
              "  <tbody>\n",
              "    <tr>\n",
              "      <th>26</th>\n",
              "      <td>5</td>\n",
              "      <td>10</td>\n",
              "      <td>12</td>\n",
              "      <td>32</td>\n",
              "      <td>0.156250</td>\n",
              "      <td>0.312500</td>\n",
              "      <td>0.375000</td>\n",
              "      <td>16795</td>\n",
              "    </tr>\n",
              "    <tr>\n",
              "      <th>96</th>\n",
              "      <td>5</td>\n",
              "      <td>7</td>\n",
              "      <td>9</td>\n",
              "      <td>27</td>\n",
              "      <td>0.185185</td>\n",
              "      <td>0.259259</td>\n",
              "      <td>0.333333</td>\n",
              "      <td>95359</td>\n",
              "    </tr>\n",
              "    <tr>\n",
              "      <th>11</th>\n",
              "      <td>8</td>\n",
              "      <td>10</td>\n",
              "      <td>11</td>\n",
              "      <td>25</td>\n",
              "      <td>0.320000</td>\n",
              "      <td>0.400000</td>\n",
              "      <td>0.440000</td>\n",
              "      <td>153662</td>\n",
              "    </tr>\n",
              "    <tr>\n",
              "      <th>2</th>\n",
              "      <td>9</td>\n",
              "      <td>9</td>\n",
              "      <td>11</td>\n",
              "      <td>24</td>\n",
              "      <td>0.375000</td>\n",
              "      <td>0.375000</td>\n",
              "      <td>0.458333</td>\n",
              "      <td>104636</td>\n",
              "    </tr>\n",
              "    <tr>\n",
              "      <th>126</th>\n",
              "      <td>7</td>\n",
              "      <td>9</td>\n",
              "      <td>12</td>\n",
              "      <td>22</td>\n",
              "      <td>0.318182</td>\n",
              "      <td>0.409091</td>\n",
              "      <td>0.545455</td>\n",
              "      <td>158295</td>\n",
              "    </tr>\n",
              "    <tr>\n",
              "      <th>48</th>\n",
              "      <td>7</td>\n",
              "      <td>9</td>\n",
              "      <td>11</td>\n",
              "      <td>21</td>\n",
              "      <td>0.333333</td>\n",
              "      <td>0.428571</td>\n",
              "      <td>0.523810</td>\n",
              "      <td>114368</td>\n",
              "    </tr>\n",
              "    <tr>\n",
              "      <th>58</th>\n",
              "      <td>4</td>\n",
              "      <td>7</td>\n",
              "      <td>9</td>\n",
              "      <td>18</td>\n",
              "      <td>0.222222</td>\n",
              "      <td>0.388889</td>\n",
              "      <td>0.500000</td>\n",
              "      <td>60244</td>\n",
              "    </tr>\n",
              "    <tr>\n",
              "      <th>40</th>\n",
              "      <td>7</td>\n",
              "      <td>9</td>\n",
              "      <td>11</td>\n",
              "      <td>17</td>\n",
              "      <td>0.411765</td>\n",
              "      <td>0.529412</td>\n",
              "      <td>0.647059</td>\n",
              "      <td>258534</td>\n",
              "    </tr>\n",
              "    <tr>\n",
              "      <th>32</th>\n",
              "      <td>5</td>\n",
              "      <td>6</td>\n",
              "      <td>8</td>\n",
              "      <td>17</td>\n",
              "      <td>0.294118</td>\n",
              "      <td>0.352941</td>\n",
              "      <td>0.470588</td>\n",
              "      <td>35859</td>\n",
              "    </tr>\n",
              "    <tr>\n",
              "      <th>80</th>\n",
              "      <td>4</td>\n",
              "      <td>6</td>\n",
              "      <td>7</td>\n",
              "      <td>17</td>\n",
              "      <td>0.235294</td>\n",
              "      <td>0.352941</td>\n",
              "      <td>0.411765</td>\n",
              "      <td>140358</td>\n",
              "    </tr>\n",
              "  </tbody>\n",
              "</table>\n",
              "</div>"
            ],
            "text/plain": [
              "     hits@5_count  hits@10_count  hits@15_count  ...  recall@10  recall@15  User-ID\n",
              "26              5             10             12  ...   0.312500   0.375000    16795\n",
              "96              5              7              9  ...   0.259259   0.333333    95359\n",
              "11              8             10             11  ...   0.400000   0.440000   153662\n",
              "2               9              9             11  ...   0.375000   0.458333   104636\n",
              "126             7              9             12  ...   0.409091   0.545455   158295\n",
              "48              7              9             11  ...   0.428571   0.523810   114368\n",
              "58              4              7              9  ...   0.388889   0.500000    60244\n",
              "40              7              9             11  ...   0.529412   0.647059   258534\n",
              "32              5              6              8  ...   0.352941   0.470588    35859\n",
              "80              4              6              7  ...   0.352941   0.411765   140358\n",
              "\n",
              "[10 rows x 8 columns]"
            ]
          },
          "metadata": {},
          "execution_count": 153
        }
      ]
    },
    {
      "cell_type": "code",
      "metadata": {
        "id": "3oT7gdlBiZHu"
      },
      "source": [
        ""
      ],
      "execution_count": 153,
      "outputs": []
    },
    {
      "cell_type": "markdown",
      "metadata": {
        "id": "9zaYpTxtjw12"
      },
      "source": [
        "# Conclusion"
      ]
    },
    {
      "cell_type": "markdown",
      "metadata": {
        "id": "qyN6HoryjvU2"
      },
      "source": [
        "As we can see, after implementing Collaborative Filtering and evaluating it using SVD matrix we are satisfied with the results. A recall rate of around 50 for hit@15 is fair enough for such a large dataset. Also since it is an unsupervised learning algorithm trying to find good books that users will likes which in itself is a very vast and complicated study."
      ]
    },
    {
      "cell_type": "code",
      "metadata": {
        "id": "R37-ikN7jvBX"
      },
      "source": [
        ""
      ],
      "execution_count": null,
      "outputs": []
    }
  ]
}